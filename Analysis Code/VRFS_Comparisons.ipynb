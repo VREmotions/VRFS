{
  "nbformat": 4,
  "nbformat_minor": 0,
  "metadata": {
    "colab": {
      "provenance": []
    },
    "kernelspec": {
      "name": "python3",
      "display_name": "Python 3"
    },
    "language_info": {
      "name": "python"
    }
  },
  "cells": [
    {
      "cell_type": "code",
      "execution_count": null,
      "metadata": {
        "id": "lZ8nxHIkjDmb",
        "colab": {
          "base_uri": "https://localhost:8080/"
        },
        "outputId": "748fb682-2b90-4e2a-dbc8-2216b2a176dc"
      },
      "outputs": [
        {
          "output_type": "stream",
          "name": "stdout",
          "text": [
            "Looking in indexes: https://pypi.org/simple, https://us-python.pkg.dev/colab-wheels/public/simple/\n",
            "Collecting pingouin\n",
            "  Downloading pingouin-0.5.3-py3-none-any.whl (198 kB)\n",
            "\u001b[2K     \u001b[90m━━━━━━━━━━━━━━━━━━━━━━━━━━━━━━━━━━━━━━━\u001b[0m \u001b[32m198.6/198.6 kB\u001b[0m \u001b[31m8.1 MB/s\u001b[0m eta \u001b[36m0:00:00\u001b[0m\n",
            "\u001b[?25hRequirement already satisfied: statsmodels>=0.13 in /usr/local/lib/python3.10/dist-packages (from pingouin) (0.13.5)\n",
            "Requirement already satisfied: pandas>=1.0 in /usr/local/lib/python3.10/dist-packages (from pingouin) (1.5.3)\n",
            "Collecting pandas-flavor>=0.2.0\n",
            "  Downloading pandas_flavor-0.5.0-py3-none-any.whl (7.1 kB)\n",
            "Requirement already satisfied: numpy>=1.19 in /usr/local/lib/python3.10/dist-packages (from pingouin) (1.22.4)\n",
            "Collecting outdated\n",
            "  Downloading outdated-0.2.2-py2.py3-none-any.whl (7.5 kB)\n",
            "Requirement already satisfied: scipy>=1.7 in /usr/local/lib/python3.10/dist-packages (from pingouin) (1.10.1)\n",
            "Requirement already satisfied: seaborn>=0.11 in /usr/local/lib/python3.10/dist-packages (from pingouin) (0.12.2)\n",
            "Requirement already satisfied: tabulate in /usr/local/lib/python3.10/dist-packages (from pingouin) (0.8.10)\n",
            "Requirement already satisfied: scikit-learn in /usr/local/lib/python3.10/dist-packages (from pingouin) (1.2.2)\n",
            "Requirement already satisfied: matplotlib>=3.0.2 in /usr/local/lib/python3.10/dist-packages (from pingouin) (3.7.1)\n",
            "Requirement already satisfied: kiwisolver>=1.0.1 in /usr/local/lib/python3.10/dist-packages (from matplotlib>=3.0.2->pingouin) (1.4.4)\n",
            "Requirement already satisfied: python-dateutil>=2.7 in /usr/local/lib/python3.10/dist-packages (from matplotlib>=3.0.2->pingouin) (2.8.2)\n",
            "Requirement already satisfied: pyparsing>=2.3.1 in /usr/local/lib/python3.10/dist-packages (from matplotlib>=3.0.2->pingouin) (3.0.9)\n",
            "Requirement already satisfied: pillow>=6.2.0 in /usr/local/lib/python3.10/dist-packages (from matplotlib>=3.0.2->pingouin) (8.4.0)\n",
            "Requirement already satisfied: fonttools>=4.22.0 in /usr/local/lib/python3.10/dist-packages (from matplotlib>=3.0.2->pingouin) (4.39.3)\n",
            "Requirement already satisfied: contourpy>=1.0.1 in /usr/local/lib/python3.10/dist-packages (from matplotlib>=3.0.2->pingouin) (1.0.7)\n",
            "Requirement already satisfied: cycler>=0.10 in /usr/local/lib/python3.10/dist-packages (from matplotlib>=3.0.2->pingouin) (0.11.0)\n",
            "Requirement already satisfied: packaging>=20.0 in /usr/local/lib/python3.10/dist-packages (from matplotlib>=3.0.2->pingouin) (23.1)\n",
            "Requirement already satisfied: pytz>=2020.1 in /usr/local/lib/python3.10/dist-packages (from pandas>=1.0->pingouin) (2022.7.1)\n",
            "Requirement already satisfied: lazy-loader>=0.1 in /usr/local/lib/python3.10/dist-packages (from pandas-flavor>=0.2.0->pingouin) (0.2)\n",
            "Requirement already satisfied: xarray in /usr/local/lib/python3.10/dist-packages (from pandas-flavor>=0.2.0->pingouin) (2022.12.0)\n",
            "Requirement already satisfied: patsy>=0.5.2 in /usr/local/lib/python3.10/dist-packages (from statsmodels>=0.13->pingouin) (0.5.3)\n",
            "Requirement already satisfied: requests in /usr/local/lib/python3.10/dist-packages (from outdated->pingouin) (2.27.1)\n",
            "Requirement already satisfied: setuptools>=44 in /usr/local/lib/python3.10/dist-packages (from outdated->pingouin) (67.7.2)\n",
            "Collecting littleutils\n",
            "  Downloading littleutils-0.2.2.tar.gz (6.6 kB)\n",
            "  Preparing metadata (setup.py) ... \u001b[?25l\u001b[?25hdone\n",
            "Requirement already satisfied: joblib>=1.1.1 in /usr/local/lib/python3.10/dist-packages (from scikit-learn->pingouin) (1.2.0)\n",
            "Requirement already satisfied: threadpoolctl>=2.0.0 in /usr/local/lib/python3.10/dist-packages (from scikit-learn->pingouin) (3.1.0)\n",
            "Requirement already satisfied: six in /usr/local/lib/python3.10/dist-packages (from patsy>=0.5.2->statsmodels>=0.13->pingouin) (1.16.0)\n",
            "Requirement already satisfied: urllib3<1.27,>=1.21.1 in /usr/local/lib/python3.10/dist-packages (from requests->outdated->pingouin) (1.26.15)\n",
            "Requirement already satisfied: charset-normalizer~=2.0.0 in /usr/local/lib/python3.10/dist-packages (from requests->outdated->pingouin) (2.0.12)\n",
            "Requirement already satisfied: idna<4,>=2.5 in /usr/local/lib/python3.10/dist-packages (from requests->outdated->pingouin) (3.4)\n",
            "Requirement already satisfied: certifi>=2017.4.17 in /usr/local/lib/python3.10/dist-packages (from requests->outdated->pingouin) (2022.12.7)\n",
            "Building wheels for collected packages: littleutils\n",
            "  Building wheel for littleutils (setup.py) ... \u001b[?25l\u001b[?25hdone\n",
            "  Created wheel for littleutils: filename=littleutils-0.2.2-py3-none-any.whl size=7048 sha256=7566403b67c7337435c42b7624c127ad7de0667b6f518cfc7a6027ad348e0f0e\n",
            "  Stored in directory: /root/.cache/pip/wheels/3d/fe/b0/27a9892da57472e538c7452a721a9cf463cc03cf7379889266\n",
            "Successfully built littleutils\n",
            "Installing collected packages: littleutils, outdated, pandas-flavor, pingouin\n",
            "Successfully installed littleutils-0.2.2 outdated-0.2.2 pandas-flavor-0.5.0 pingouin-0.5.3\n"
          ]
        }
      ],
      "source": [
        "pip install pingouin"
      ]
    },
    {
      "cell_type": "code",
      "source": [
        "pip install scikit-posthocs"
      ],
      "metadata": {
        "id": "jk6W-VVoRzES",
        "colab": {
          "base_uri": "https://localhost:8080/"
        },
        "outputId": "18b352bb-1c68-4c19-abd8-f3d8bf01face"
      },
      "execution_count": null,
      "outputs": [
        {
          "output_type": "stream",
          "name": "stdout",
          "text": [
            "Looking in indexes: https://pypi.org/simple, https://us-python.pkg.dev/colab-wheels/public/simple/\n",
            "Collecting scikit-posthocs\n",
            "  Downloading scikit_posthocs-0.7.0-py3-none-any.whl (38 kB)\n",
            "Requirement already satisfied: matplotlib in /usr/local/lib/python3.10/dist-packages (from scikit-posthocs) (3.7.1)\n",
            "Requirement already satisfied: numpy in /usr/local/lib/python3.10/dist-packages (from scikit-posthocs) (1.22.4)\n",
            "Requirement already satisfied: pandas>=0.20.0 in /usr/local/lib/python3.10/dist-packages (from scikit-posthocs) (1.5.3)\n",
            "Requirement already satisfied: statsmodels in /usr/local/lib/python3.10/dist-packages (from scikit-posthocs) (0.13.5)\n",
            "Requirement already satisfied: scipy in /usr/local/lib/python3.10/dist-packages (from scikit-posthocs) (1.10.1)\n",
            "Requirement already satisfied: seaborn in /usr/local/lib/python3.10/dist-packages (from scikit-posthocs) (0.12.2)\n",
            "Requirement already satisfied: python-dateutil>=2.8.1 in /usr/local/lib/python3.10/dist-packages (from pandas>=0.20.0->scikit-posthocs) (2.8.2)\n",
            "Requirement already satisfied: pytz>=2020.1 in /usr/local/lib/python3.10/dist-packages (from pandas>=0.20.0->scikit-posthocs) (2022.7.1)\n",
            "Requirement already satisfied: packaging>=20.0 in /usr/local/lib/python3.10/dist-packages (from matplotlib->scikit-posthocs) (23.1)\n",
            "Requirement already satisfied: pyparsing>=2.3.1 in /usr/local/lib/python3.10/dist-packages (from matplotlib->scikit-posthocs) (3.0.9)\n",
            "Requirement already satisfied: contourpy>=1.0.1 in /usr/local/lib/python3.10/dist-packages (from matplotlib->scikit-posthocs) (1.0.7)\n",
            "Requirement already satisfied: pillow>=6.2.0 in /usr/local/lib/python3.10/dist-packages (from matplotlib->scikit-posthocs) (8.4.0)\n",
            "Requirement already satisfied: fonttools>=4.22.0 in /usr/local/lib/python3.10/dist-packages (from matplotlib->scikit-posthocs) (4.39.3)\n",
            "Requirement already satisfied: cycler>=0.10 in /usr/local/lib/python3.10/dist-packages (from matplotlib->scikit-posthocs) (0.11.0)\n",
            "Requirement already satisfied: kiwisolver>=1.0.1 in /usr/local/lib/python3.10/dist-packages (from matplotlib->scikit-posthocs) (1.4.4)\n",
            "Requirement already satisfied: patsy>=0.5.2 in /usr/local/lib/python3.10/dist-packages (from statsmodels->scikit-posthocs) (0.5.3)\n",
            "Requirement already satisfied: six in /usr/local/lib/python3.10/dist-packages (from patsy>=0.5.2->statsmodels->scikit-posthocs) (1.16.0)\n",
            "Installing collected packages: scikit-posthocs\n",
            "Successfully installed scikit-posthocs-0.7.0\n"
          ]
        }
      ]
    },
    {
      "cell_type": "code",
      "source": [
        "pip install flirt"
      ],
      "metadata": {
        "id": "xxnhFOJIR66T",
        "colab": {
          "base_uri": "https://localhost:8080/"
        },
        "outputId": "d84b34d8-a93d-4b7b-e842-5d1df085086d"
      },
      "execution_count": null,
      "outputs": [
        {
          "output_type": "stream",
          "name": "stdout",
          "text": [
            "Looking in indexes: https://pypi.org/simple, https://us-python.pkg.dev/colab-wheels/public/simple/\n",
            "Collecting flirt\n",
            "  Downloading flirt-0.0.2-py3-none-any.whl (42 kB)\n",
            "\u001b[2K     \u001b[90m━━━━━━━━━━━━━━━━━━━━━━━━━━━━━━━━━━━━━━━━\u001b[0m \u001b[32m42.3/42.3 kB\u001b[0m \u001b[31m3.1 MB/s\u001b[0m eta \u001b[36m0:00:00\u001b[0m\n",
            "\u001b[?25hRequirement already satisfied: numpy in /usr/local/lib/python3.10/dist-packages (from flirt) (1.22.4)\n",
            "Requirement already satisfied: astropy in /usr/local/lib/python3.10/dist-packages (from flirt) (5.2.2)\n",
            "Requirement already satisfied: cvxopt in /usr/local/lib/python3.10/dist-packages (from flirt) (1.3.0)\n",
            "Requirement already satisfied: scipy in /usr/local/lib/python3.10/dist-packages (from flirt) (1.10.1)\n",
            "Requirement already satisfied: numba in /usr/local/lib/python3.10/dist-packages (from flirt) (0.56.4)\n",
            "Requirement already satisfied: tqdm>=4.43 in /usr/local/lib/python3.10/dist-packages (from flirt) (4.65.0)\n",
            "Requirement already satisfied: pandas in /usr/local/lib/python3.10/dist-packages (from flirt) (1.5.3)\n",
            "Requirement already satisfied: joblib in /usr/local/lib/python3.10/dist-packages (from flirt) (1.2.0)\n",
            "Collecting ishneholterlib\n",
            "  Downloading ishneholterlib-2020.5.29-py3-none-any.whl (8.4 kB)\n",
            "Requirement already satisfied: PyYAML>=3.13 in /usr/local/lib/python3.10/dist-packages (from astropy->flirt) (6.0)\n",
            "Requirement already satisfied: packaging>=19.0 in /usr/local/lib/python3.10/dist-packages (from astropy->flirt) (23.1)\n",
            "Requirement already satisfied: pyerfa>=2.0 in /usr/local/lib/python3.10/dist-packages (from astropy->flirt) (2.0.0.3)\n",
            "Collecting crccheck\n",
            "  Downloading crccheck-1.3.0-py3-none-any.whl (21 kB)\n",
            "Requirement already satisfied: setuptools in /usr/local/lib/python3.10/dist-packages (from numba->flirt) (67.7.2)\n",
            "Requirement already satisfied: llvmlite<0.40,>=0.39.0dev0 in /usr/local/lib/python3.10/dist-packages (from numba->flirt) (0.39.1)\n",
            "Requirement already satisfied: pytz>=2020.1 in /usr/local/lib/python3.10/dist-packages (from pandas->flirt) (2022.7.1)\n",
            "Requirement already satisfied: python-dateutil>=2.8.1 in /usr/local/lib/python3.10/dist-packages (from pandas->flirt) (2.8.2)\n",
            "Requirement already satisfied: six>=1.5 in /usr/local/lib/python3.10/dist-packages (from python-dateutil>=2.8.1->pandas->flirt) (1.16.0)\n",
            "Installing collected packages: crccheck, ishneholterlib, flirt\n",
            "Successfully installed crccheck-1.3.0 flirt-0.0.2 ishneholterlib-2020.5.29\n"
          ]
        }
      ]
    },
    {
      "cell_type": "code",
      "source": [
        "import seaborn as sns\n",
        "import flirt.reader.empatica\n",
        "import flirt.with_\n",
        "import matplotlib.pyplot as plt\n",
        "import matplotlib as mpl\n",
        "# import latex\n",
        "import os\n",
        "import csv\n",
        "from glob import glob\n",
        "import copy\n",
        "import random\n",
        "import pickle\n",
        "import numpy as np\n",
        "from scipy import stats\n",
        "import scipy.io.wavfile\n",
        "import scipy.signal\n",
        "import pingouin as pg\n",
        "import pandas as pd\n",
        "\n",
        "def cliffs_delta(lst1, lst2):\n",
        "    \"\"\"Calculates Cliff's Delta, a non-parametric measure of effect size for two samples.\"\"\"\n",
        "    n1 = len(lst1)\n",
        "    n2 = len(lst2)\n",
        "    lst1 = sorted(lst1)\n",
        "    lst2 = sorted(lst2)\n",
        "    i, j = 0, 0\n",
        "    delta = 0\n",
        "    while i < n1 and j < n2:\n",
        "        if lst1[i] <= lst2[j]:\n",
        "            delta += j\n",
        "            i += 1\n",
        "        else:\n",
        "            j += 1\n",
        "    delta = delta / (n1 * n2)\n",
        "    return delta\n",
        "    \n",
        "def cohen_d(x,y):\n",
        "    nx = len(x)\n",
        "    ny = len(y)\n",
        "    dof = nx + ny - 2\n",
        "    return (np.mean(x) - np.mean(y)) / np.sqrt(((nx-1)*np.std(x, ddof=1) ** 2 + (ny-1)*np.std(y, ddof=1) ** 2) / dof)\n"
      ],
      "metadata": {
        "id": "NpF1fa-lRrcI"
      },
      "execution_count": null,
      "outputs": []
    },
    {
      "cell_type": "code",
      "source": [
        "!unzip \"/content/Physiological Signal.zip\" -d \"/content/\"\n",
        "!unzip \"/content/Physiological Signal/Dirt Rally.zip\" -d \"/content/\"\n",
        "!unzip \"/content/Physiological Signal/Warthunder.zip\" -d \"/content/\"\n",
        "!unzip \"/content/Physiological Signal/Minecraft.zip\" -d \"/content/\"\n",
        "!unzip \"/content/Physiological Signal/Phasmophobia.zip\" -d \"/content/\""
      ],
      "metadata": {
        "id": "8eAdtksSTRex"
      },
      "execution_count": null,
      "outputs": []
    },
    {
      "cell_type": "markdown",
      "source": [
        "#Heart Rate"
      ],
      "metadata": {
        "id": "tqPCPPlVTR_J"
      }
    },
    {
      "cell_type": "code",
      "source": [
        "paths = [\"/content/Phasmophobia\", \"/content/Warthunder\", \"/content/Minecraft\", \"/content/Dirt Rally\"]\n",
        "hr = [[[], [], [], []], [[], [], [], []]]\n",
        "hr_bs = [[], [], [], []]\n",
        "hr_bs_std=[[], [], [], []]\n",
        "i=-1\n",
        "for path in paths:\n",
        "  i+=1\n",
        "  for participant in glob(path + \"/*/PC\", recursive = True):\n",
        "    p = glob(participant+\"/HR.csv\")[0]\n",
        "    hr[0][i].append(np.mean(flirt.reader.empatica.read_hr_file_into_df(p)[\"hr\"][100:-10]).tolist())\n",
        "  for participant in glob(path + \"/*/VR\", recursive = True):\n",
        "    p = glob(participant+\"/HR.csv\")[0]\n",
        "    hr[1][i].append(np.mean(flirt.reader.empatica.read_hr_file_into_df(p)[\"hr\"][100:-10]).tolist())\n",
        "  for participant in glob(path + \"/*/Baseline\", recursive = True):\n",
        "    p = glob(participant+\"/HR.csv\")[0]\n",
        "    # print(p)\n",
        "    hr_bs[i].append(np.mean(flirt.reader.empatica.read_hr_file_into_df(p)[\"hr\"][100:-10]).tolist())\n",
        "    hr_bs_std[i].append(np.std(flirt.reader.empatica.read_hr_file_into_df(p)[\"hr\"][100:-10]).tolist())"
      ],
      "metadata": {
        "id": "znN1nmuPTUZY"
      },
      "execution_count": null,
      "outputs": []
    },
    {
      "cell_type": "code",
      "source": [
        "hr_norm = [[[], [], [], []], [[], [], [], []]]\n",
        "for i in range(4):\n",
        "  # print(i)\n",
        "  hr_norm[0][i] = (np.array(hr[0][i]) - np.array(hr_bs[i]))\n",
        "  hr_norm[1][i] = (np.array(hr[1][i]) - np.array(hr_bs[i]))\n",
        "# print(hr_norm[0])"
      ],
      "metadata": {
        "id": "ZiFFAky2UOKy"
      },
      "execution_count": null,
      "outputs": []
    },
    {
      "cell_type": "markdown",
      "source": [
        "##Mean Values"
      ],
      "metadata": {
        "id": "il6cV2WPUkno"
      }
    },
    {
      "cell_type": "code",
      "source": [
        "Games = ['LVHA', 'HVLA', 'LVLA', 'HVHA']\n",
        "Type = ['FS', 'VR']\n",
        "\n",
        "arr=[]\n",
        "i=0\n",
        "for x in hr:\n",
        "  tmp=[]\n",
        "  j=0\n",
        "  # print(len(x))\n",
        "  for y in x:\n",
        "    df = pd.DataFrame(y, columns = [\"Heart Rate\"])\n",
        "    df[\"CMA Quadrant\"] = Games[j]\n",
        "    df[\"Type\"] = Type[i]\n",
        "    tmp.append(df)\n",
        "    j+=1\n",
        "  arr.append(pd.concat(tmp))\n",
        "  i+=1\n",
        "\n",
        "df = pd.concat(arr, ignore_index = True)\n",
        "print(df)\n",
        "df.to_csv(\"HR_Boxplot.csv\")"
      ],
      "metadata": {
        "colab": {
          "base_uri": "https://localhost:8080/"
        },
        "id": "r2-Ke5isUTej",
        "outputId": "c694d20d-7088-4d27-9cfe-52097340ff72"
      },
      "execution_count": null,
      "outputs": [
        {
          "output_type": "stream",
          "name": "stdout",
          "text": [
            "    Heart Rate CMA Quadrant Type\n",
            "0    85.312029         LVHA   FS\n",
            "1    80.658842         LVHA   FS\n",
            "2    79.074062         LVHA   FS\n",
            "3    84.249643         LVHA   FS\n",
            "4    89.329963         LVHA   FS\n",
            "..         ...          ...  ...\n",
            "61   88.675596         HVHA   VR\n",
            "62   73.974738         HVHA   VR\n",
            "63   62.195039         HVHA   VR\n",
            "64   61.180222         HVHA   VR\n",
            "65   83.479615         HVHA   VR\n",
            "\n",
            "[66 rows x 3 columns]\n"
          ]
        }
      ]
    },
    {
      "cell_type": "code",
      "source": [
        "pc = df.query('Type==\"FS\"')[\"Heart Rate\"].tolist()\n",
        "vr = df.query('Type==\"VR\"')[\"Heart Rate\"].tolist()\n",
        "\n",
        "print(\"HR\")\n",
        "print(f\"FS: mu: {np.mean(pc):.2f}, sigma: {np.std(pc):.2f}\")\n",
        "print(f\"VR: mu: {np.mean(vr):.2f}, sigma: {np.std(vr):.2f}\")"
      ],
      "metadata": {
        "colab": {
          "base_uri": "https://localhost:8080/"
        },
        "id": "Ar1omOxQUZB5",
        "outputId": "7b8dc2e8-cb59-4ce9-eea1-1c100554758e"
      },
      "execution_count": null,
      "outputs": [
        {
          "output_type": "stream",
          "name": "stdout",
          "text": [
            "HR\n",
            "FS: mu: 77.27, sigma: 9.92\n",
            "VR: mu: 81.52, sigma: 10.71\n"
          ]
        }
      ]
    },
    {
      "cell_type": "markdown",
      "source": [
        "##Comparing HR"
      ],
      "metadata": {
        "id": "qiLoAaHzUzH6"
      }
    },
    {
      "cell_type": "code",
      "source": [
        "Games = ['LVHA', 'HVLA', 'LVLA', 'HVHA']\n",
        "Type = ['FS', 'VR']\n",
        "\n",
        "arr=[]\n",
        "i=0\n",
        "for x in hr_norm:\n",
        "  tmp=[]\n",
        "  j=0\n",
        "  # print(len(x))\n",
        "  for y in x:\n",
        "    df = pd.DataFrame(y, columns = [\"Normalised HR\"])\n",
        "    df[\"Type\"] = Type[i]\n",
        "    tmp.append(df)\n",
        "    j+=1\n",
        "  # print(j)\n",
        "  arr.append(pd.concat(tmp))\n",
        "  i+=1\n",
        "# print(i)\n",
        "\n",
        "df = pd.concat(arr, ignore_index = True)\n",
        "print(df)\n",
        "df.to_csv(\"HR.csv\")"
      ],
      "metadata": {
        "colab": {
          "base_uri": "https://localhost:8080/"
        },
        "id": "yJ3ifMTsU0ma",
        "outputId": "74eded69-01f9-4219-923c-7d0a439f748b"
      },
      "execution_count": null,
      "outputs": [
        {
          "output_type": "stream",
          "name": "stdout",
          "text": [
            "    Normalised HR Type\n",
            "0       -4.275331   FS\n",
            "1      -17.661158   FS\n",
            "2       -2.864298   FS\n",
            "3       -8.306594   FS\n",
            "4       -3.684550   FS\n",
            "..            ...  ...\n",
            "61      29.650318   VR\n",
            "62      -3.723309   VR\n",
            "63       7.298882   VR\n",
            "64      -2.390406   VR\n",
            "65       0.631050   VR\n",
            "\n",
            "[66 rows x 2 columns]\n"
          ]
        }
      ]
    },
    {
      "cell_type": "code",
      "source": [
        "pc = df.query('Type==\"FS\"')[\"Normalised HR\"].tolist()\n",
        "vr = df.query('Type==\"VR\"')[\"Normalised HR\"].tolist()\n",
        "\n",
        "normalancy_pc = stats.shapiro(pc)\n",
        "normalancy_vr = stats.shapiro(vr)\n",
        "print(f\"FS: {normalancy_pc}\")\n",
        "print(f\"VR: {normalancy_vr}\")\n",
        "\n",
        "result = stats.ttest_rel(pc, vr)\n",
        "print(result)\n",
        "\n",
        "print(f'Cohen-d: {cohen_d(pc, vr):.2f}')\n",
        "print(f'Cliffs: {cliffs_delta(pc, vr):.2f}')"
      ],
      "metadata": {
        "colab": {
          "base_uri": "https://localhost:8080/"
        },
        "id": "FcAqz_OBU53K",
        "outputId": "983f789e-a70b-4ec3-fc6d-f4c4d6788338"
      },
      "execution_count": null,
      "outputs": [
        {
          "output_type": "stream",
          "name": "stdout",
          "text": [
            "FS: ShapiroResult(statistic=0.9776724576950073, pvalue=0.7138577699661255)\n",
            "VR: ShapiroResult(statistic=0.9812292456626892, pvalue=0.8226732611656189)\n",
            "TtestResult(statistic=-2.536701331638034, pvalue=0.016266536026586027, df=32)\n",
            "Cohen-d: -0.41\n",
            "Cliffs: 0.40\n"
          ]
        }
      ]
    },
    {
      "cell_type": "markdown",
      "source": [
        "#LF/HF Value"
      ],
      "metadata": {
        "id": "e3RCtswbWA-J"
      }
    },
    {
      "cell_type": "code",
      "source": [
        "paths = [\"/content/Phasmophobia\", \"/content/Warthunder\", \"/content/Minecraft\", \"/content/Dirt Rally\"]\n",
        "lf=[[[], [], [], []],  [[], [], [], []],  [[], [], [], []]]\n",
        "hf=[[[], [], [], []],  [[], [], [], []],  [[], [], [], []]]\n",
        "i=0\n",
        "for path in paths:\n",
        "  for participant in glob(path + \"/*/PC\", recursive = True):\n",
        "    p = glob(participant+\"/IBI.csv\")[0]\n",
        "    print(p)\n",
        "    try:\n",
        "      ibis = flirt.reader.empatica.read_ibi_file_into_df(p)\n",
        "      hrv_features = flirt.get_hrv_features(ibis['ibi'])\n",
        "      if(len(hrv_features.columns)>5):\n",
        "        lf[0][i].append(hrv_features['hrv_lf'])\n",
        "        hf[0][i].append(hrv_features['hrv_hf'])\n",
        "    except:\n",
        "      print(\"error\")\n",
        "  for participant in glob(path + \"/*/VR\", recursive = True):\n",
        "    p = glob(participant+\"/IBI.csv\")[0]\n",
        "    print(p)\n",
        "    try:\n",
        "      ibis = flirt.reader.empatica.read_ibi_file_into_df(p)\n",
        "      hrv_features = flirt.get_hrv_features(ibis['ibi'])\n",
        "      if(len(hrv_features.columns)>5):\n",
        "        lf[1][i].append(hrv_features['hrv_lf'])\n",
        "        hf[1][i].append(hrv_features['hrv_hf'])\n",
        "    except:\n",
        "      print(\"error\")\n",
        "  i+=1"
      ],
      "metadata": {
        "id": "kUxDLqPxWDZx",
        "colab": {
          "base_uri": "https://localhost:8080/"
        },
        "outputId": "5d45c5a8-7e99-4d25-ee7d-11ccba2bdcaa"
      },
      "execution_count": null,
      "outputs": [
        {
          "output_type": "stream",
          "name": "stdout",
          "text": [
            "/content/Phasmophobia/28/PC/IBI.csv\n"
          ]
        },
        {
          "output_type": "stream",
          "name": "stderr",
          "text": [
            "HRV features: 100%|██████████| 485/485 [00:13<00:00, 35.06it/s] \n"
          ]
        },
        {
          "output_type": "stream",
          "name": "stdout",
          "text": [
            "/content/Phasmophobia/32/PC/IBI.csv\n"
          ]
        },
        {
          "output_type": "stream",
          "name": "stderr",
          "text": [
            "HRV features: 100%|██████████| 826/826 [00:02<00:00, 411.92it/s]\n"
          ]
        },
        {
          "output_type": "stream",
          "name": "stdout",
          "text": [
            "/content/Phasmophobia/29/PC/IBI.csv\n"
          ]
        },
        {
          "output_type": "stream",
          "name": "stderr",
          "text": [
            "HRV features: 100%|██████████| 600/600 [00:00<00:00, 3512.07it/s]\n"
          ]
        },
        {
          "output_type": "stream",
          "name": "stdout",
          "text": [
            "/content/Phasmophobia/27/PC/IBI.csv\n"
          ]
        },
        {
          "output_type": "stream",
          "name": "stderr",
          "text": [
            "HRV features: 100%|██████████| 144/144 [00:00<00:00, 2508.33it/s]\n"
          ]
        },
        {
          "output_type": "stream",
          "name": "stdout",
          "text": [
            "/content/Phasmophobia/30/PC/IBI.csv\n"
          ]
        },
        {
          "output_type": "stream",
          "name": "stderr",
          "text": [
            "HRV features: 100%|██████████| 589/589 [00:01<00:00, 461.38it/s]\n"
          ]
        },
        {
          "output_type": "stream",
          "name": "stdout",
          "text": [
            "/content/Phasmophobia/34/PC/IBI.csv\n"
          ]
        },
        {
          "output_type": "stream",
          "name": "stderr",
          "text": [
            "HRV features: 100%|██████████| 628/628 [00:01<00:00, 531.66it/s]\n"
          ]
        },
        {
          "output_type": "stream",
          "name": "stdout",
          "text": [
            "/content/Phasmophobia/31/PC/IBI.csv\n"
          ]
        },
        {
          "output_type": "stream",
          "name": "stderr",
          "text": [
            "HRV features: 100%|██████████| 625/625 [00:03<00:00, 195.78it/s]\n"
          ]
        },
        {
          "output_type": "stream",
          "name": "stdout",
          "text": [
            "/content/Phasmophobia/33/PC/IBI.csv\n"
          ]
        },
        {
          "output_type": "stream",
          "name": "stderr",
          "text": [
            "HRV features: 100%|██████████| 170/170 [00:00<00:00, 560.52it/s]\n"
          ]
        },
        {
          "output_type": "stream",
          "name": "stdout",
          "text": [
            "/content/Phasmophobia/28/VR/IBI.csv\n"
          ]
        },
        {
          "output_type": "stream",
          "name": "stderr",
          "text": [
            "HRV features: 100%|██████████| 436/436 [00:00<00:00, 730.79it/s]\n"
          ]
        },
        {
          "output_type": "stream",
          "name": "stdout",
          "text": [
            "/content/Phasmophobia/32/VR/IBI.csv\n"
          ]
        },
        {
          "output_type": "stream",
          "name": "stderr",
          "text": [
            "HRV features: 100%|██████████| 840/840 [00:03<00:00, 247.04it/s]\n"
          ]
        },
        {
          "output_type": "stream",
          "name": "stdout",
          "text": [
            "/content/Phasmophobia/29/VR/IBI.csv\n"
          ]
        },
        {
          "output_type": "stream",
          "name": "stderr",
          "text": [
            "HRV features: 100%|██████████| 271/271 [00:00<00:00, 523.43it/s]\n"
          ]
        },
        {
          "output_type": "stream",
          "name": "stdout",
          "text": [
            "/content/Phasmophobia/27/VR/IBI.csv\n"
          ]
        },
        {
          "output_type": "stream",
          "name": "stderr",
          "text": [
            "HRV features: 100%|██████████| 530/530 [00:00<00:00, 3247.66it/s]\n"
          ]
        },
        {
          "output_type": "stream",
          "name": "stdout",
          "text": [
            "/content/Phasmophobia/30/VR/IBI.csv\n"
          ]
        },
        {
          "output_type": "stream",
          "name": "stderr",
          "text": [
            "HRV features: 100%|██████████| 606/606 [00:00<00:00, 629.10it/s]\n"
          ]
        },
        {
          "output_type": "stream",
          "name": "stdout",
          "text": [
            "/content/Phasmophobia/34/VR/IBI.csv\n",
            "error\n",
            "/content/Phasmophobia/31/VR/IBI.csv\n"
          ]
        },
        {
          "output_type": "stream",
          "name": "stderr",
          "text": [
            "HRV features: 100%|██████████| 544/544 [00:00<00:00, 1059.88it/s]\n"
          ]
        },
        {
          "output_type": "stream",
          "name": "stdout",
          "text": [
            "/content/Phasmophobia/33/VR/IBI.csv\n"
          ]
        },
        {
          "output_type": "stream",
          "name": "stderr",
          "text": [
            "HRV features: 100%|██████████| 536/536 [00:00<00:00, 3343.98it/s]\n"
          ]
        },
        {
          "output_type": "stream",
          "name": "stdout",
          "text": [
            "/content/Warthunder/14/PC/IBI.csv\n"
          ]
        },
        {
          "output_type": "stream",
          "name": "stderr",
          "text": [
            "HRV features: 100%|██████████| 753/753 [00:05<00:00, 135.55it/s]\n"
          ]
        },
        {
          "output_type": "stream",
          "name": "stdout",
          "text": [
            "/content/Warthunder/35/PC/IBI.csv\n"
          ]
        },
        {
          "output_type": "stream",
          "name": "stderr",
          "text": [
            "HRV features: 100%|██████████| 6/6 [00:00<00:00, 380.17it/s]\n"
          ]
        },
        {
          "output_type": "stream",
          "name": "stdout",
          "text": [
            "/content/Warthunder/2/PC/IBI.csv\n"
          ]
        },
        {
          "output_type": "stream",
          "name": "stderr",
          "text": [
            "HRV features: 100%|██████████| 466/466 [00:02<00:00, 218.45it/s]\n"
          ]
        },
        {
          "output_type": "stream",
          "name": "stdout",
          "text": [
            "/content/Warthunder/3/PC/IBI.csv\n"
          ]
        },
        {
          "output_type": "stream",
          "name": "stderr",
          "text": [
            "HRV features: 100%|██████████| 77/77 [00:00<00:00, 550.14it/s]\n"
          ]
        },
        {
          "output_type": "stream",
          "name": "stdout",
          "text": [
            "/content/Warthunder/4/PC/IBI.csv\n"
          ]
        },
        {
          "output_type": "stream",
          "name": "stderr",
          "text": [
            "HRV features: 100%|██████████| 670/670 [00:03<00:00, 209.98it/s]\n"
          ]
        },
        {
          "output_type": "stream",
          "name": "stdout",
          "text": [
            "/content/Warthunder/1/PC/IBI.csv\n"
          ]
        },
        {
          "output_type": "stream",
          "name": "stderr",
          "text": [
            "HRV features: 100%|██████████| 459/459 [00:02<00:00, 213.21it/s]\n"
          ]
        },
        {
          "output_type": "stream",
          "name": "stdout",
          "text": [
            "/content/Warthunder/24/PC/IBI.csv\n"
          ]
        },
        {
          "output_type": "stream",
          "name": "stderr",
          "text": [
            "HRV features: 100%|██████████| 376/376 [00:03<00:00, 106.94it/s]\n"
          ]
        },
        {
          "output_type": "stream",
          "name": "stdout",
          "text": [
            "/content/Warthunder/14/VR/IBI.csv\n"
          ]
        },
        {
          "output_type": "stream",
          "name": "stderr",
          "text": [
            "HRV features: 100%|██████████| 487/487 [00:01<00:00, 305.26it/s]\n"
          ]
        },
        {
          "output_type": "stream",
          "name": "stdout",
          "text": [
            "/content/Warthunder/35/VR/IBI.csv\n"
          ]
        },
        {
          "output_type": "stream",
          "name": "stderr",
          "text": [
            "HRV features: 100%|██████████| 274/274 [00:00<00:00, 301.65it/s]\n"
          ]
        },
        {
          "output_type": "stream",
          "name": "stdout",
          "text": [
            "/content/Warthunder/2/VR/IBI.csv\n"
          ]
        },
        {
          "output_type": "stream",
          "name": "stderr",
          "text": [
            "HRV features: 100%|██████████| 337/337 [00:01<00:00, 242.03it/s]\n"
          ]
        },
        {
          "output_type": "stream",
          "name": "stdout",
          "text": [
            "/content/Warthunder/3/VR/IBI.csv\n"
          ]
        },
        {
          "output_type": "stream",
          "name": "stderr",
          "text": [
            "HRV features: 100%|██████████| 918/918 [00:00<00:00, 4441.79it/s]\n"
          ]
        },
        {
          "output_type": "stream",
          "name": "stdout",
          "text": [
            "/content/Warthunder/4/VR/IBI.csv\n"
          ]
        },
        {
          "output_type": "stream",
          "name": "stderr",
          "text": [
            "HRV features: 100%|██████████| 537/537 [00:02<00:00, 212.47it/s]\n"
          ]
        },
        {
          "output_type": "stream",
          "name": "stdout",
          "text": [
            "/content/Warthunder/1/VR/IBI.csv\n"
          ]
        },
        {
          "output_type": "stream",
          "name": "stderr",
          "text": [
            "HRV features: 100%|██████████| 339/339 [00:01<00:00, 212.55it/s]\n"
          ]
        },
        {
          "output_type": "stream",
          "name": "stdout",
          "text": [
            "/content/Warthunder/24/VR/IBI.csv\n"
          ]
        },
        {
          "output_type": "stream",
          "name": "stderr",
          "text": [
            "HRV features: 100%|██████████| 541/541 [00:02<00:00, 242.78it/s]\n"
          ]
        },
        {
          "output_type": "stream",
          "name": "stdout",
          "text": [
            "/content/Minecraft/14/PC/IBI.csv\n"
          ]
        },
        {
          "output_type": "stream",
          "name": "stderr",
          "text": [
            "HRV features: 100%|██████████| 862/862 [00:04<00:00, 208.55it/s]\n"
          ]
        },
        {
          "output_type": "stream",
          "name": "stdout",
          "text": [
            "/content/Minecraft/13/PC/IBI.csv\n"
          ]
        },
        {
          "output_type": "stream",
          "name": "stderr",
          "text": [
            "HRV features: 100%|██████████| 397/397 [00:02<00:00, 193.44it/s]\n"
          ]
        },
        {
          "output_type": "stream",
          "name": "stdout",
          "text": [
            "/content/Minecraft/18/PC/IBI.csv\n"
          ]
        },
        {
          "output_type": "stream",
          "name": "stderr",
          "text": [
            "HRV features: 100%|██████████| 484/484 [00:04<00:00, 118.56it/s]\n"
          ]
        },
        {
          "output_type": "stream",
          "name": "stdout",
          "text": [
            "/content/Minecraft/9/PC/IBI.csv\n"
          ]
        },
        {
          "output_type": "stream",
          "name": "stderr",
          "text": [
            "HRV features: 100%|██████████| 440/440 [00:00<00:00, 854.92it/s]\n"
          ]
        },
        {
          "output_type": "stream",
          "name": "stdout",
          "text": [
            "/content/Minecraft/16/PC/IBI.csv\n"
          ]
        },
        {
          "output_type": "stream",
          "name": "stderr",
          "text": [
            "HRV features: 100%|██████████| 641/641 [00:02<00:00, 225.52it/s]\n"
          ]
        },
        {
          "output_type": "stream",
          "name": "stdout",
          "text": [
            "/content/Minecraft/17/PC/IBI.csv\n"
          ]
        },
        {
          "output_type": "stream",
          "name": "stderr",
          "text": [
            "HRV features: 100%|██████████| 473/473 [00:04<00:00, 108.02it/s]\n"
          ]
        },
        {
          "output_type": "stream",
          "name": "stdout",
          "text": [
            "/content/Minecraft/8/PC/IBI.csv\n"
          ]
        },
        {
          "output_type": "stream",
          "name": "stderr",
          "text": [
            "HRV features: 100%|██████████| 647/647 [00:03<00:00, 186.01it/s]\n"
          ]
        },
        {
          "output_type": "stream",
          "name": "stdout",
          "text": [
            "/content/Minecraft/15/PC/IBI.csv\n"
          ]
        },
        {
          "output_type": "stream",
          "name": "stderr",
          "text": [
            "HRV features: 100%|██████████| 870/870 [00:07<00:00, 123.13it/s]\n"
          ]
        },
        {
          "output_type": "stream",
          "name": "stdout",
          "text": [
            "/content/Minecraft/19/PC/IBI.csv\n"
          ]
        },
        {
          "output_type": "stream",
          "name": "stderr",
          "text": [
            "HRV features: 100%|██████████| 664/664 [00:00<00:00, 1062.27it/s]\n"
          ]
        },
        {
          "output_type": "stream",
          "name": "stdout",
          "text": [
            "/content/Minecraft/14/VR/IBI.csv\n"
          ]
        },
        {
          "output_type": "stream",
          "name": "stderr",
          "text": [
            "HRV features: 100%|██████████| 796/796 [00:05<00:00, 157.91it/s]\n"
          ]
        },
        {
          "output_type": "stream",
          "name": "stdout",
          "text": [
            "/content/Minecraft/13/VR/IBI.csv\n"
          ]
        },
        {
          "output_type": "stream",
          "name": "stderr",
          "text": [
            "HRV features: 100%|██████████| 478/478 [00:02<00:00, 196.63it/s]\n"
          ]
        },
        {
          "output_type": "stream",
          "name": "stdout",
          "text": [
            "/content/Minecraft/18/VR/IBI.csv\n"
          ]
        },
        {
          "output_type": "stream",
          "name": "stderr",
          "text": [
            "HRV features: 100%|██████████| 414/414 [00:01<00:00, 233.63it/s]\n"
          ]
        },
        {
          "output_type": "stream",
          "name": "stdout",
          "text": [
            "/content/Minecraft/9/VR/IBI.csv\n"
          ]
        },
        {
          "output_type": "stream",
          "name": "stderr",
          "text": [
            "HRV features: 100%|██████████| 280/280 [00:00<00:00, 396.00it/s]\n"
          ]
        },
        {
          "output_type": "stream",
          "name": "stdout",
          "text": [
            "/content/Minecraft/16/VR/IBI.csv\n"
          ]
        },
        {
          "output_type": "stream",
          "name": "stderr",
          "text": [
            "HRV features: 100%|██████████| 1140/1140 [00:02<00:00, 519.22it/s]\n"
          ]
        },
        {
          "output_type": "stream",
          "name": "stdout",
          "text": [
            "/content/Minecraft/17/VR/IBI.csv\n"
          ]
        },
        {
          "output_type": "stream",
          "name": "stderr",
          "text": [
            "HRV features: 100%|██████████| 1088/1088 [00:08<00:00, 132.11it/s]\n"
          ]
        },
        {
          "output_type": "stream",
          "name": "stdout",
          "text": [
            "/content/Minecraft/8/VR/IBI.csv\n"
          ]
        },
        {
          "output_type": "stream",
          "name": "stderr",
          "text": [
            "HRV features: 100%|██████████| 420/420 [00:02<00:00, 159.10it/s]\n"
          ]
        },
        {
          "output_type": "stream",
          "name": "stdout",
          "text": [
            "/content/Minecraft/15/VR/IBI.csv\n"
          ]
        },
        {
          "output_type": "stream",
          "name": "stderr",
          "text": [
            "HRV features: 100%|██████████| 1162/1162 [00:08<00:00, 132.77it/s]\n"
          ]
        },
        {
          "output_type": "stream",
          "name": "stdout",
          "text": [
            "/content/Minecraft/19/VR/IBI.csv\n"
          ]
        },
        {
          "output_type": "stream",
          "name": "stderr",
          "text": [
            "HRV features: 100%|██████████| 1241/1241 [00:00<00:00, 2805.67it/s]\n"
          ]
        },
        {
          "output_type": "stream",
          "name": "stdout",
          "text": [
            "/content/Dirt Rally/23/PC/IBI.csv\n"
          ]
        },
        {
          "output_type": "stream",
          "name": "stderr",
          "text": [
            "HRV features: 100%|██████████| 356/356 [00:00<00:00, 3770.97it/s]"
          ]
        },
        {
          "output_type": "stream",
          "name": "stdout",
          "text": [
            "/content/Dirt Rally/6/PC/IBI.csv\n",
            "error\n",
            "/content/Dirt Rally/25/PC/IBI.csv\n",
            "error\n",
            "/content/Dirt Rally/5/PC/IBI.csv\n",
            "error\n",
            "/content/Dirt Rally/26/PC/IBI.csv\n",
            "error\n",
            "/content/Dirt Rally/22/PC/IBI.csv\n"
          ]
        },
        {
          "output_type": "stream",
          "name": "stderr",
          "text": [
            "\n",
            "HRV features: 100%|██████████| 315/315 [00:00<00:00, 581.89it/s]\n"
          ]
        },
        {
          "output_type": "stream",
          "name": "stdout",
          "text": [
            "/content/Dirt Rally/20/PC/IBI.csv\n"
          ]
        },
        {
          "output_type": "stream",
          "name": "stderr",
          "text": [
            "HRV features: 100%|██████████| 474/474 [00:02<00:00, 188.92it/s]\n"
          ]
        },
        {
          "output_type": "stream",
          "name": "stdout",
          "text": [
            "/content/Dirt Rally/21/PC/IBI.csv\n"
          ]
        },
        {
          "output_type": "stream",
          "name": "stderr",
          "text": [
            "HRV features: 100%|██████████| 367/367 [00:02<00:00, 153.49it/s]\n"
          ]
        },
        {
          "output_type": "stream",
          "name": "stdout",
          "text": [
            "/content/Dirt Rally/19/PC/IBI.csv\n"
          ]
        },
        {
          "output_type": "stream",
          "name": "stderr",
          "text": [
            "HRV features: 100%|██████████| 193/193 [00:00<00:00, 1775.36it/s]\n"
          ]
        },
        {
          "output_type": "stream",
          "name": "stdout",
          "text": [
            "/content/Dirt Rally/23/VR/IBI.csv\n"
          ]
        },
        {
          "output_type": "stream",
          "name": "stderr",
          "text": [
            "HRV features: 100%|██████████| 220/220 [00:00<00:00, 1306.24it/s]\n"
          ]
        },
        {
          "output_type": "stream",
          "name": "stdout",
          "text": [
            "/content/Dirt Rally/6/VR/IBI.csv\n",
            "error\n",
            "/content/Dirt Rally/25/VR/IBI.csv\n",
            "error\n",
            "/content/Dirt Rally/5/VR/IBI.csv\n",
            "error\n",
            "/content/Dirt Rally/26/VR/IBI.csv\n",
            "error\n",
            "/content/Dirt Rally/22/VR/IBI.csv\n"
          ]
        },
        {
          "output_type": "stream",
          "name": "stderr",
          "text": [
            "HRV features: 100%|██████████| 364/364 [00:03<00:00, 106.33it/s]\n"
          ]
        },
        {
          "output_type": "stream",
          "name": "stdout",
          "text": [
            "/content/Dirt Rally/20/VR/IBI.csv\n"
          ]
        },
        {
          "output_type": "stream",
          "name": "stderr",
          "text": [
            "HRV features: 100%|██████████| 299/299 [00:01<00:00, 209.82it/s]\n"
          ]
        },
        {
          "output_type": "stream",
          "name": "stdout",
          "text": [
            "/content/Dirt Rally/21/VR/IBI.csv\n"
          ]
        },
        {
          "output_type": "stream",
          "name": "stderr",
          "text": [
            "HRV features: 100%|██████████| 216/216 [00:01<00:00, 191.74it/s]\n"
          ]
        },
        {
          "output_type": "stream",
          "name": "stdout",
          "text": [
            "/content/Dirt Rally/19/VR/IBI.csv\n",
            "error\n"
          ]
        }
      ]
    },
    {
      "cell_type": "code",
      "source": [
        "data = [[[], []], [[], []], [[], []]]\n",
        "i=0\n",
        "for x in lf[:-1]:\n",
        "  j=0\n",
        "  for y in x:\n",
        "    tmp=[]\n",
        "    k=0\n",
        "    for z in y:\n",
        "      tmp.append(np.mean(z.dropna().tolist()))\n",
        "      k+=1\n",
        "    data[0][i].append(tmp)\n",
        "  i+=1\n",
        "i=0\n",
        "for x in hf[:-1]:\n",
        "  j=0\n",
        "  for y in x:\n",
        "    tmp=[]\n",
        "    for z in y:\n",
        "      tmp.append(np.mean(z.dropna().tolist()))\n",
        "    data[1][i].append(tmp)\n",
        "    j+=1\n",
        "  i+=1\n",
        "\n",
        "for i in [0, 1]:\n",
        "  for x,y in zip(data[0][i], data[1][i]):\n",
        "    data[2][i]+=(np.array(np.array(x)/np.array(y))).tolist()\n",
        "\n",
        "\n",
        "print(\"LF/HF\")\n",
        "vr = data[2][1][:25]\n",
        "pc = data[2][0][:25]\n",
        "print(f\"FS: Mdn: {np.median(pc):.2f} ({np.percentile(pc, 25):.2f}-{np.percentile(pc, 75):.2f})\")\n",
        "print(f\"VR: Mdn: {np.median(vr):.2f} ({np.percentile(vr, 25):.2f}-{np.percentile(vr, 75):.2f})\")\n",
        "print(f\"FS: $\\mu: $ {np.mean(pc):.2f}, $\\sigma: $: {np.std(pc):.2f}\")\n",
        "print(f\"VR: $\\mu: $ {np.mean(vr):.2f}, $\\sigma: $: {np.std(vr):.2f}\")\n",
        "print(stats.shapiro(pc))\n",
        "print(stats.shapiro(vr))\n",
        "result = stats.ttest_rel(pc, vr)\n",
        "print(result)\n",
        "print(cohen_d(pc, vr))"
      ],
      "metadata": {
        "colab": {
          "base_uri": "https://localhost:8080/"
        },
        "id": "3UiFaD_YWEdh",
        "outputId": "8606ed7c-095e-4fef-896b-75fa8748a056"
      },
      "execution_count": null,
      "outputs": [
        {
          "output_type": "stream",
          "name": "stdout",
          "text": [
            "LF/HF\n",
            "FS: Mdn: 1.43 (0.93-1.67)\n",
            "VR: Mdn: 1.30 (0.86-1.91)\n",
            "FS: $\\mu: $ 1.36, $\\sigma: $: 0.61\n",
            "VR: $\\mu: $ 1.43, $\\sigma: $: 0.63\n",
            "ShapiroResult(statistic=0.9464111924171448, pvalue=0.20784859359264374)\n",
            "ShapiroResult(statistic=0.9661115407943726, pvalue=0.5489051342010498)\n",
            "TtestResult(statistic=-0.5036821429215032, pvalue=0.6190769097581027, df=24)\n",
            "-0.10670792611193591\n"
          ]
        }
      ]
    },
    {
      "cell_type": "markdown",
      "source": [
        "#EDA"
      ],
      "metadata": {
        "id": "ysLLNIb8Wzrg"
      }
    },
    {
      "cell_type": "code",
      "source": [
        "#@title cvxEDA Algorith\n",
        "\"\"\"\n",
        "______________________________________________________________________________\n",
        "\n",
        " File:                         cvxEDA.py\n",
        " Last revised:                 07 Nov 2015 r69\n",
        " ______________________________________________________________________________\n",
        "\n",
        " Copyright (C) 2014-2015 Luca Citi, Alberto Greco\n",
        " \n",
        " This program is free software; you can redistribute it and/or modify it under\n",
        " the terms of the GNU General Public License as published by the Free Software\n",
        " Foundation; either version 3 of the License, or (at your option) any later\n",
        " version.\n",
        " \n",
        " This program is distributed in the hope that it will be useful, but WITHOUT\n",
        " ANY WARRANTY; without even the implied warranty of MERCHANTABILITY or FITNESS\n",
        " FOR A PARTICULAR PURPOSE. See the GNU General Public License for more details.\n",
        " \n",
        " You may contact the author by e-mail (lciti@ieee.org).\n",
        " ______________________________________________________________________________\n",
        "\n",
        " This method was first proposed in:\n",
        " A Greco, G Valenza, A Lanata, EP Scilingo, and L Citi\n",
        " \"cvxEDA: a Convex Optimization Approach to Electrodermal Activity Processing\"\n",
        " IEEE Transactions on Biomedical Engineering, 2015\n",
        " DOI: 10.1109/TBME.2015.2474131\n",
        "\n",
        " If you use this program in support of published research, please include a\n",
        " citation of the reference above. If you use this code in a software package,\n",
        " please explicitly inform the end users of this copyright notice and ask them\n",
        " to cite the reference above in their published research.\n",
        " ______________________________________________________________________________\n",
        "\"\"\"\n",
        "\n",
        "import numpy as np\n",
        "import cvxopt as cv\n",
        "import cvxopt.solvers\n",
        "\n",
        "def cvxEDA(y, delta, tau0=2., tau1=0.7, delta_knot=10., alpha=8e-4, gamma=1e-2,\n",
        "           solver=None, options={'reltol':1e-9}):\n",
        "    \"\"\"CVXEDA Convex optimization approach to electrodermal activity processing\n",
        "\n",
        "    This function implements the cvxEDA algorithm described in \"cvxEDA: a\n",
        "    Convex Optimization Approach to Electrodermal Activity Processing\"\n",
        "    (http://dx.doi.org/10.1109/TBME.2015.2474131, also available from the\n",
        "    authors' homepages).\n",
        "    \n",
        "\n",
        "    Arguments:\n",
        "       y: observed EDA signal (we recommend normalizing it: y = zscore(y))\n",
        "       delta: sampling interval (in seconds) of y\n",
        "       tau0: slow time constant of the Bateman function\n",
        "       tau1: fast time constant of the Bateman function\n",
        "       delta_knot: time between knots of the tonic spline function\n",
        "       alpha: penalization for the sparse SMNA driver\n",
        "       gamma: penalization for the tonic spline coefficients\n",
        "       solver: sparse QP solver to be used, see cvxopt.solvers.qp\n",
        "       options: solver options, see:\n",
        "                http://cvxopt.org/userguide/coneprog.html#algorithm-parameters\n",
        "\n",
        "    Returns (see paper for details):\n",
        "       r: phasic component\n",
        "       p: sparse SMNA driver of phasic component\n",
        "       t: tonic component\n",
        "       l: coefficients of tonic spline\n",
        "       d: offset and slope of the linear drift term\n",
        "       e: model residuals\n",
        "       obj: value of objective function being minimized (eq 15 of paper)\n",
        "    \"\"\"\n",
        "\n",
        "    n = len(y)\n",
        "    y = cv.matrix(y)\n",
        "\n",
        "    # bateman ARMA model\n",
        "    a1 = 1./min(tau1, tau0) # a1 > a0\n",
        "    a0 = 1./max(tau1, tau0)\n",
        "    ar = np.array([(a1*delta + 2.) * (a0*delta + 2.), 2.*a1*a0*delta**2 - 8.,\n",
        "        (a1*delta - 2.) * (a0*delta - 2.)]) / ((a1 - a0) * delta**2)\n",
        "    ma = np.array([1., 2., 1.])\n",
        "\n",
        "    # matrices for ARMA model\n",
        "    i = np.arange(2, n)\n",
        "    A = cv.spmatrix(np.tile(ar, (n-2,1)), np.c_[i,i,i], np.c_[i,i-1,i-2], (n,n))\n",
        "    M = cv.spmatrix(np.tile(ma, (n-2,1)), np.c_[i,i,i], np.c_[i,i-1,i-2], (n,n))\n",
        "\n",
        "    # spline\n",
        "    delta_knot_s = int(round(delta_knot / delta))\n",
        "    spl = np.r_[np.arange(1.,delta_knot_s), np.arange(delta_knot_s, 0., -1.)] # order 1\n",
        "    spl = np.convolve(spl, spl, 'full')\n",
        "    spl /= max(spl)\n",
        "    # matrix of spline regressors\n",
        "    i = np.c_[np.arange(-(len(spl)//2), (len(spl)+1)//2)] + np.r_[np.arange(0, n, delta_knot_s)]\n",
        "    nB = i.shape[1]\n",
        "    j = np.tile(np.arange(nB), (len(spl),1))\n",
        "    p = np.tile(spl, (nB,1)).T\n",
        "    valid = (i >= 0) & (i < n)\n",
        "    B = cv.spmatrix(p[valid], i[valid], j[valid])\n",
        "\n",
        "    # trend\n",
        "    C = cv.matrix(np.c_[np.ones(n), np.arange(1., n+1.)/n])\n",
        "    nC = C.size[1]\n",
        "\n",
        "    # Solve the problem:\n",
        "    # .5*(M*q + B*l + C*d - y)^2 + alpha*sum(A,1)*p + .5*gamma*l'*l\n",
        "    # s.t. A*q >= 0\n",
        "\n",
        "    old_options = cv.solvers.options.copy()\n",
        "    cv.solvers.options.clear()\n",
        "    cv.solvers.options.update(options)\n",
        "    if solver == 'conelp':\n",
        "        # Use conelp\n",
        "        z = lambda m,n: cv.spmatrix([],[],[],(m,n))\n",
        "        G = cv.sparse([[-A,z(2,n),M,z(nB+2,n)],[z(n+2,nC),C,z(nB+2,nC)],\n",
        "                    [z(n,1),-1,1,z(n+nB+2,1)],[z(2*n+2,1),-1,1,z(nB,1)],\n",
        "                    [z(n+2,nB),B,z(2,nB),cv.spmatrix(1.0, range(nB), range(nB))]])\n",
        "        h = cv.matrix([z(n,1),.5,.5,y,.5,.5,z(nB,1)])\n",
        "        c = cv.matrix([(cv.matrix(alpha, (1,n)) * A).T,z(nC,1),1,gamma,z(nB,1)])\n",
        "        res = cv.solvers.conelp(c, G, h, dims={'l':n,'q':[n+2,nB+2],'s':[]})\n",
        "        obj = res['primal objective']\n",
        "    else:\n",
        "        # Use qp\n",
        "        Mt, Ct, Bt = M.T, C.T, B.T\n",
        "        H = cv.sparse([[Mt*M, Ct*M, Bt*M], [Mt*C, Ct*C, Bt*C], \n",
        "                    [Mt*B, Ct*B, Bt*B+gamma*cv.spmatrix(1.0, range(nB), range(nB))]])\n",
        "        f = cv.matrix([(cv.matrix(alpha, (1,n)) * A).T - Mt*y,  -(Ct*y), -(Bt*y)])\n",
        "        res = cv.solvers.qp(H, f, cv.spmatrix(-A.V, A.I, A.J, (n,len(f))),\n",
        "                            cv.matrix(0., (n,1)), solver=solver)\n",
        "        obj = res['primal objective'] + .5 * (y.T * y)\n",
        "    cv.solvers.options.clear()\n",
        "    cv.solvers.options.update(old_options)\n",
        "\n",
        "    l = res['x'][-nB:]\n",
        "    d = res['x'][n:n+nC]\n",
        "    t = B*l + C*d\n",
        "    q = res['x'][:n]\n",
        "    p = A * q\n",
        "    r = M * q\n",
        "    e = y - r - t\n",
        "\n",
        "    return [r, p, t, l, d, e, obj]"
      ],
      "metadata": {
        "cellView": "form",
        "id": "2rMc12sjWogy"
      },
      "execution_count": null,
      "outputs": []
    },
    {
      "cell_type": "code",
      "source": [
        "paths = [\"/content/Phasmophobia\", \"/content/Warthunder\", \"/content/Minecraft\", \"/content/Dirt Rally\"]\n",
        "eda_PC = []\n",
        "eda_VR = []\n",
        "eda_BS = [[], [], []]\n",
        "for path in paths:\n",
        "  for participant in glob(path + \"/*/Baseline\", recursive = True):\n",
        "    p = glob(participant+\"/EDA.csv\")[0]\n",
        "    eda_BS[0].append(flirt.reader.empatica.read_eda_file_into_df(p)[\"eda\"])\n",
        "    eda_BS[1].append(np.mean(flirt.reader.empatica.read_eda_file_into_df(p)[\"eda\"]))\n",
        "    eda_BS[2].append(np.std(flirt.reader.empatica.read_eda_file_into_df(p)[\"eda\"]))\n",
        "  for participant in glob(path + \"/*/PC\", recursive = True):\n",
        "    p = glob(participant+\"/EDA.csv\")[0]\n",
        "    eda_PC.append(flirt.reader.empatica.read_eda_file_into_df(p)[\"eda\"])\n",
        "  for participant in glob(path + \"/*/VR\", recursive = True):\n",
        "    p = glob(participant+\"/EDA.csv\")[0]\n",
        "    eda_VR.append(flirt.reader.empatica.read_eda_file_into_df(p)[\"eda\"])"
      ],
      "metadata": {
        "id": "qXcWL1obXDi5"
      },
      "execution_count": null,
      "outputs": []
    },
    {
      "cell_type": "code",
      "source": [
        "# 0: Phasic, SCR\n",
        "# 1: Tonic, SCL\n",
        "cvx_eda_PC = [[], [], [], []]\n",
        "cvx_eda_VR = [[], [], [], []]\n",
        "cvx_eda_BS = [[], [], [], []]\n",
        "# 0 - 8  : Phasmophobia\n",
        "# 8 - 15 : Warthunder\n",
        "# 15 - 24: Minecraft\n",
        "# 24 - 33: Dirt Rally\n",
        "i=0\n",
        "j=0\n",
        "for eda in eda_BS[0]:\n",
        "  cvx = cvxEDA(eda, 4)\n",
        "  cvx_eda_BS[j].append([cvx[0], cvx[2]])\n",
        "  i+=1\n",
        "  if(i==8 or i==15 or i==24):\n",
        "    j+=1\n",
        "i=0\n",
        "j=0\n",
        "for eda in eda_PC:\n",
        "  cvx = cvxEDA(eda, 4)\n",
        "  cvx_eda_PC[j].append([cvx[0], cvx[2]])\n",
        "  i+=1\n",
        "  if(i==8 or i==15 or i==24):\n",
        "    j+=1\n",
        "\n",
        "i=0\n",
        "j=0\n",
        "for eda in eda_VR:\n",
        "  cvx = cvxEDA(eda, 4)\n",
        "  cvx_eda_VR[j].append([cvx[0], cvx[2]])\n",
        "  i+=1\n",
        "  if(i==8 or i==15 or i==24):\n",
        "    j+=1"
      ],
      "metadata": {
        "id": "gK4uTSenX0r2",
        "colab": {
          "base_uri": "https://localhost:8080/"
        },
        "outputId": "353090f4-c5b4-4e0c-f943-7fef602d76f0"
      },
      "execution_count": null,
      "outputs": [
        {
          "output_type": "stream",
          "name": "stdout",
          "text": [
            "     pcost       dcost       gap    pres   dres\n",
            " 0: -5.8626e+04 -5.8625e+04  1e+03  4e+01  9e-03\n",
            " 1: -5.8626e+04 -5.8732e+04  1e+02  3e+00  7e-04\n",
            " 2: -5.8626e+04 -5.8634e+04  9e+00  2e-01  5e-05\n",
            " 3: -5.8626e+04 -5.8627e+04  1e+00  9e-03  2e-06\n",
            " 4: -5.8626e+04 -5.8627e+04  2e-01  2e-03  4e-07\n",
            " 5: -5.8627e+04 -5.8627e+04  5e-02  2e-04  4e-08\n",
            " 6: -5.8627e+04 -5.8627e+04  1e-02  2e-05  4e-09\n",
            " 7: -5.8627e+04 -5.8627e+04  2e-03  3e-06  7e-10\n",
            " 8: -5.8627e+04 -5.8627e+04  5e-04  5e-07  1e-10\n",
            " 9: -5.8627e+04 -5.8627e+04  9e-05  6e-08  1e-11\n",
            "10: -5.8627e+04 -5.8627e+04  7e-06  3e-09  6e-13\n",
            "Optimal solution found.\n",
            "     pcost       dcost       gap    pres   dres\n",
            " 0: -1.6662e+04 -1.6661e+04  1e+03  4e+01  2e-02\n",
            " 1: -1.6661e+04 -1.6766e+04  1e+02  3e+00  1e-03\n",
            " 2: -1.6661e+04 -1.6669e+04  7e+00  2e-01  7e-05\n",
            " 3: -1.6662e+04 -1.6663e+04  9e-01  7e-03  3e-06\n",
            " 4: -1.6662e+04 -1.6663e+04  2e-01  1e-03  6e-07\n",
            " 5: -1.6662e+04 -1.6662e+04  6e-02  2e-04  9e-08\n",
            " 6: -1.6662e+04 -1.6662e+04  1e-02  3e-05  1e-08\n",
            " 7: -1.6662e+04 -1.6662e+04  3e-03  3e-06  1e-09\n",
            " 8: -1.6662e+04 -1.6662e+04  4e-04  3e-07  1e-10\n",
            " 9: -1.6662e+04 -1.6662e+04  1e-04  7e-08  3e-11\n",
            "10: -1.6662e+04 -1.6662e+04  3e-05  7e-10  3e-13\n",
            "11: -1.6662e+04 -1.6662e+04  1e-06  2e-11  1e-14\n",
            "Optimal solution found.\n",
            "     pcost       dcost       gap    pres   dres\n",
            " 0: -2.7132e+03 -2.7120e+03  2e+03  4e+01  4e-02\n",
            " 1: -2.7121e+03 -2.8051e+03  1e+02  2e+00  2e-03\n",
            " 2: -2.7121e+03 -2.7181e+03  6e+00  1e-01  1e-04\n",
            " 3: -2.7125e+03 -2.7133e+03  8e-01  1e-03  1e-06\n",
            " 4: -2.7131e+03 -2.7133e+03  2e-01  2e-04  2e-07\n",
            " 5: -2.7132e+03 -2.7132e+03  3e-02  3e-05  3e-08\n",
            " 6: -2.7132e+03 -2.7132e+03  6e-03  4e-06  4e-09\n",
            " 7: -2.7132e+03 -2.7132e+03  1e-03  6e-07  6e-10\n",
            " 8: -2.7132e+03 -2.7132e+03  2e-04  7e-08  6e-11\n",
            " 9: -2.7132e+03 -2.7132e+03  2e-05  6e-09  6e-12\n",
            "10: -2.7132e+03 -2.7132e+03  2e-06  5e-10  4e-13\n",
            "Optimal solution found.\n",
            "     pcost       dcost       gap    pres   dres\n",
            " 0: -4.0805e+04 -4.0804e+04  2e+03  4e+01  1e-02\n",
            " 1: -4.0804e+04 -4.0914e+04  1e+02  3e+00  8e-04\n",
            " 2: -4.0805e+04 -4.0812e+04  8e+00  2e-01  5e-05\n",
            " 3: -4.0805e+04 -4.0806e+04  7e-01  2e-03  5e-07\n",
            " 4: -4.0805e+04 -4.0806e+04  2e-01  4e-04  9e-08\n",
            " 5: -4.0806e+04 -4.0806e+04  4e-02  6e-05  2e-08\n",
            " 6: -4.0806e+04 -4.0806e+04  1e-02  6e-06  1e-09\n",
            " 7: -4.0806e+04 -4.0806e+04  2e-03  9e-07  2e-10\n",
            " 8: -4.0806e+04 -4.0806e+04  8e-04  1e-07  3e-11\n",
            " 9: -4.0806e+04 -4.0806e+04  2e-04  1e-09  3e-13\n",
            "10: -4.0806e+04 -4.0806e+04  5e-05  2e-10  6e-14\n",
            "11: -4.0806e+04 -4.0806e+04  1e-05  6e-12  5e-15\n",
            "Optimal solution found.\n",
            "     pcost       dcost       gap    pres   dres\n",
            " 0: -1.5584e+04 -1.5583e+04  1e+03  4e+01  2e-02\n",
            " 1: -1.5583e+04 -1.5685e+04  1e+02  3e+00  1e-03\n",
            " 2: -1.5583e+04 -1.5589e+04  6e+00  1e-01  5e-05\n",
            " 3: -1.5584e+04 -1.5584e+04  7e-01  1e-03  5e-07\n",
            " 4: -1.5584e+04 -1.5584e+04  1e-01  2e-04  7e-08\n",
            " 5: -1.5584e+04 -1.5584e+04  2e-02  2e-05  9e-09\n",
            " 6: -1.5584e+04 -1.5584e+04  4e-03  2e-06  9e-10\n",
            " 7: -1.5584e+04 -1.5584e+04  8e-04  2e-07  1e-10\n",
            " 8: -1.5584e+04 -1.5584e+04  2e-04  3e-08  2e-11\n",
            " 9: -1.5584e+04 -1.5584e+04  5e-05  1e-08  4e-12\n",
            "10: -1.5584e+04 -1.5584e+04  2e-05  1e-09  6e-13\n",
            "11: -1.5584e+04 -1.5584e+04  2e-06  1e-10  5e-14\n",
            "Optimal solution found.\n",
            "     pcost       dcost       gap    pres   dres\n",
            " 0: -2.1829e+02 -2.1525e+02  4e+03  6e+01  1e-01\n",
            " 1: -2.1540e+02 -3.9887e+02  2e+02  3e+00  7e-03\n",
            " 2: -2.1534e+02 -2.2344e+02  8e+00  9e-02  2e-04\n",
            " 3: -2.1705e+02 -2.1832e+02  1e+00  9e-04  2e-06\n",
            " 4: -2.1817e+02 -2.1829e+02  1e-01  8e-05  2e-07\n",
            " 5: -2.1827e+02 -2.1829e+02  2e-02  1e-05  2e-08\n",
            " 6: -2.1829e+02 -2.1829e+02  4e-03  1e-06  3e-09\n",
            " 7: -2.1829e+02 -2.1829e+02  5e-04  1e-07  2e-10\n",
            " 8: -2.1829e+02 -2.1829e+02  5e-05  6e-09  1e-11\n",
            " 9: -2.1829e+02 -2.1829e+02  4e-06  4e-10  9e-13\n",
            "10: -2.1829e+02 -2.1829e+02  3e-07  2e-11  5e-14\n",
            "11: -2.1829e+02 -2.1829e+02  1e-08  3e-13  3e-15\n",
            "Optimal solution found.\n",
            "     pcost       dcost       gap    pres   dres\n",
            " 0: -6.0052e+01 -5.8823e+01  2e+03  4e+01  3e-01\n",
            " 1: -5.8874e+01 -1.3135e+02  8e+01  2e+00  1e-02\n",
            " 2: -5.8854e+01 -6.2152e+01  3e+00  5e-02  4e-04\n",
            " 3: -5.9545e+01 -6.0062e+01  5e-01  5e-04  4e-06\n",
            " 4: -6.0022e+01 -6.0052e+01  3e-02  3e-05  2e-07\n",
            " 5: -6.0046e+01 -6.0051e+01  5e-03  4e-06  2e-08\n",
            " 6: -6.0051e+01 -6.0051e+01  7e-04  3e-07  2e-09\n",
            " 7: -6.0051e+01 -6.0051e+01  6e-05  1e-08  8e-11\n",
            " 8: -6.0051e+01 -6.0051e+01  4e-06  6e-10  4e-12\n",
            " 9: -6.0051e+01 -6.0051e+01  2e-07  2e-11  1e-13\n",
            "10: -6.0051e+01 -6.0051e+01  6e-09  3e-13  2e-15\n",
            "Optimal solution found.\n",
            "     pcost       dcost       gap    pres   dres\n",
            " 0: -1.7986e+04 -1.7983e+04  4e+03  6e+01  2e-02\n",
            " 1: -1.7984e+04 -1.8299e+04  3e+02  5e+00  2e-03\n",
            " 2: -1.7985e+04 -1.8022e+04  4e+01  5e-01  2e-04\n",
            " 3: -1.7990e+04 -1.8001e+04  1e+01  1e-01  4e-05\n",
            " 4: -1.7991e+04 -1.7994e+04  2e+00  1e-02  3e-06\n",
            " 5: -1.7992e+04 -1.7993e+04  7e-01  3e-03  1e-06\n",
            " 6: -1.7993e+04 -1.7993e+04  2e-01  3e-04  1e-07\n",
            " 7: -1.7993e+04 -1.7993e+04  4e-02  4e-05  1e-08\n",
            " 8: -1.7993e+04 -1.7993e+04  9e-03  6e-06  2e-09\n",
            " 9: -1.7993e+04 -1.7993e+04  4e-03  2e-06  6e-10\n",
            "10: -1.7993e+04 -1.7993e+04  2e-03  5e-07  1e-10\n",
            "11: -1.7993e+04 -1.7993e+04  9e-04  8e-08  3e-11\n",
            "12: -1.7993e+04 -1.7993e+04  3e-04  2e-08  7e-12\n",
            "13: -1.7993e+04 -1.7993e+04  2e-04  2e-08  5e-12\n",
            "14: -1.7993e+04 -1.7993e+04  7e-05  4e-09  1e-12\n",
            "15: -1.7993e+04 -1.7993e+04  5e-05  2e-09  5e-13\n",
            "16: -1.7993e+04 -1.7993e+04  1e-05  4e-10  1e-13\n",
            "Optimal solution found.\n",
            "     pcost       dcost       gap    pres   dres\n",
            " 0: -1.1542e+02 -1.1429e+02  1e+03  4e+01  2e-01\n",
            " 1: -1.1437e+02 -1.9718e+02  9e+01  2e+00  1e-02\n",
            " 2: -1.1433e+02 -1.1960e+02  5e+00  1e-01  6e-04\n",
            " 3: -1.1473e+02 -1.1545e+02  7e-01  1e-03  6e-06\n",
            " 4: -1.1537e+02 -1.1542e+02  5e-02  8e-05  4e-07\n",
            " 5: -1.1542e+02 -1.1542e+02  5e-03  8e-06  4e-08\n",
            " 6: -1.1542e+02 -1.1542e+02  8e-04  8e-07  4e-09\n",
            " 7: -1.1542e+02 -1.1542e+02  9e-05  7e-08  4e-10\n",
            " 8: -1.1542e+02 -1.1542e+02  5e-06  3e-09  1e-11\n",
            " 9: -1.1542e+02 -1.1542e+02  5e-07  2e-10  1e-12\n",
            "10: -1.1542e+02 -1.1542e+02  2e-08  5e-12  2e-14\n",
            "Optimal solution found.\n",
            "     pcost       dcost       gap    pres   dres\n",
            " 0: -4.0765e+01 -3.9672e+01  1e+03  4e+01  3e-01\n",
            " 1: -3.9726e+01 -1.0952e+02  7e+01  2e+00  2e-02\n",
            " 2: -3.9701e+01 -4.3417e+01  4e+00  7e-02  6e-04\n",
            " 3: -4.0211e+01 -4.0782e+01  6e-01  7e-04  6e-06\n",
            " 4: -4.0742e+01 -4.0765e+01  2e-02  3e-05  2e-07\n",
            " 5: -4.0762e+01 -4.0765e+01  3e-03  3e-06  3e-08\n",
            " 6: -4.0764e+01 -4.0765e+01  4e-04  2e-07  2e-09\n",
            " 7: -4.0765e+01 -4.0765e+01  4e-05  2e-08  1e-10\n",
            " 8: -4.0765e+01 -4.0765e+01  3e-06  1e-09  8e-12\n",
            " 9: -4.0765e+01 -4.0765e+01  2e-07  3e-11  3e-13\n",
            "10: -4.0765e+01 -4.0765e+01  9e-09  1e-12  1e-14\n",
            "Optimal solution found.\n",
            "     pcost       dcost       gap    pres   dres\n",
            " 0: -4.6956e+00 -3.9687e+00  9e+02  3e+01  9e-01\n",
            " 1: -3.9889e+00 -4.3537e+01  4e+01  1e+00  4e-02\n",
            " 2: -3.9843e+00 -5.6187e+00  2e+00  3e-02  9e-04\n",
            " 3: -4.4536e+00 -4.6994e+00  2e-01  3e-04  9e-06\n",
            " 4: -4.6813e+00 -4.6952e+00  1e-02  2e-05  5e-07\n",
            " 5: -4.6930e+00 -4.6951e+00  2e-03  3e-07  8e-09\n",
            " 6: -4.6948e+00 -4.6950e+00  2e-04  3e-08  7e-10\n",
            " 7: -4.6950e+00 -4.6950e+00  1e-05  8e-10  2e-11\n",
            " 8: -4.6950e+00 -4.6950e+00  6e-07  3e-11  9e-13\n",
            " 9: -4.6950e+00 -4.6950e+00  2e-08  5e-13  2e-14\n",
            "Optimal solution found.\n",
            "     pcost       dcost       gap    pres   dres\n",
            " 0: -5.3065e+03 -5.3048e+03  2e+03  5e+01  4e-02\n",
            " 1: -5.3052e+03 -5.4595e+03  2e+02  4e+00  3e-03\n",
            " 2: -5.3053e+03 -5.3263e+03  2e+01  4e-01  3e-04\n",
            " 3: -5.3057e+03 -5.3098e+03  4e+00  7e-02  5e-05\n",
            " 4: -5.3063e+03 -5.3070e+03  6e-01  7e-04  5e-07\n",
            " 5: -5.3068e+03 -5.3069e+03  1e-01  1e-04  9e-08\n",
            " 6: -5.3068e+03 -5.3069e+03  3e-02  6e-06  5e-09\n",
            " 7: -5.3069e+03 -5.3069e+03  5e-03  6e-07  5e-10\n",
            " 8: -5.3069e+03 -5.3069e+03  1e-03  8e-08  6e-11\n",
            " 9: -5.3069e+03 -5.3069e+03  2e-04  9e-09  7e-12\n",
            "10: -5.3069e+03 -5.3069e+03  4e-05  2e-09  1e-12\n",
            "11: -5.3069e+03 -5.3069e+03  1e-05  5e-10  4e-13\n",
            "12: -5.3069e+03 -5.3069e+03  6e-06  7e-11  6e-14\n",
            "13: -5.3069e+03 -5.3069e+03  3e-07  3e-12  3e-15\n",
            "Optimal solution found.\n",
            "     pcost       dcost       gap    pres   dres\n",
            " 0: -2.4113e+04 -2.4109e+04  4e+03  7e+01  1e-02\n",
            " 1: -2.4110e+04 -2.4406e+04  3e+02  5e+00  1e-03\n",
            " 2: -2.4110e+04 -2.4151e+04  4e+01  6e-01  1e-04\n",
            " 3: -2.4111e+04 -2.4119e+04  7e+00  8e-02  2e-05\n",
            " 4: -2.4113e+04 -2.4114e+04  1e+00  8e-04  2e-07\n",
            " 5: -2.4114e+04 -2.4114e+04  2e-01  8e-05  2e-08\n",
            " 6: -2.4114e+04 -2.4114e+04  5e-02  1e-05  2e-09\n",
            " 7: -2.4114e+04 -2.4114e+04  2e-02  3e-06  6e-10\n",
            " 8: -2.4114e+04 -2.4114e+04  5e-03  5e-07  1e-10\n",
            " 9: -2.4114e+04 -2.4114e+04  2e-03  2e-07  4e-11\n",
            "10: -2.4114e+04 -2.4114e+04  6e-04  2e-08  4e-12\n",
            "11: -2.4114e+04 -2.4114e+04  2e-04  6e-09  1e-12\n",
            "12: -2.4114e+04 -2.4114e+04  1e-04  2e-09  5e-13\n",
            "13: -2.4114e+04 -2.4114e+04  5e-05  7e-10  1e-13\n",
            "14: -2.4114e+04 -2.4114e+04  2e-05  1e-11  3e-15\n",
            "Optimal solution found.\n",
            "     pcost       dcost       gap    pres   dres\n",
            " 0: -9.2015e+01 -9.0778e+01  2e+03  4e+01  2e-01\n",
            " 1: -9.0864e+01 -1.8351e+02  1e+02  2e+00  1e-02\n",
            " 2: -9.0819e+01 -9.6700e+01  6e+00  1e-01  7e-04\n",
            " 3: -9.1254e+01 -9.2055e+01  8e-01  1e-03  7e-06\n",
            " 4: -9.1955e+01 -9.2021e+01  7e-02  1e-04  6e-07\n",
            " 5: -9.2014e+01 -9.2019e+01  5e-03  7e-06  4e-08\n",
            " 6: -9.2018e+01 -9.2019e+01  9e-04  1e-06  6e-09\n",
            " 7: -9.2019e+01 -9.2019e+01  1e-04  9e-08  6e-10\n",
            " 8: -9.2019e+01 -9.2019e+01  1e-05  7e-09  4e-11\n",
            " 9: -9.2019e+01 -9.2019e+01  6e-07  3e-10  2e-12\n",
            "10: -9.2019e+01 -9.2019e+01  6e-08  2e-11  1e-13\n",
            "Optimal solution found.\n",
            "     pcost       dcost       gap    pres   dres\n",
            " 0: -2.0651e+02 -2.0541e+02  1e+03  4e+01  1e-01\n",
            " 1: -2.0547e+02 -2.7882e+02  8e+01  2e+00  8e-03\n",
            " 2: -2.0544e+02 -2.0930e+02  4e+00  8e-02  3e-04\n",
            " 3: -2.0594e+02 -2.0653e+02  6e-01  8e-04  3e-06\n",
            " 4: -2.0648e+02 -2.0651e+02  3e-02  4e-05  1e-07\n",
            " 5: -2.0651e+02 -2.0651e+02  5e-03  5e-06  2e-08\n",
            " 6: -2.0651e+02 -2.0651e+02  7e-04  5e-07  2e-09\n",
            " 7: -2.0651e+02 -2.0651e+02  9e-05  4e-08  1e-10\n",
            " 8: -2.0651e+02 -2.0651e+02  8e-06  2e-09  9e-12\n",
            " 9: -2.0651e+02 -2.0651e+02  6e-07  1e-10  4e-13\n",
            "10: -2.0651e+02 -2.0651e+02  5e-08  6e-12  2e-14\n",
            "Optimal solution found.\n",
            "     pcost       dcost       gap    pres   dres\n",
            " 0: -6.2864e+03 -6.2852e+03  1e+03  4e+01  3e-02\n",
            " 1: -6.2854e+03 -6.3886e+03  1e+02  3e+00  2e-03\n",
            " 2: -6.2854e+03 -6.2949e+03  1e+01  2e-01  2e-04\n",
            " 3: -6.2856e+03 -6.2865e+03  9e-01  2e-03  2e-06\n",
            " 4: -6.2863e+03 -6.2865e+03  2e-01  3e-04  2e-07\n",
            " 5: -6.2864e+03 -6.2865e+03  3e-02  2e-05  1e-08\n",
            " 6: -6.2865e+03 -6.2865e+03  6e-03  2e-06  2e-09\n",
            " 7: -6.2865e+03 -6.2865e+03  1e-03  3e-07  2e-10\n",
            " 8: -6.2865e+03 -6.2865e+03  2e-04  4e-08  3e-11\n",
            " 9: -6.2865e+03 -6.2865e+03  3e-05  4e-09  3e-12\n",
            "10: -6.2865e+03 -6.2865e+03  2e-06  3e-10  2e-13\n",
            "Optimal solution found.\n",
            "     pcost       dcost       gap    pres   dres\n",
            " 0: -5.3860e+03 -5.3850e+03  1e+03  4e+01  3e-02\n",
            " 1: -5.3851e+03 -5.4675e+03  9e+01  2e+00  2e-03\n",
            " 2: -5.3851e+03 -5.3934e+03  8e+00  2e-01  2e-04\n",
            " 3: -5.3853e+03 -5.3862e+03  8e-01  2e-03  2e-06\n",
            " 4: -5.3860e+03 -5.3861e+03  1e-01  3e-04  2e-07\n",
            " 5: -5.3861e+03 -5.3861e+03  3e-02  1e-05  1e-08\n",
            " 6: -5.3861e+03 -5.3861e+03  6e-03  2e-06  1e-09\n",
            " 7: -5.3861e+03 -5.3861e+03  1e-03  2e-07  2e-10\n",
            " 8: -5.3861e+03 -5.3861e+03  2e-04  2e-08  2e-11\n",
            " 9: -5.3861e+03 -5.3861e+03  3e-05  4e-10  3e-13\n",
            "10: -5.3861e+03 -5.3861e+03  2e-06  1e-11  1e-14\n",
            "Optimal solution found.\n",
            "     pcost       dcost       gap    pres   dres\n",
            " 0: -1.1147e+04 -1.1145e+04  1e+03  4e+01  2e-02\n",
            " 1: -1.1146e+04 -1.1237e+04  1e+02  3e+00  1e-03\n",
            " 2: -1.1146e+04 -1.1151e+04  6e+00  1e-01  7e-05\n",
            " 3: -1.1146e+04 -1.1147e+04  7e-01  1e-03  7e-07\n",
            " 4: -1.1147e+04 -1.1147e+04  1e-01  3e-04  1e-07\n",
            " 5: -1.1147e+04 -1.1147e+04  5e-02  2e-05  1e-08\n",
            " 6: -1.1147e+04 -1.1147e+04  1e-02  4e-06  2e-09\n",
            " 7: -1.1147e+04 -1.1147e+04  2e-03  7e-07  4e-10\n",
            " 8: -1.1147e+04 -1.1147e+04  3e-04  5e-08  3e-11\n",
            " 9: -1.1147e+04 -1.1147e+04  1e-04  2e-08  8e-12\n",
            "10: -1.1147e+04 -1.1147e+04  6e-05  4e-09  2e-12\n",
            "11: -1.1147e+04 -1.1147e+04  6e-06  3e-10  1e-13\n",
            "Optimal solution found.\n",
            "     pcost       dcost       gap    pres   dres\n",
            " 0: -3.0927e+02 -3.0834e+02  1e+03  3e+01  1e-01\n",
            " 1: -3.0842e+02 -3.8543e+02  8e+01  2e+00  8e-03\n",
            " 2: -3.0838e+02 -3.1386e+02  6e+00  1e-01  5e-04\n",
            " 3: -3.0865e+02 -3.0932e+02  7e-01  1e-03  5e-06\n",
            " 4: -3.0920e+02 -3.0928e+02  8e-02  2e-04  5e-07\n",
            " 5: -3.0927e+02 -3.0928e+02  7e-03  1e-05  5e-08\n",
            " 6: -3.0928e+02 -3.0928e+02  1e-03  2e-06  7e-09\n",
            " 7: -3.0928e+02 -3.0928e+02  2e-04  1e-07  5e-10\n",
            " 8: -3.0928e+02 -3.0928e+02  2e-05  1e-08  4e-11\n",
            " 9: -3.0928e+02 -3.0928e+02  1e-06  4e-10  1e-12\n",
            "10: -3.0928e+02 -3.0928e+02  1e-07  3e-11  1e-13\n",
            "Optimal solution found.\n",
            "     pcost       dcost       gap    pres   dres\n",
            " 0: -2.2439e+03 -2.2427e+03  1e+03  4e+01  5e-02\n",
            " 1: -2.2429e+03 -2.3554e+03  1e+02  3e+00  4e-03\n",
            " 2: -2.2428e+03 -2.2517e+03  9e+00  2e-01  2e-04\n",
            " 3: -2.2431e+03 -2.2440e+03  9e-01  2e-03  2e-06\n",
            " 4: -2.2438e+03 -2.2439e+03  1e-01  3e-04  3e-07\n",
            " 5: -2.2439e+03 -2.2439e+03  1e-02  3e-05  3e-08\n",
            " 6: -2.2439e+03 -2.2439e+03  3e-03  3e-06  3e-09\n",
            " 7: -2.2439e+03 -2.2439e+03  5e-04  3e-07  3e-10\n",
            " 8: -2.2439e+03 -2.2439e+03  8e-05  3e-08  4e-11\n",
            " 9: -2.2439e+03 -2.2439e+03  1e-05  4e-09  5e-12\n",
            "10: -2.2439e+03 -2.2439e+03  9e-07  3e-10  3e-13\n",
            "Optimal solution found.\n",
            "     pcost       dcost       gap    pres   dres\n",
            " 0: -1.1147e+04 -1.1145e+04  1e+03  4e+01  2e-02\n",
            " 1: -1.1146e+04 -1.1237e+04  1e+02  3e+00  1e-03\n",
            " 2: -1.1146e+04 -1.1151e+04  6e+00  1e-01  7e-05\n",
            " 3: -1.1146e+04 -1.1147e+04  7e-01  1e-03  7e-07\n",
            " 4: -1.1147e+04 -1.1147e+04  1e-01  3e-04  1e-07\n",
            " 5: -1.1147e+04 -1.1147e+04  5e-02  2e-05  1e-08\n",
            " 6: -1.1147e+04 -1.1147e+04  1e-02  4e-06  2e-09\n",
            " 7: -1.1147e+04 -1.1147e+04  2e-03  7e-07  4e-10\n",
            " 8: -1.1147e+04 -1.1147e+04  3e-04  5e-08  3e-11\n",
            " 9: -1.1147e+04 -1.1147e+04  1e-04  2e-08  8e-12\n",
            "10: -1.1147e+04 -1.1147e+04  6e-05  4e-09  2e-12\n",
            "11: -1.1147e+04 -1.1147e+04  6e-06  3e-10  1e-13\n",
            "Optimal solution found.\n",
            "     pcost       dcost       gap    pres   dres\n",
            " 0: -3.1013e+02 -3.0892e+02  2e+03  4e+01  1e-01\n",
            " 1: -3.0905e+02 -4.1165e+02  1e+02  3e+00  8e-03\n",
            " 2: -3.0900e+02 -3.1685e+02  8e+00  2e-01  5e-04\n",
            " 3: -3.0932e+02 -3.1022e+02  9e-01  2e-03  5e-06\n",
            " 4: -3.0999e+02 -3.1016e+02  2e-01  3e-04  9e-07\n",
            " 5: -3.1013e+02 -3.1016e+02  2e-02  3e-05  9e-08\n",
            " 6: -3.1015e+02 -3.1016e+02  4e-03  2e-06  6e-09\n",
            " 7: -3.1015e+02 -3.1015e+02  8e-04  3e-07  9e-10\n",
            " 8: -3.1015e+02 -3.1015e+02  1e-04  3e-08  8e-11\n",
            " 9: -3.1015e+02 -3.1015e+02  2e-05  3e-09  8e-12\n",
            "10: -3.1015e+02 -3.1015e+02  1e-06  1e-10  3e-13\n",
            "11: -3.1015e+02 -3.1015e+02  7e-08  4e-12  1e-14\n",
            "Optimal solution found.\n",
            "     pcost       dcost       gap    pres   dres\n",
            " 0: -1.5857e+02 -1.5748e+02  1e+03  4e+01  2e-01\n",
            " 1: -1.5759e+02 -2.5019e+02  1e+02  3e+00  1e-02\n",
            " 2: -1.5754e+02 -1.6440e+02  7e+00  2e-01  8e-04\n",
            " 3: -1.5783e+02 -1.5863e+02  8e-01  2e-03  8e-06\n",
            " 4: -1.5847e+02 -1.5858e+02  1e-01  2e-04  1e-06\n",
            " 5: -1.5856e+02 -1.5858e+02  2e-02  1e-05  7e-08\n",
            " 6: -1.5858e+02 -1.5858e+02  3e-03  2e-06  8e-09\n",
            " 7: -1.5858e+02 -1.5858e+02  5e-04  2e-07  9e-10\n",
            " 8: -1.5858e+02 -1.5858e+02  6e-05  1e-08  7e-11\n",
            " 9: -1.5858e+02 -1.5858e+02  5e-06  8e-10  4e-12\n",
            "10: -1.5858e+02 -1.5858e+02  3e-07  3e-11  2e-13\n",
            "11: -1.5858e+02 -1.5858e+02  1e-08  4e-13  2e-15\n",
            "Optimal solution found.\n",
            "     pcost       dcost       gap    pres   dres\n",
            " 0: -3.3537e+03 -3.3526e+03  1e+03  4e+01  4e-02\n",
            " 1: -3.3527e+03 -3.4398e+03  9e+01  2e+00  3e-03\n",
            " 2: -3.3528e+03 -3.3585e+03  6e+00  1e-01  1e-04\n",
            " 3: -3.3531e+03 -3.3538e+03  7e-01  1e-03  1e-06\n",
            " 4: -3.3536e+03 -3.3538e+03  1e-01  2e-04  2e-07\n",
            " 5: -3.3537e+03 -3.3537e+03  2e-02  2e-05  2e-08\n",
            " 6: -3.3537e+03 -3.3537e+03  5e-03  4e-06  4e-09\n",
            " 7: -3.3537e+03 -3.3537e+03  1e-03  5e-07  5e-10\n",
            " 8: -3.3537e+03 -3.3537e+03  2e-04  7e-08  7e-11\n",
            " 9: -3.3537e+03 -3.3537e+03  3e-05  8e-09  8e-12\n",
            "10: -3.3537e+03 -3.3537e+03  3e-06  6e-10  6e-13\n",
            "Optimal solution found.\n",
            "     pcost       dcost       gap    pres   dres\n",
            " 0: -2.2482e+02 -2.2370e+02  1e+03  4e+01  1e-01\n",
            " 1: -2.2377e+02 -3.0147e+02  8e+01  2e+00  8e-03\n",
            " 2: -2.2374e+02 -2.2789e+02  4e+00  8e-02  3e-04\n",
            " 3: -2.2422e+02 -2.2484e+02  6e-01  8e-04  3e-06\n",
            " 4: -2.2474e+02 -2.2482e+02  8e-02  1e-04  4e-07\n",
            " 5: -2.2481e+02 -2.2482e+02  1e-02  7e-06  3e-08\n",
            " 6: -2.2482e+02 -2.2482e+02  2e-03  7e-07  3e-09\n",
            " 7: -2.2482e+02 -2.2482e+02  2e-04  6e-08  2e-10\n",
            " 8: -2.2482e+02 -2.2482e+02  2e-05  4e-09  2e-11\n",
            " 9: -2.2482e+02 -2.2482e+02  2e-06  2e-10  8e-13\n",
            "10: -2.2482e+02 -2.2482e+02  6e-08  4e-12  2e-14\n",
            "Optimal solution found.\n",
            "     pcost       dcost       gap    pres   dres\n",
            " 0: -5.2578e+04 -5.2577e+04  2e+03  4e+01  9e-03\n",
            " 1: -5.2577e+04 -5.2694e+04  1e+02  3e+00  7e-04\n",
            " 2: -5.2578e+04 -5.2587e+04  1e+01  2e-01  5e-05\n",
            " 3: -5.2578e+04 -5.2579e+04  1e+00  2e-02  5e-06\n",
            " 4: -5.2578e+04 -5.2579e+04  2e-01  2e-03  5e-07\n",
            " 5: -5.2578e+04 -5.2579e+04  9e-02  5e-04  1e-07\n",
            " 6: -5.2579e+04 -5.2579e+04  3e-02  3e-05  8e-09\n",
            " 7: -5.2579e+04 -5.2579e+04  6e-03  4e-06  8e-10\n",
            " 8: -5.2579e+04 -5.2579e+04  1e-03  3e-07  7e-11\n",
            " 9: -5.2579e+04 -5.2579e+04  4e-04  1e-07  2e-11\n",
            "10: -5.2579e+04 -5.2579e+04  1e-04  2e-08  4e-12\n",
            "11: -5.2579e+04 -5.2579e+04  5e-05  2e-09  4e-13\n",
            "Optimal solution found.\n",
            "     pcost       dcost       gap    pres   dres\n",
            " 0: -2.4242e+03 -2.4231e+03  1e+03  4e+01  4e-02\n",
            " 1: -2.4232e+03 -2.5182e+03  1e+02  3e+00  3e-03\n",
            " 2: -2.4231e+03 -2.4291e+03  6e+00  1e-01  1e-04\n",
            " 3: -2.4235e+03 -2.4243e+03  8e-01  1e-03  1e-06\n",
            " 4: -2.4241e+03 -2.4242e+03  9e-02  1e-04  2e-07\n",
            " 5: -2.4242e+03 -2.4242e+03  6e-02  7e-05  8e-08\n",
            " 6: -2.4242e+03 -2.4242e+03  7e-03  8e-06  9e-09\n",
            " 7: -2.4242e+03 -2.4242e+03  1e-03  1e-06  1e-09\n",
            " 8: -2.4242e+03 -2.4242e+03  3e-04  1e-07  2e-10\n",
            " 9: -2.4242e+03 -2.4242e+03  4e-05  2e-08  2e-11\n",
            "10: -2.4242e+03 -2.4242e+03  5e-06  2e-09  2e-12\n",
            "11: -2.4242e+03 -2.4242e+03  5e-07  1e-10  1e-13\n",
            "Optimal solution found.\n",
            "     pcost       dcost       gap    pres   dres\n",
            " 0: -2.5565e+02 -2.5455e+02  1e+03  4e+01  1e-01\n",
            " 1: -2.5465e+02 -3.4636e+02  1e+02  3e+00  1e-02\n",
            " 2: -2.5460e+02 -2.6132e+02  7e+00  2e-01  6e-04\n",
            " 3: -2.5491e+02 -2.5571e+02  8e-01  2e-03  6e-06\n",
            " 4: -2.5557e+02 -2.5566e+02  9e-02  2e-04  6e-07\n",
            " 5: -2.5565e+02 -2.5566e+02  2e-02  2e-05  7e-08\n",
            " 6: -2.5566e+02 -2.5566e+02  2e-03  2e-06  8e-09\n",
            " 7: -2.5566e+02 -2.5566e+02  3e-04  2e-07  7e-10\n",
            " 8: -2.5566e+02 -2.5566e+02  4e-05  2e-08  6e-11\n",
            " 9: -2.5566e+02 -2.5566e+02  3e-06  1e-09  4e-12\n",
            "10: -2.5566e+02 -2.5566e+02  1e-07  2e-11  8e-14\n",
            "Optimal solution found.\n",
            "     pcost       dcost       gap    pres   dres\n",
            " 0: -5.0434e+00 -4.0854e+00  1e+03  3e+01  9e-01\n",
            " 1: -4.1160e+00 -5.6136e+01  5e+01  2e+00  4e-02\n",
            " 2: -4.1081e+00 -6.2793e+00  2e+00  4e-02  9e-04\n",
            " 3: -4.7203e+00 -5.0482e+00  3e-01  4e-04  9e-06\n",
            " 4: -5.0269e+00 -5.0428e+00  2e-02  2e-05  4e-07\n",
            " 5: -5.0408e+00 -5.0427e+00  2e-03  1e-06  3e-08\n",
            " 6: -5.0424e+00 -5.0426e+00  2e-04  8e-08  2e-09\n",
            " 7: -5.0426e+00 -5.0426e+00  2e-05  4e-09  1e-10\n",
            " 8: -5.0426e+00 -5.0426e+00  8e-07  2e-10  4e-12\n",
            " 9: -5.0426e+00 -5.0426e+00  2e-08  2e-12  6e-14\n",
            "Optimal solution found.\n",
            "     pcost       dcost       gap    pres   dres\n",
            " 0: -2.2482e+02 -2.2370e+02  1e+03  4e+01  1e-01\n",
            " 1: -2.2377e+02 -3.0147e+02  8e+01  2e+00  8e-03\n",
            " 2: -2.2374e+02 -2.2789e+02  4e+00  8e-02  3e-04\n",
            " 3: -2.2422e+02 -2.2484e+02  6e-01  8e-04  3e-06\n",
            " 4: -2.2474e+02 -2.2482e+02  8e-02  1e-04  4e-07\n",
            " 5: -2.2481e+02 -2.2482e+02  1e-02  7e-06  3e-08\n",
            " 6: -2.2482e+02 -2.2482e+02  2e-03  7e-07  3e-09\n",
            " 7: -2.2482e+02 -2.2482e+02  2e-04  6e-08  2e-10\n",
            " 8: -2.2482e+02 -2.2482e+02  2e-05  4e-09  2e-11\n",
            " 9: -2.2482e+02 -2.2482e+02  2e-06  2e-10  8e-13\n",
            "10: -2.2482e+02 -2.2482e+02  6e-08  4e-12  2e-14\n",
            "Optimal solution found.\n",
            "     pcost       dcost       gap    pres   dres\n",
            " 0: -3.2255e+01 -3.1218e+01  1e+03  4e+01  3e-01\n",
            " 1: -3.1254e+01 -8.9125e+01  6e+01  2e+00  2e-02\n",
            " 2: -3.1243e+01 -3.3595e+01  2e+00  4e-02  4e-04\n",
            " 3: -3.1905e+01 -3.2261e+01  4e-01  4e-04  4e-06\n",
            " 4: -3.2231e+01 -3.2255e+01  2e-02  3e-05  2e-07\n",
            " 5: -3.2252e+01 -3.2255e+01  2e-03  1e-06  1e-08\n",
            " 6: -3.2254e+01 -3.2254e+01  3e-04  1e-07  9e-10\n",
            " 7: -3.2254e+01 -3.2254e+01  3e-05  4e-09  4e-11\n",
            " 8: -3.2254e+01 -3.2254e+01  2e-06  2e-10  2e-12\n",
            " 9: -3.2254e+01 -3.2254e+01  5e-08  2e-12  2e-14\n",
            "Optimal solution found.\n",
            "     pcost       dcost       gap    pres   dres\n",
            " 0: -1.2007e+02 -1.1900e+02  1e+03  4e+01  2e-01\n",
            " 1: -1.1905e+02 -1.8607e+02  7e+01  2e+00  9e-03\n",
            " 2: -1.1903e+02 -1.2238e+02  3e+00  6e-02  3e-04\n",
            " 3: -1.1956e+02 -1.2008e+02  5e-01  6e-04  3e-06\n",
            " 4: -1.2001e+02 -1.2007e+02  6e-02  8e-05  4e-07\n",
            " 5: -1.2006e+02 -1.2007e+02  1e-02  6e-06  3e-08\n",
            " 6: -1.2007e+02 -1.2007e+02  2e-03  9e-07  4e-09\n",
            " 7: -1.2007e+02 -1.2007e+02  3e-04  9e-08  5e-10\n",
            " 8: -1.2007e+02 -1.2007e+02  4e-05  7e-09  3e-11\n",
            " 9: -1.2007e+02 -1.2007e+02  3e-06  5e-10  2e-12\n",
            "10: -1.2007e+02 -1.2007e+02  2e-07  2e-11  1e-13\n",
            "11: -1.2007e+02 -1.2007e+02  7e-09  2e-13  1e-15\n",
            "Optimal solution found.\n",
            "     pcost       dcost       gap    pres   dres\n",
            " 0: -2.4631e+02 -2.4508e+02  2e+03  4e+01  1e-01\n",
            " 1: -2.4519e+02 -3.4879e+02  1e+02  3e+00  1e-02\n",
            " 2: -2.4513e+02 -2.5303e+02  8e+00  2e-01  6e-04\n",
            " 3: -2.4546e+02 -2.4638e+02  9e-01  2e-03  6e-06\n",
            " 4: -2.4622e+02 -2.4632e+02  1e-01  2e-04  6e-07\n",
            " 5: -2.4630e+02 -2.4632e+02  2e-02  3e-05  9e-08\n",
            " 6: -2.4632e+02 -2.4632e+02  3e-03  3e-06  1e-08\n",
            " 7: -2.4632e+02 -2.4632e+02  6e-04  4e-07  1e-09\n",
            " 8: -2.4632e+02 -2.4632e+02  9e-05  3e-08  1e-10\n",
            " 9: -2.4632e+02 -2.4632e+02  1e-05  3e-09  9e-12\n",
            "10: -2.4632e+02 -2.4632e+02  9e-07  2e-10  5e-13\n",
            "11: -2.4632e+02 -2.4632e+02  7e-08  1e-11  4e-14\n",
            "Optimal solution found.\n",
            "     pcost       dcost       gap    pres   dres\n",
            " 0: -6.5758e+05 -6.5758e+05  5e+03  7e+01  3e-03\n",
            " 1: -6.5758e+05 -6.5798e+05  4e+02  7e+00  3e-04\n",
            " 2: -6.5758e+05 -6.5763e+05  5e+01  8e-01  3e-05\n",
            " 3: -6.5758e+05 -6.5760e+05  2e+01  2e-01  9e-06\n",
            " 4: -6.5758e+05 -6.5759e+05  3e+00  3e-02  1e-06\n",
            " 5: -6.5758e+05 -6.5758e+05  8e-01  7e-03  3e-07\n",
            " 6: -6.5758e+05 -6.5758e+05  2e-01  1e-03  5e-08\n",
            " 7: -6.5758e+05 -6.5758e+05  5e-02  1e-04  6e-09\n",
            " 8: -6.5758e+05 -6.5758e+05  2e-02  4e-05  2e-09\n",
            " 9: -6.5758e+05 -6.5758e+05  8e-03  1e-05  5e-10\n",
            "10: -6.5758e+05 -6.5758e+05  3e-03  3e-06  1e-10\n",
            "11: -6.5758e+05 -6.5758e+05  1e-03  2e-07  7e-12\n",
            "12: -6.5758e+05 -6.5758e+05  4e-04  1e-08  4e-13\n",
            "Optimal solution found.\n",
            "     pcost       dcost       gap    pres   dres\n",
            " 0: -1.4270e+05 -1.4269e+05  6e+03  7e+01  7e-03\n",
            " 1: -1.4269e+05 -1.4314e+05  5e+02  6e+00  6e-04\n",
            " 2: -1.4270e+05 -1.4279e+05  9e+01  1e+00  1e-04\n",
            " 3: -1.4271e+05 -1.4274e+05  3e+01  4e-01  3e-05\n",
            " 4: -1.4271e+05 -1.4272e+05  8e+00  7e-02  7e-06\n",
            " 5: -1.4271e+05 -1.4271e+05  1e+00  2e-03  2e-07\n",
            " 6: -1.4271e+05 -1.4271e+05  2e-01  2e-04  2e-08\n",
            " 7: -1.4271e+05 -1.4271e+05  5e-02  5e-05  4e-09\n",
            " 8: -1.4271e+05 -1.4271e+05  1e-02  4e-06  4e-10\n",
            " 9: -1.4271e+05 -1.4271e+05  4e-03  1e-06  1e-10\n",
            "10: -1.4271e+05 -1.4271e+05  2e-03  1e-07  1e-11\n",
            "11: -1.4271e+05 -1.4271e+05  5e-04  6e-09  6e-13\n",
            "12: -1.4271e+05 -1.4271e+05  5e-04  5e-09  4e-13\n",
            "13: -1.4271e+05 -1.4271e+05  2e-04  1e-09  1e-13\n",
            "14: -1.4271e+05 -1.4271e+05  2e-04  1e-09  1e-13\n",
            "15: -1.4271e+05 -1.4271e+05  6e-05  3e-10  3e-14\n",
            "Optimal solution found.\n",
            "     pcost       dcost       gap    pres   dres\n",
            " 0: -1.2234e+04 -1.2231e+04  4e+03  7e+01  2e-02\n",
            " 1: -1.2231e+04 -1.2524e+04  3e+02  5e+00  1e-03\n",
            " 2: -1.2231e+04 -1.2250e+04  2e+01  3e-01  7e-05\n",
            " 3: -1.2232e+04 -1.2234e+04  2e+00  3e-03  7e-07\n",
            " 4: -1.2234e+04 -1.2234e+04  3e-01  3e-04  8e-08\n",
            " 5: -1.2234e+04 -1.2234e+04  6e-02  4e-05  1e-08\n",
            " 6: -1.2234e+04 -1.2234e+04  1e-02  4e-06  1e-09\n",
            " 7: -1.2234e+04 -1.2234e+04  3e-03  7e-07  2e-10\n",
            " 8: -1.2234e+04 -1.2234e+04  5e-04  9e-08  3e-11\n",
            " 9: -1.2234e+04 -1.2234e+04  6e-05  7e-09  2e-12\n",
            "10: -1.2234e+04 -1.2234e+04  6e-06  6e-10  2e-13\n",
            "Optimal solution found.\n",
            "     pcost       dcost       gap    pres   dres\n",
            " 0: -3.4854e+04 -3.4851e+04  3e+03  6e+01  1e-02\n",
            " 1: -3.4852e+04 -3.5074e+04  2e+02  4e+00  9e-04\n",
            " 2: -3.4853e+04 -3.4898e+04  5e+01  8e-01  2e-04\n",
            " 3: -3.4858e+04 -3.4871e+04  1e+01  2e-01  4e-05\n",
            " 4: -3.4860e+04 -3.4861e+04  2e+00  1e-02  2e-06\n",
            " 5: -3.4860e+04 -3.4861e+04  2e-01  1e-03  2e-07\n",
            " 6: -3.4861e+04 -3.4861e+04  4e-02  2e-04  3e-08\n",
            " 7: -3.4861e+04 -3.4861e+04  1e-02  3e-05  5e-09\n",
            " 8: -3.4861e+04 -3.4861e+04  3e-03  8e-06  2e-09\n",
            " 9: -3.4861e+04 -3.4861e+04  1e-03  3e-06  5e-10\n",
            "10: -3.4861e+04 -3.4861e+04  5e-04  8e-08  2e-11\n",
            "11: -3.4861e+04 -3.4861e+04  2e-04  1e-08  3e-12\n",
            "12: -3.4861e+04 -3.4861e+04  6e-05  1e-09  3e-13\n",
            "13: -3.4861e+04 -3.4861e+04  2e-05  1e-11  3e-15\n",
            "Optimal solution found.\n",
            "     pcost       dcost       gap    pres   dres\n",
            " 0: -3.4490e+05 -3.4490e+05  5e+03  7e+01  4e-03\n",
            " 1: -3.4490e+05 -3.4528e+05  4e+02  6e+00  3e-04\n",
            " 2: -3.4490e+05 -3.4493e+05  3e+01  4e-01  2e-05\n",
            " 3: -3.4491e+05 -3.4491e+05  5e+00  4e-02  2e-06\n",
            " 4: -3.4491e+05 -3.4491e+05  1e+00  8e-03  4e-07\n",
            " 5: -3.4491e+05 -3.4491e+05  2e-01  1e-03  7e-08\n",
            " 6: -3.4491e+05 -3.4491e+05  5e-02  2e-04  1e-08\n",
            " 7: -3.4491e+05 -3.4491e+05  1e-02  4e-05  2e-09\n",
            " 8: -3.4491e+05 -3.4491e+05  5e-03  1e-05  5e-10\n",
            " 9: -3.4491e+05 -3.4491e+05  2e-03  3e-06  1e-10\n",
            "10: -3.4491e+05 -3.4491e+05  9e-04  1e-06  5e-11\n",
            "11: -3.4491e+05 -3.4491e+05  4e-04  1e-08  5e-13\n",
            "12: -3.4491e+05 -3.4491e+05  2e-04  4e-09  2e-13\n",
            "Optimal solution found.\n",
            "     pcost       dcost       gap    pres   dres\n",
            " 0: -2.1829e+02 -2.1525e+02  4e+03  6e+01  1e-01\n",
            " 1: -2.1540e+02 -3.9887e+02  2e+02  3e+00  7e-03\n",
            " 2: -2.1534e+02 -2.2344e+02  8e+00  9e-02  2e-04\n",
            " 3: -2.1705e+02 -2.1832e+02  1e+00  9e-04  2e-06\n",
            " 4: -2.1817e+02 -2.1829e+02  1e-01  8e-05  2e-07\n",
            " 5: -2.1827e+02 -2.1829e+02  2e-02  1e-05  2e-08\n",
            " 6: -2.1829e+02 -2.1829e+02  4e-03  1e-06  3e-09\n",
            " 7: -2.1829e+02 -2.1829e+02  5e-04  1e-07  2e-10\n",
            " 8: -2.1829e+02 -2.1829e+02  5e-05  6e-09  1e-11\n",
            " 9: -2.1829e+02 -2.1829e+02  4e-06  4e-10  9e-13\n",
            "10: -2.1829e+02 -2.1829e+02  3e-07  2e-11  5e-14\n",
            "11: -2.1829e+02 -2.1829e+02  1e-08  3e-13  3e-15\n",
            "Optimal solution found.\n",
            "     pcost       dcost       gap    pres   dres\n",
            " 0: -2.0431e+02 -2.0159e+02  3e+03  6e+01  1e-01\n",
            " 1: -2.0172e+02 -3.6293e+02  2e+02  3e+00  7e-03\n",
            " 2: -2.0167e+02 -2.0952e+02  8e+00  9e-02  2e-04\n",
            " 3: -2.0311e+02 -2.0434e+02  1e+00  9e-04  2e-06\n",
            " 4: -2.0425e+02 -2.0431e+02  6e-02  5e-05  1e-07\n",
            " 5: -2.0430e+02 -2.0431e+02  1e-02  7e-06  2e-08\n",
            " 6: -2.0431e+02 -2.0431e+02  2e-03  9e-07  2e-09\n",
            " 7: -2.0431e+02 -2.0431e+02  3e-04  9e-08  2e-10\n",
            " 8: -2.0431e+02 -2.0431e+02  3e-05  7e-09  2e-11\n",
            " 9: -2.0431e+02 -2.0431e+02  2e-06  3e-10  7e-13\n",
            "10: -2.0431e+02 -2.0431e+02  5e-08  5e-12  1e-14\n",
            "Optimal solution found.\n",
            "     pcost       dcost       gap    pres   dres\n",
            " 0: -1.7986e+04 -1.7983e+04  4e+03  6e+01  2e-02\n",
            " 1: -1.7984e+04 -1.8299e+04  3e+02  5e+00  2e-03\n",
            " 2: -1.7985e+04 -1.8022e+04  4e+01  5e-01  2e-04\n",
            " 3: -1.7990e+04 -1.8001e+04  1e+01  1e-01  4e-05\n",
            " 4: -1.7991e+04 -1.7994e+04  2e+00  1e-02  3e-06\n",
            " 5: -1.7992e+04 -1.7993e+04  7e-01  3e-03  1e-06\n",
            " 6: -1.7993e+04 -1.7993e+04  2e-01  3e-04  1e-07\n",
            " 7: -1.7993e+04 -1.7993e+04  4e-02  4e-05  1e-08\n",
            " 8: -1.7993e+04 -1.7993e+04  9e-03  6e-06  2e-09\n",
            " 9: -1.7993e+04 -1.7993e+04  4e-03  2e-06  6e-10\n",
            "10: -1.7993e+04 -1.7993e+04  2e-03  5e-07  1e-10\n",
            "11: -1.7993e+04 -1.7993e+04  9e-04  8e-08  3e-11\n",
            "12: -1.7993e+04 -1.7993e+04  3e-04  2e-08  7e-12\n",
            "13: -1.7993e+04 -1.7993e+04  2e-04  2e-08  5e-12\n",
            "14: -1.7993e+04 -1.7993e+04  7e-05  4e-09  1e-12\n",
            "15: -1.7993e+04 -1.7993e+04  5e-05  2e-09  5e-13\n",
            "16: -1.7993e+04 -1.7993e+04  1e-05  4e-10  1e-13\n",
            "Optimal solution found.\n",
            "     pcost       dcost       gap    pres   dres\n",
            " 0: -5.4677e+01 -5.1551e+01  4e+03  6e+01  3e-01\n",
            " 1: -5.1688e+01 -2.2336e+02  2e+02  3e+00  1e-02\n",
            " 2: -5.1652e+01 -6.0855e+01  9e+00  1e-01  4e-04\n",
            " 3: -5.3272e+01 -5.4714e+01  1e+00  1e-03  4e-06\n",
            " 4: -5.4442e+01 -5.4683e+01  2e-01  2e-04  7e-07\n",
            " 5: -5.4637e+01 -5.4680e+01  4e-02  2e-05  8e-08\n",
            " 6: -5.4672e+01 -5.4680e+01  7e-03  2e-06  1e-08\n",
            " 7: -5.4678e+01 -5.4679e+01  1e-03  2e-07  9e-10\n",
            " 8: -5.4679e+01 -5.4679e+01  1e-04  2e-08  7e-11\n",
            " 9: -5.4679e+01 -5.4679e+01  7e-06  8e-10  3e-12\n",
            "10: -5.4679e+01 -5.4679e+01  5e-07  4e-11  2e-13\n",
            "11: -5.4679e+01 -5.4679e+01  2e-08  9e-13  5e-15\n",
            "Optimal solution found.\n",
            "     pcost       dcost       gap    pres   dres\n",
            " 0: -1.5201e+04 -1.5200e+04  1e+03  4e+01  2e-02\n",
            " 1: -1.5200e+04 -1.5299e+04  1e+02  3e+00  1e-03\n",
            " 2: -1.5200e+04 -1.5205e+04  5e+00  1e-01  4e-05\n",
            " 3: -1.5201e+04 -1.5201e+04  6e-01  1e-03  4e-07\n",
            " 4: -1.5201e+04 -1.5201e+04  9e-02  8e-05  3e-08\n",
            " 5: -1.5201e+04 -1.5201e+04  2e-02  8e-06  4e-09\n",
            " 6: -1.5201e+04 -1.5201e+04  4e-03  9e-07  4e-10\n",
            " 7: -1.5201e+04 -1.5201e+04  8e-04  2e-07  7e-11\n",
            " 8: -1.5201e+04 -1.5201e+04  1e-04  2e-08  9e-12\n",
            " 9: -1.5201e+04 -1.5201e+04  2e-05  2e-09  1e-12\n",
            "10: -1.5201e+04 -1.5201e+04  2e-06  1e-10  5e-14\n",
            "Optimal solution found.\n",
            "     pcost       dcost       gap    pres   dres\n",
            " 0: -1.0608e+01 -8.4199e+00  3e+03  5e+01  6e-01\n",
            " 1: -8.5050e+00 -1.2591e+02  1e+02  2e+00  3e-02\n",
            " 2: -8.4819e+00 -1.3445e+01  5e+00  6e-02  6e-04\n",
            " 3: -9.8668e+00 -1.0618e+01  8e-01  6e-04  6e-06\n",
            " 4: -1.0573e+01 -1.0607e+01  3e-02  3e-05  3e-07\n",
            " 5: -1.0601e+01 -1.0606e+01  6e-03  3e-06  3e-08\n",
            " 6: -1.0606e+01 -1.0606e+01  6e-04  3e-07  3e-09\n",
            " 7: -1.0606e+01 -1.0606e+01  6e-05  2e-08  2e-10\n",
            " 8: -1.0606e+01 -1.0606e+01  5e-06  1e-09  1e-11\n",
            " 9: -1.0606e+01 -1.0606e+01  8e-08  1e-11  2e-13\n",
            "Optimal solution found.\n",
            "     pcost       dcost       gap    pres   dres\n",
            " 0: -1.0772e+03 -1.0759e+03  2e+03  4e+01  6e-02\n",
            " 1: -1.0760e+03 -1.1787e+03  1e+02  3e+00  4e-03\n",
            " 2: -1.0760e+03 -1.0838e+03  8e+00  2e-01  2e-04\n",
            " 3: -1.0764e+03 -1.0773e+03  9e-01  2e-03  2e-06\n",
            " 4: -1.0772e+03 -1.0773e+03  9e-02  2e-04  2e-07\n",
            " 5: -1.0772e+03 -1.0773e+03  2e-02  1e-05  1e-08\n",
            " 6: -1.0773e+03 -1.0773e+03  4e-03  2e-06  3e-09\n",
            " 7: -1.0773e+03 -1.0773e+03  7e-04  2e-07  3e-10\n",
            " 8: -1.0773e+03 -1.0773e+03  1e-04  3e-08  5e-11\n",
            " 9: -1.0773e+03 -1.0773e+03  3e-05  6e-09  9e-12\n",
            "10: -1.0773e+03 -1.0773e+03  4e-06  6e-11  9e-14\n",
            "11: -1.0773e+03 -1.0773e+03  1e-07  1e-12  2e-15\n",
            "Optimal solution found.\n",
            "     pcost       dcost       gap    pres   dres\n",
            " 0: -2.4113e+04 -2.4109e+04  4e+03  7e+01  1e-02\n",
            " 1: -2.4110e+04 -2.4406e+04  3e+02  5e+00  1e-03\n",
            " 2: -2.4110e+04 -2.4151e+04  4e+01  6e-01  1e-04\n",
            " 3: -2.4111e+04 -2.4119e+04  7e+00  8e-02  2e-05\n",
            " 4: -2.4113e+04 -2.4114e+04  1e+00  8e-04  2e-07\n",
            " 5: -2.4114e+04 -2.4114e+04  2e-01  8e-05  2e-08\n",
            " 6: -2.4114e+04 -2.4114e+04  5e-02  1e-05  2e-09\n",
            " 7: -2.4114e+04 -2.4114e+04  2e-02  3e-06  6e-10\n",
            " 8: -2.4114e+04 -2.4114e+04  5e-03  5e-07  1e-10\n",
            " 9: -2.4114e+04 -2.4114e+04  2e-03  2e-07  4e-11\n",
            "10: -2.4114e+04 -2.4114e+04  6e-04  2e-08  4e-12\n",
            "11: -2.4114e+04 -2.4114e+04  2e-04  6e-09  1e-12\n",
            "12: -2.4114e+04 -2.4114e+04  1e-04  2e-09  5e-13\n",
            "13: -2.4114e+04 -2.4114e+04  5e-05  7e-10  1e-13\n",
            "14: -2.4114e+04 -2.4114e+04  2e-05  1e-11  3e-15\n",
            "Optimal solution found.\n",
            "     pcost       dcost       gap    pres   dres\n",
            " 0: -1.2170e+01 -9.9327e+00  3e+03  5e+01  6e-01\n",
            " 1: -1.0027e+01 -1.3108e+02  1e+02  2e+00  2e-02\n",
            " 2: -1.0002e+01 -1.5037e+01  5e+00  6e-02  6e-04\n",
            " 3: -1.1421e+01 -1.2181e+01  8e-01  6e-04  6e-06\n",
            " 4: -1.2119e+01 -1.2170e+01  5e-02  4e-05  4e-07\n",
            " 5: -1.2161e+01 -1.2169e+01  9e-03  4e-06  4e-08\n",
            " 6: -1.2168e+01 -1.2169e+01  1e-03  4e-07  5e-09\n",
            " 7: -1.2169e+01 -1.2169e+01  1e-04  2e-08  2e-10\n",
            " 8: -1.2169e+01 -1.2169e+01  5e-06  8e-10  8e-12\n",
            " 9: -1.2169e+01 -1.2169e+01  2e-07  1e-11  1e-13\n",
            "10: -1.2169e+01 -1.2169e+01  9e-09  2e-13  3e-15\n",
            "Optimal solution found.\n",
            "     pcost       dcost       gap    pres   dres\n",
            " 0: -3.3918e+02 -3.3724e+02  2e+03  5e+01  1e-01\n",
            " 1: -3.3735e+02 -4.6879e+02  1e+02  3e+00  6e-03\n",
            " 2: -3.3729e+02 -3.4427e+02  7e+00  1e-01  2e-04\n",
            " 3: -3.3816e+02 -3.3922e+02  1e+00  1e-03  2e-06\n",
            " 4: -3.3908e+02 -3.3919e+02  1e-01  1e-04  2e-07\n",
            " 5: -3.3917e+02 -3.3918e+02  1e-02  1e-05  2e-08\n",
            " 6: -3.3918e+02 -3.3918e+02  2e-03  1e-06  2e-09\n",
            " 7: -3.3918e+02 -3.3918e+02  3e-04  9e-08  2e-10\n",
            " 8: -3.3918e+02 -3.3918e+02  3e-05  6e-09  1e-11\n",
            " 9: -3.3918e+02 -3.3918e+02  1e-06  2e-10  4e-13\n",
            "10: -3.3918e+02 -3.3918e+02  6e-08  5e-12  1e-14\n",
            "Optimal solution found.\n",
            "     pcost       dcost       gap    pres   dres\n",
            " 0: -2.4514e+04 -2.4510e+04  5e+03  7e+01  1e-02\n",
            " 1: -2.4510e+04 -2.4815e+04  3e+02  5e+00  9e-04\n",
            " 2: -2.4510e+04 -2.4532e+04  2e+01  3e-01  5e-05\n",
            " 3: -2.4511e+04 -2.4514e+04  3e+00  3e-03  5e-07\n",
            " 4: -2.4513e+04 -2.4514e+04  4e-01  4e-04  7e-08\n",
            " 5: -2.4514e+04 -2.4514e+04  6e-02  2e-05  4e-09\n",
            " 6: -2.4514e+04 -2.4514e+04  1e-02  4e-06  8e-10\n",
            " 7: -2.4514e+04 -2.4514e+04  3e-03  6e-07  1e-10\n",
            " 8: -2.4514e+04 -2.4514e+04  5e-04  7e-08  1e-11\n",
            " 9: -2.4514e+04 -2.4514e+04  1e-04  1e-08  3e-12\n",
            "10: -2.4514e+04 -2.4514e+04  4e-05  1e-09  3e-13\n",
            "11: -2.4514e+04 -2.4514e+04  1e-05  4e-10  7e-14\n",
            "Optimal solution found.\n",
            "     pcost       dcost       gap    pres   dres\n",
            " 0: -6.2189e+02 -6.1968e+02  3e+03  5e+01  8e-02\n",
            " 1: -6.1988e+02 -8.1213e+02  2e+02  4e+00  6e-03\n",
            " 2: -6.1976e+02 -6.3503e+02  2e+01  2e-01  4e-04\n",
            " 3: -6.2033e+02 -6.2203e+02  2e+00  2e-03  4e-06\n",
            " 4: -6.2168e+02 -6.2192e+02  2e-01  3e-04  5e-07\n",
            " 5: -6.2176e+02 -6.2191e+02  2e-01  2e-04  3e-07\n",
            " 6: -6.2188e+02 -6.2191e+02  3e-02  3e-05  4e-08\n",
            " 7: -6.2190e+02 -6.2191e+02  5e-03  4e-06  6e-09\n",
            " 8: -6.2190e+02 -6.2191e+02  1e-03  5e-07  7e-10\n",
            " 9: -6.2191e+02 -6.2191e+02  1e-04  4e-08  6e-11\n",
            "10: -6.2191e+02 -6.2191e+02  2e-05  4e-09  6e-12\n",
            "11: -6.2191e+02 -6.2191e+02  2e-06  3e-10  5e-13\n",
            "12: -6.2191e+02 -6.2191e+02  8e-08  1e-11  2e-14\n",
            "Optimal solution found.\n",
            "     pcost       dcost       gap    pres   dres\n",
            " 0: -1.8122e+04 -1.8119e+04  3e+03  6e+01  2e-02\n",
            " 1: -1.8120e+04 -1.8322e+04  2e+02  4e+00  1e-03\n",
            " 2: -1.8120e+04 -1.8137e+04  2e+01  3e-01  8e-05\n",
            " 3: -1.8120e+04 -1.8122e+04  2e+00  3e-03  8e-07\n",
            " 4: -1.8122e+04 -1.8122e+04  3e-01  5e-04  1e-07\n",
            " 5: -1.8122e+04 -1.8122e+04  7e-02  5e-05  1e-08\n",
            " 6: -1.8122e+04 -1.8122e+04  4e-02  2e-05  6e-09\n",
            " 7: -1.8122e+04 -1.8122e+04  9e-03  4e-06  1e-09\n",
            " 8: -1.8122e+04 -1.8122e+04  3e-03  1e-06  3e-10\n",
            " 9: -1.8122e+04 -1.8122e+04  5e-04  8e-08  2e-11\n",
            "10: -1.8122e+04 -1.8122e+04  1e-04  2e-08  6e-12\n",
            "11: -1.8122e+04 -1.8122e+04  3e-05  1e-09  4e-13\n",
            "12: -1.8122e+04 -1.8122e+04  2e-06  1e-10  3e-14\n",
            "Optimal solution found.\n",
            "     pcost       dcost       gap    pres   dres\n",
            " 0: -6.9788e+02 -6.9506e+02  4e+03  6e+01  8e-02\n",
            " 1: -6.9533e+02 -9.4114e+02  3e+02  4e+00  6e-03\n",
            " 2: -6.9520e+02 -7.1324e+02  2e+01  3e-01  4e-04\n",
            " 3: -6.9593e+02 -6.9806e+02  2e+00  3e-03  4e-06\n",
            " 4: -6.9753e+02 -6.9794e+02  4e-01  5e-04  7e-07\n",
            " 5: -6.9780e+02 -6.9792e+02  1e-01  8e-05  1e-07\n",
            " 6: -6.9789e+02 -6.9792e+02  2e-02  1e-05  2e-08\n",
            " 7: -6.9791e+02 -6.9792e+02  4e-03  1e-06  2e-09\n",
            " 8: -6.9792e+02 -6.9792e+02  8e-04  2e-07  2e-10\n",
            " 9: -6.9792e+02 -6.9792e+02  1e-04  2e-08  3e-11\n",
            "10: -6.9792e+02 -6.9792e+02  2e-05  2e-09  3e-12\n",
            "11: -6.9792e+02 -6.9792e+02  2e-06  1e-10  2e-13\n",
            "12: -6.9792e+02 -6.9792e+02  8e-08  6e-12  8e-15\n",
            "Optimal solution found.\n",
            "     pcost       dcost       gap    pres   dres\n",
            " 0: -2.5662e+02 -2.5344e+02  4e+03  6e+01  2e-01\n",
            " 1: -2.5366e+02 -4.8574e+02  2e+02  4e+00  9e-03\n",
            " 2: -2.5354e+02 -2.7627e+02  2e+01  3e-01  7e-04\n",
            " 3: -2.5426e+02 -2.5682e+02  3e+00  3e-03  7e-06\n",
            " 4: -2.5653e+02 -2.5665e+02  1e-01  1e-04  4e-07\n",
            " 5: -2.5662e+02 -2.5664e+02  2e-02  2e-05  5e-08\n",
            " 6: -2.5664e+02 -2.5664e+02  4e-03  2e-06  6e-09\n",
            " 7: -2.5664e+02 -2.5664e+02  1e-03  7e-07  2e-09\n",
            " 8: -2.5664e+02 -2.5664e+02  4e-04  9e-09  2e-11\n",
            " 9: -2.5664e+02 -2.5664e+02  7e-05  1e-09  3e-12\n",
            "10: -2.5664e+02 -2.5664e+02  6e-06  7e-11  2e-13\n",
            "11: -2.5664e+02 -2.5664e+02  2e-07  2e-12  5e-15\n",
            "Optimal solution found.\n",
            "     pcost       dcost       gap    pres   dres\n",
            " 0: -1.1338e+06 -1.1337e+06  8e+03  8e+01  3e-03\n",
            " 1: -1.1338e+06 -1.1348e+06  1e+03  1e+01  5e-04\n",
            " 2: -1.1338e+06 -1.1339e+06  2e+02  2e+00  8e-05\n",
            " 3: -1.1338e+06 -1.1338e+06  7e+01  6e-01  3e-05\n",
            " 4: -1.1338e+06 -1.1338e+06  2e+01  2e-01  9e-06\n",
            " 5: -1.1338e+06 -1.1338e+06  2e+01  1e-01  6e-06\n",
            " 6: -1.1338e+06 -1.1338e+06  2e+01  8e-02  4e-06\n",
            " 7: -1.1338e+06 -1.1338e+06  1e+01  5e-02  2e-06\n",
            " 8: -1.1338e+06 -1.1338e+06  7e+00  2e-02  1e-06\n",
            " 9: -1.1338e+06 -1.1338e+06  3e+00  8e-03  3e-07\n",
            "10: -1.1338e+06 -1.1338e+06  6e-01  1e-03  6e-08\n",
            "11: -1.1338e+06 -1.1338e+06  1e-01  2e-04  8e-09\n",
            "12: -1.1338e+06 -1.1338e+06  3e-02  2e-05  7e-10\n",
            "13: -1.1338e+06 -1.1338e+06  4e-03  2e-06  7e-11\n",
            "14: -1.1338e+06 -1.1338e+06  3e-03  9e-07  4e-11\n",
            "15: -1.1338e+06 -1.1338e+06  1e-03  3e-07  1e-11\n",
            "16: -1.1338e+06 -1.1338e+06  6e-04  3e-08  1e-12\n",
            "Optimal solution found.\n",
            "     pcost       dcost       gap    pres   dres\n",
            " 0: -5.5491e+03 -5.5453e+03  5e+03  7e+01  3e-02\n",
            " 1: -5.5457e+03 -5.8754e+03  4e+02  5e+00  2e-03\n",
            " 2: -5.5455e+03 -5.5691e+03  2e+01  3e-01  1e-04\n",
            " 3: -5.5465e+03 -5.5493e+03  3e+00  3e-03  1e-06\n",
            " 4: -5.5487e+03 -5.5492e+03  5e-01  4e-04  2e-07\n",
            " 5: -5.5490e+03 -5.5491e+03  1e-01  4e-05  2e-08\n",
            " 6: -5.5491e+03 -5.5491e+03  2e-02  5e-06  2e-09\n",
            " 7: -5.5491e+03 -5.5491e+03  4e-03  7e-07  3e-10\n",
            " 8: -5.5491e+03 -5.5491e+03  9e-04  1e-07  5e-11\n",
            " 9: -5.5491e+03 -5.5491e+03  2e-04  2e-08  7e-12\n",
            "10: -5.5491e+03 -5.5491e+03  2e-05  1e-09  6e-13\n",
            "11: -5.5491e+03 -5.5491e+03  2e-06  1e-10  4e-14\n",
            "Optimal solution found.\n",
            "     pcost       dcost       gap    pres   dres\n",
            " 0: -1.1941e+03 -1.1902e+03  5e+03  7e+01  6e-02\n",
            " 1: -1.1906e+03 -1.5193e+03  4e+02  5e+00  4e-03\n",
            " 2: -1.1905e+03 -1.2200e+03  3e+01  4e-01  3e-04\n",
            " 3: -1.1915e+03 -1.1947e+03  3e+00  8e-03  7e-06\n",
            " 4: -1.1938e+03 -1.1943e+03  4e-01  1e-03  1e-06\n",
            " 5: -1.1941e+03 -1.1942e+03  8e-02  1e-04  1e-07\n",
            " 6: -1.1942e+03 -1.1942e+03  2e-02  1e-05  1e-08\n",
            " 7: -1.1942e+03 -1.1942e+03  4e-03  2e-06  2e-09\n",
            " 8: -1.1942e+03 -1.1942e+03  8e-04  4e-07  4e-10\n",
            " 9: -1.1942e+03 -1.1942e+03  2e-04  6e-08  5e-11\n",
            "10: -1.1942e+03 -1.1942e+03  8e-05  9e-09  8e-12\n",
            "11: -1.1942e+03 -1.1942e+03  7e-05  6e-09  5e-12\n",
            "12: -1.1942e+03 -1.1942e+03  8e-06  4e-10  4e-13\n",
            "13: -1.1942e+03 -1.1942e+03  2e-06  7e-11  7e-14\n",
            "14: -1.1942e+03 -1.1942e+03  1e-07  4e-12  4e-15\n",
            "Optimal solution found.\n",
            "     pcost       dcost       gap    pres   dres\n",
            " 0: -1.9724e+03 -1.9691e+03  4e+03  7e+01  5e-02\n",
            " 1: -1.9693e+03 -2.2481e+03  3e+02  4e+00  3e-03\n",
            " 2: -1.9692e+03 -1.9876e+03  2e+01  2e-01  2e-04\n",
            " 3: -1.9702e+03 -1.9725e+03  2e+00  2e-03  2e-06\n",
            " 4: -1.9722e+03 -1.9724e+03  3e-01  3e-04  2e-07\n",
            " 5: -1.9724e+03 -1.9724e+03  5e-02  4e-05  3e-08\n",
            " 6: -1.9724e+03 -1.9724e+03  9e-03  5e-06  4e-09\n",
            " 7: -1.9724e+03 -1.9724e+03  2e-03  7e-07  5e-10\n",
            " 8: -1.9724e+03 -1.9724e+03  2e-04  6e-08  4e-11\n",
            " 9: -1.9724e+03 -1.9724e+03  2e-05  6e-09  4e-12\n",
            "10: -1.9724e+03 -1.9724e+03  2e-06  3e-10  2e-13\n",
            "Optimal solution found.\n",
            "     pcost       dcost       gap    pres   dres\n",
            " 0: -2.4280e+01 -2.2482e+01  2e+03  5e+01  4e-01\n",
            " 1: -2.2552e+01 -1.2098e+02  1e+02  2e+00  2e-02\n",
            " 2: -2.2531e+01 -2.6617e+01  4e+00  5e-02  4e-04\n",
            " 3: -2.3670e+01 -2.4288e+01  6e-01  5e-04  4e-06\n",
            " 4: -2.4243e+01 -2.4279e+01  4e-02  3e-05  2e-07\n",
            " 5: -2.4272e+01 -2.4278e+01  6e-03  3e-06  2e-08\n",
            " 6: -2.4277e+01 -2.4278e+01  8e-04  3e-07  2e-09\n",
            " 7: -2.4278e+01 -2.4278e+01  7e-05  1e-08  1e-10\n",
            " 8: -2.4278e+01 -2.4278e+01  5e-06  5e-10  5e-12\n",
            " 9: -2.4278e+01 -2.4278e+01  2e-07  1e-11  9e-14\n",
            "10: -2.4278e+01 -2.4278e+01  1e-08  2e-13  5e-15\n",
            "Optimal solution found.\n",
            "     pcost       dcost       gap    pres   dres\n",
            " 0: -1.6323e+04 -1.6319e+04  4e+03  6e+01  2e-02\n",
            " 1: -1.6321e+04 -1.6595e+04  3e+02  5e+00  1e-03\n",
            " 2: -1.6322e+04 -1.6352e+04  3e+01  4e-01  1e-04\n",
            " 3: -1.6323e+04 -1.6329e+04  6e+00  6e-02  2e-05\n",
            " 4: -1.6324e+04 -1.6325e+04  1e+00  1e-02  3e-06\n",
            " 5: -1.6325e+04 -1.6325e+04  4e-01  2e-03  6e-07\n",
            " 6: -1.6325e+04 -1.6325e+04  1e-01  2e-04  5e-08\n",
            " 7: -1.6325e+04 -1.6325e+04  3e-02  5e-05  1e-08\n",
            " 8: -1.6325e+04 -1.6325e+04  1e-02  1e-05  3e-09\n",
            " 9: -1.6325e+04 -1.6325e+04  6e-03  4e-06  1e-09\n",
            "10: -1.6325e+04 -1.6325e+04  1e-03  8e-07  2e-10\n",
            "11: -1.6325e+04 -1.6325e+04  2e-04  4e-08  1e-11\n",
            "12: -1.6325e+04 -1.6325e+04  1e-05  3e-09  8e-13\n",
            "Optimal solution found.\n",
            "     pcost       dcost       gap    pres   dres\n",
            " 0: -8.3034e+00 -6.4418e+00  2e+03  5e+01  7e-01\n",
            " 1: -6.5144e+00 -1.0848e+02  1e+02  2e+00  3e-02\n",
            " 2: -6.4951e+00 -1.1960e+01  5e+00  8e-02  1e-03\n",
            " 3: -7.4669e+00 -8.3237e+00  9e-01  8e-04  1e-05\n",
            " 4: -8.2131e+00 -8.3048e+00  9e-02  8e-05  1e-06\n",
            " 5: -8.2925e+00 -8.3042e+00  1e-02  6e-06  8e-08\n",
            " 6: -8.3026e+00 -8.3040e+00  1e-03  4e-07  5e-09\n",
            " 7: -8.3038e+00 -8.3039e+00  2e-04  3e-08  4e-10\n",
            " 8: -8.3039e+00 -8.3039e+00  9e-06  9e-10  1e-11\n",
            " 9: -8.3039e+00 -8.3039e+00  4e-07  2e-11  3e-13\n",
            "10: -8.3039e+00 -8.3039e+00  9e-09  3e-13  4e-15\n",
            "Optimal solution found.\n",
            "     pcost       dcost       gap    pres   dres\n",
            " 0: -3.9364e+01 -3.7699e+01  2e+03  5e+01  3e-01\n",
            " 1: -3.7761e+01 -1.3318e+02  1e+02  2e+00  1e-02\n",
            " 2: -3.7736e+01 -4.1920e+01  4e+00  6e-02  4e-04\n",
            " 3: -3.8726e+01 -3.9376e+01  7e-01  6e-04  4e-06\n",
            " 4: -3.9276e+01 -3.9364e+01  9e-02  8e-05  5e-07\n",
            " 5: -3.9351e+01 -3.9364e+01  1e-02  6e-06  4e-08\n",
            " 6: -3.9361e+01 -3.9363e+01  2e-03  8e-07  5e-09\n",
            " 7: -3.9363e+01 -3.9363e+01  3e-04  7e-08  5e-10\n",
            " 8: -3.9363e+01 -3.9363e+01  3e-05  5e-09  4e-11\n",
            " 9: -3.9363e+01 -3.9363e+01  2e-06  3e-10  2e-12\n",
            "10: -3.9363e+01 -3.9363e+01  2e-07  3e-11  2e-13\n",
            "11: -3.9363e+01 -3.9363e+01  6e-09  5e-13  4e-15\n",
            "Optimal solution found.\n",
            "     pcost       dcost       gap    pres   dres\n",
            " 0: -1.1920e+01 -9.2853e+00  3e+03  6e+01  6e-01\n",
            " 1: -9.3960e+00 -1.5623e+02  2e+02  3e+00  3e-02\n",
            " 2: -9.3610e+00 -1.7707e+01  8e+00  1e-01  1e-03\n",
            " 3: -1.0654e+01 -1.1952e+01  1e+00  1e-03  1e-05\n",
            " 4: -1.1720e+01 -1.1921e+01  2e-01  2e-04  2e-06\n",
            " 5: -1.1894e+01 -1.1920e+01  3e-02  1e-05  1e-07\n",
            " 6: -1.1915e+01 -1.1920e+01  5e-03  2e-06  2e-08\n",
            " 7: -1.1919e+01 -1.1920e+01  7e-04  2e-07  2e-09\n",
            " 8: -1.1920e+01 -1.1920e+01  6e-05  1e-08  1e-10\n",
            " 9: -1.1920e+01 -1.1920e+01  4e-06  6e-10  6e-12\n",
            "10: -1.1920e+01 -1.1920e+01  1e-07  1e-11  1e-13\n",
            "11: -1.1920e+01 -1.1920e+01  7e-09  2e-13  3e-15\n",
            "Optimal solution found.\n",
            "     pcost       dcost       gap    pres   dres\n",
            " 0: -2.5402e+04 -2.5400e+04  3e+03  6e+01  1e-02\n",
            " 1: -2.5400e+04 -2.5561e+04  2e+02  3e+00  8e-04\n",
            " 2: -2.5400e+04 -2.5419e+04  2e+01  3e-01  8e-05\n",
            " 3: -2.5401e+04 -2.5404e+04  3e+00  3e-02  8e-06\n",
            " 4: -2.5402e+04 -2.5403e+04  4e-01  1e-03  4e-07\n",
            " 5: -2.5402e+04 -2.5403e+04  8e-02  9e-05  2e-08\n",
            " 6: -2.5402e+04 -2.5402e+04  2e-02  1e-05  3e-09\n",
            " 7: -2.5402e+04 -2.5402e+04  6e-03  2e-06  5e-10\n",
            " 8: -2.5402e+04 -2.5402e+04  2e-03  7e-08  2e-11\n",
            " 9: -2.5402e+04 -2.5402e+04  6e-04  6e-09  2e-12\n",
            "10: -2.5402e+04 -2.5402e+04  2e-04  2e-09  5e-13\n",
            "11: -2.5402e+04 -2.5402e+04  6e-05  3e-10  9e-14\n",
            "12: -2.5402e+04 -2.5402e+04  2e-05  5e-11  1e-14\n",
            "Optimal solution found.\n",
            "     pcost       dcost       gap    pres   dres\n",
            " 0: -1.3275e+02 -1.3054e+02  3e+03  5e+01  2e-01\n",
            " 1: -1.3065e+02 -2.6229e+02  1e+02  3e+00  8e-03\n",
            " 2: -1.3060e+02 -1.3672e+02  6e+00  8e-02  2e-04\n",
            " 3: -1.3180e+02 -1.3277e+02  1e+00  8e-04  2e-06\n",
            " 4: -1.3264e+02 -1.3275e+02  1e-01  8e-05  3e-07\n",
            " 5: -1.3273e+02 -1.3275e+02  2e-02  1e-05  3e-08\n",
            " 6: -1.3274e+02 -1.3274e+02  2e-03  9e-07  3e-09\n",
            " 7: -1.3274e+02 -1.3274e+02  3e-04  7e-08  2e-10\n",
            " 8: -1.3274e+02 -1.3274e+02  2e-05  4e-09  1e-11\n",
            " 9: -1.3274e+02 -1.3274e+02  1e-06  1e-10  5e-13\n",
            "10: -1.3274e+02 -1.3274e+02  4e-08  2e-12  7e-15\n",
            "Optimal solution found.\n",
            "     pcost       dcost       gap    pres   dres\n",
            " 0: -1.6694e+04 -1.6692e+04  3e+03  6e+01  2e-02\n",
            " 1: -1.6692e+04 -1.6873e+04  2e+02  4e+00  1e-03\n",
            " 2: -1.6692e+04 -1.6704e+04  1e+01  2e-01  6e-05\n",
            " 3: -1.6693e+04 -1.6695e+04  1e+00  2e-03  6e-07\n",
            " 4: -1.6694e+04 -1.6695e+04  4e-01  5e-04  1e-07\n",
            " 5: -1.6695e+04 -1.6695e+04  8e-02  6e-05  2e-08\n",
            " 6: -1.6695e+04 -1.6695e+04  1e-02  5e-06  2e-09\n",
            " 7: -1.6695e+04 -1.6695e+04  3e-03  7e-07  2e-10\n",
            " 8: -1.6695e+04 -1.6695e+04  6e-04  1e-07  4e-11\n",
            " 9: -1.6695e+04 -1.6695e+04  2e-04  3e-08  1e-11\n",
            "10: -1.6695e+04 -1.6695e+04  1e-04  6e-09  2e-12\n",
            "11: -1.6695e+04 -1.6695e+04  3e-05  1e-09  4e-13\n",
            "12: -1.6695e+04 -1.6695e+04  2e-05  2e-10  6e-14\n",
            "Optimal solution found.\n",
            "     pcost       dcost       gap    pres   dres\n",
            " 0: -2.9636e+02 -2.9430e+02  3e+03  5e+01  1e-01\n",
            " 1: -2.9443e+02 -4.3611e+02  2e+02  3e+00  7e-03\n",
            " 2: -2.9436e+02 -3.0243e+02  8e+00  1e-01  3e-04\n",
            " 3: -2.9521e+02 -2.9640e+02  1e+00  1e-03  3e-06\n",
            " 4: -2.9629e+02 -2.9636e+02  7e-02  7e-05  2e-07\n",
            " 5: -2.9635e+02 -2.9636e+02  9e-03  9e-06  2e-08\n",
            " 6: -2.9636e+02 -2.9636e+02  1e-03  6e-07  1e-09\n",
            " 7: -2.9636e+02 -2.9636e+02  1e-04  4e-08  9e-11\n",
            " 8: -2.9636e+02 -2.9636e+02  1e-05  3e-09  6e-12\n",
            " 9: -2.9636e+02 -2.9636e+02  1e-06  2e-10  4e-13\n",
            "10: -2.9636e+02 -2.9636e+02  7e-08  9e-12  2e-14\n",
            "Optimal solution found.\n",
            "     pcost       dcost       gap    pres   dres\n",
            " 0: -6.1844e+05 -6.1844e+05  5e+03  8e+01  3e-03\n",
            " 1: -6.1844e+05 -6.1903e+05  7e+02  1e+01  4e-04\n",
            " 2: -6.1844e+05 -6.1851e+05  7e+01  1e+00  4e-05\n",
            " 3: -6.1846e+05 -6.1848e+05  2e+01  3e-01  1e-05\n",
            " 4: -6.1846e+05 -6.1846e+05  4e+00  4e-02  2e-06\n",
            " 5: -6.1846e+05 -6.1846e+05  6e-01  4e-03  2e-07\n",
            " 6: -6.1846e+05 -6.1846e+05  1e-01  7e-04  3e-08\n",
            " 7: -6.1846e+05 -6.1846e+05  3e-02  1e-04  5e-09\n",
            " 8: -6.1846e+05 -6.1846e+05  1e-02  4e-05  2e-09\n",
            " 9: -6.1846e+05 -6.1846e+05  4e-03  8e-06  3e-10\n",
            "10: -6.1846e+05 -6.1846e+05  2e-03  3e-06  1e-10\n",
            "11: -6.1846e+05 -6.1846e+05  9e-04  7e-07  3e-11\n",
            "12: -6.1846e+05 -6.1846e+05  7e-04  3e-07  1e-11\n",
            "13: -6.1846e+05 -6.1846e+05  1e-04  5e-08  2e-12\n",
            "Optimal solution found.\n",
            "     pcost       dcost       gap    pres   dres\n",
            " 0: -2.7843e+04 -2.7839e+04  5e+03  7e+01  1e-02\n",
            " 1: -2.7840e+04 -2.8141e+04  3e+02  5e+00  9e-04\n",
            " 2: -2.7840e+04 -2.7870e+04  3e+01  4e-01  8e-05\n",
            " 3: -2.7842e+04 -2.7846e+04  4e+00  2e-02  4e-06\n",
            " 4: -2.7844e+04 -2.7844e+04  6e-01  3e-03  5e-07\n",
            " 5: -2.7844e+04 -2.7844e+04  1e-01  2e-04  4e-08\n",
            " 6: -2.7844e+04 -2.7844e+04  3e-02  5e-05  9e-09\n",
            " 7: -2.7844e+04 -2.7844e+04  7e-03  7e-06  1e-09\n",
            " 8: -2.7844e+04 -2.7844e+04  2e-03  1e-06  3e-10\n",
            " 9: -2.7844e+04 -2.7844e+04  5e-04  3e-07  6e-11\n",
            "10: -2.7844e+04 -2.7844e+04  2e-04  7e-08  1e-11\n",
            "11: -2.7844e+04 -2.7844e+04  8e-05  2e-08  3e-12\n",
            "12: -2.7844e+04 -2.7844e+04  2e-05  2e-10  3e-14\n",
            "Optimal solution found.\n",
            "     pcost       dcost       gap    pres   dres\n",
            " 0: -1.9507e+03 -1.9466e+03  4e+03  7e+01  7e-02\n",
            " 1: -1.9486e+03 -2.2568e+03  3e+02  5e+00  5e-03\n",
            " 2: -1.9496e+03 -1.9957e+03  5e+01  6e-01  7e-04\n",
            " 3: -1.9510e+03 -1.9608e+03  1e+01  1e-01  1e-04\n",
            " 4: -1.9523e+03 -1.9537e+03  1e+00  1e-03  1e-06\n",
            " 5: -1.9531e+03 -1.9535e+03  4e-01  2e-04  3e-07\n",
            " 6: -1.9533e+03 -1.9534e+03  1e-01  4e-05  4e-08\n",
            " 7: -1.9534e+03 -1.9534e+03  3e-02  7e-06  8e-09\n",
            " 8: -1.9534e+03 -1.9534e+03  8e-03  2e-06  2e-09\n",
            " 9: -1.9534e+03 -1.9534e+03  2e-03  3e-07  3e-10\n",
            "10: -1.9534e+03 -1.9534e+03  1e-03  1e-07  1e-10\n",
            "11: -1.9534e+03 -1.9534e+03  3e-04  2e-08  2e-11\n",
            "12: -1.9534e+03 -1.9534e+03  1e-04  2e-10  2e-13\n",
            "13: -1.9534e+03 -1.9534e+03  3e-05  2e-11  2e-14\n",
            "14: -1.9534e+03 -1.9534e+03  5e-06  2e-12  3e-15\n",
            "15: -1.9534e+03 -1.9534e+03  3e-07  1e-13  2e-15\n",
            "Optimal solution found.\n",
            "     pcost       dcost       gap    pres   dres\n",
            " 0: -7.2092e+04 -7.2089e+04  4e+03  6e+01  9e-03\n",
            " 1: -7.2090e+04 -7.2267e+04  2e+02  3e+00  5e-04\n",
            " 2: -7.2092e+04 -7.2127e+04  4e+01  6e-01  9e-05\n",
            " 3: -7.2096e+04 -7.2104e+04  8e+00  1e-01  2e-05\n",
            " 4: -7.2097e+04 -7.2098e+04  1e+00  4e-03  6e-07\n",
            " 5: -7.2098e+04 -7.2098e+04  4e-01  1e-03  2e-07\n",
            " 6: -7.2098e+04 -7.2098e+04  1e-01  2e-04  3e-08\n",
            " 7: -7.2098e+04 -7.2098e+04  2e-02  3e-05  4e-09\n",
            " 8: -7.2098e+04 -7.2098e+04  3e-03  2e-06  3e-10\n",
            " 9: -7.2098e+04 -7.2098e+04  1e-03  5e-07  9e-11\n",
            "10: -7.2098e+04 -7.2098e+04  1e-03  2e-07  3e-11\n",
            "11: -7.2098e+04 -7.2098e+04  3e-04  3e-08  4e-12\n",
            "12: -7.2098e+04 -7.2098e+04  3e-04  2e-08  3e-12\n",
            "13: -7.2098e+04 -7.2098e+04  8e-05  5e-09  7e-13\n",
            "14: -7.2098e+04 -7.2098e+04  6e-05  3e-09  4e-13\n",
            "Optimal solution found.\n",
            "     pcost       dcost       gap    pres   dres\n",
            " 0: -5.9225e+04 -5.9221e+04  5e+03  7e+01  1e-02\n",
            " 1: -5.9222e+04 -5.9725e+04  6e+02  8e+00  1e-03\n",
            " 2: -5.9222e+04 -5.9280e+04  6e+01  7e-01  1e-04\n",
            " 3: -5.9225e+04 -5.9238e+04  1e+01  1e-01  2e-05\n",
            " 4: -5.9226e+04 -5.9228e+04  2e+00  1e-03  2e-07\n",
            " 5: -5.9228e+04 -5.9228e+04  5e-01  2e-04  3e-08\n",
            " 6: -5.9228e+04 -5.9228e+04  1e-01  3e-05  5e-09\n",
            " 7: -5.9228e+04 -5.9228e+04  3e-02  2e-06  2e-10\n",
            " 8: -5.9228e+04 -5.9228e+04  5e-03  2e-07  3e-11\n",
            " 9: -5.9228e+04 -5.9228e+04  1e-03  3e-08  5e-12\n",
            "10: -5.9228e+04 -5.9228e+04  3e-04  2e-09  3e-13\n",
            "11: -5.9228e+04 -5.9228e+04  2e-04  3e-10  5e-14\n",
            "12: -5.9228e+04 -5.9228e+04  6e-05  9e-11  1e-14\n",
            "13: -5.9228e+04 -5.9228e+04  1e-05  9e-13  4e-15\n",
            "Optimal solution found.\n",
            "     pcost       dcost       gap    pres   dres\n",
            " 0: -2.1561e+03 -2.1533e+03  4e+03  6e+01  5e-02\n",
            " 1: -2.1536e+03 -2.3524e+03  2e+02  3e+00  3e-03\n",
            " 2: -2.1536e+03 -2.1644e+03  1e+01  1e-01  1e-04\n",
            " 3: -2.1548e+03 -2.1563e+03  2e+00  1e-03  1e-06\n",
            " 4: -2.1559e+03 -2.1562e+03  3e-01  2e-04  2e-07\n",
            " 5: -2.1561e+03 -2.1562e+03  8e-02  3e-05  2e-08\n",
            " 6: -2.1562e+03 -2.1562e+03  2e-02  4e-06  3e-09\n",
            " 7: -2.1562e+03 -2.1562e+03  4e-03  5e-07  4e-10\n",
            " 8: -2.1562e+03 -2.1562e+03  8e-04  7e-08  5e-11\n",
            " 9: -2.1562e+03 -2.1562e+03  1e-04  6e-09  5e-12\n",
            "10: -2.1562e+03 -2.1562e+03  2e-05  6e-10  5e-13\n",
            "11: -2.1562e+03 -2.1562e+03  2e-06  7e-11  5e-14\n",
            "Optimal solution found.\n",
            "     pcost       dcost       gap    pres   dres\n",
            " 0: -4.1784e+03 -4.1756e+03  4e+03  6e+01  4e-02\n",
            " 1: -4.1759e+03 -4.3627e+03  2e+02  3e+00  2e-03\n",
            " 2: -4.1762e+03 -4.1934e+03  2e+01  3e-01  2e-04\n",
            " 3: -4.1773e+03 -4.1793e+03  2e+00  5e-03  3e-06\n",
            " 4: -4.1787e+03 -4.1790e+03  3e-01  7e-04  5e-07\n",
            " 5: -4.1789e+03 -4.1789e+03  5e-02  7e-05  5e-08\n",
            " 6: -4.1789e+03 -4.1789e+03  1e-02  1e-05  1e-08\n",
            " 7: -4.1789e+03 -4.1789e+03  2e-03  6e-07  4e-10\n",
            " 8: -4.1789e+03 -4.1789e+03  4e-04  1e-07  7e-11\n",
            " 9: -4.1789e+03 -4.1789e+03  2e-04  3e-08  2e-11\n",
            "10: -4.1789e+03 -4.1789e+03  5e-05  3e-10  2e-13\n",
            "11: -4.1789e+03 -4.1789e+03  3e-05  8e-11  6e-14\n",
            "12: -4.1789e+03 -4.1789e+03  5e-06  1e-11  1e-14\n",
            "13: -4.1789e+03 -4.1789e+03  2e-06  5e-12  4e-15\n",
            "Optimal solution found.\n",
            "     pcost       dcost       gap    pres   dres\n",
            " 0: -8.2628e+05 -8.2628e+05  6e+03  7e+01  3e-03\n",
            " 1: -8.2628e+05 -8.2674e+05  5e+02  7e+00  3e-04\n",
            " 2: -8.2629e+05 -8.2644e+05  2e+02  2e+00  7e-05\n",
            " 3: -8.2633e+05 -8.2642e+05  1e+02  9e-01  4e-05\n",
            " 4: -8.2635e+05 -8.2639e+05  4e+01  3e-01  1e-05\n",
            " 5: -8.2635e+05 -8.2636e+05  9e+00  5e-02  2e-06\n",
            " 6: -8.2635e+05 -8.2636e+05  2e+00  1e-02  4e-07\n",
            " 7: -8.2635e+05 -8.2636e+05  5e-01  7e-04  3e-08\n",
            " 8: -8.2635e+05 -8.2636e+05  2e-01  2e-04  6e-09\n",
            " 9: -8.2635e+05 -8.2636e+05  1e-01  7e-05  3e-09\n",
            "10: -8.2635e+05 -8.2636e+05  3e-02  8e-06  3e-10\n",
            "11: -8.2635e+05 -8.2635e+05  1e-02  2e-06  8e-11\n",
            "12: -8.2635e+05 -8.2635e+05  5e-03  2e-08  8e-13\n",
            "13: -8.2635e+05 -8.2635e+05  1e-03  2e-09  6e-14\n",
            "14: -8.2635e+05 -8.2635e+05  5e-04  4e-10  2e-14\n",
            "Optimal solution found.\n",
            "     pcost       dcost       gap    pres   dres\n",
            " 0: -3.3438e+01 -3.1126e+01  3e+03  5e+01  3e-01\n",
            " 1: -3.1236e+01 -1.6036e+02  1e+02  2e+00  2e-02\n",
            " 2: -3.1206e+01 -3.6637e+01  5e+00  6e-02  4e-04\n",
            " 3: -3.2621e+01 -3.3453e+01  8e-01  6e-04  4e-06\n",
            " 4: -3.3318e+01 -3.3440e+01  1e-01  9e-05  5e-07\n",
            " 5: -3.3423e+01 -3.3439e+01  2e-02  3e-06  2e-08\n",
            " 6: -3.3436e+01 -3.3439e+01  2e-03  3e-07  2e-09\n",
            " 7: -3.3438e+01 -3.3438e+01  3e-04  2e-08  1e-10\n",
            " 8: -3.3438e+01 -3.3438e+01  2e-05  1e-09  7e-12\n",
            " 9: -3.3438e+01 -3.3438e+01  2e-06  6e-11  4e-13\n",
            "10: -3.3438e+01 -3.3438e+01  5e-08  1e-12  8e-15\n",
            "Optimal solution found.\n",
            "     pcost       dcost       gap    pres   dres\n",
            " 0: -4.0483e+01 -3.8242e+01  3e+03  5e+01  3e-01\n",
            " 1: -3.8339e+01 -1.6614e+02  1e+02  2e+00  1e-02\n",
            " 2: -3.8303e+01 -4.4100e+01  6e+00  7e-02  4e-04\n",
            " 3: -3.9592e+01 -4.0498e+01  9e-01  7e-04  4e-06\n",
            " 4: -4.0433e+01 -4.0481e+01  5e-02  4e-05  2e-07\n",
            " 5: -4.0472e+01 -4.0481e+01  9e-03  5e-06  3e-08\n",
            " 6: -4.0480e+01 -4.0481e+01  1e-03  4e-07  2e-09\n",
            " 7: -4.0481e+01 -4.0481e+01  1e-04  2e-08  1e-10\n",
            " 8: -4.0481e+01 -4.0481e+01  5e-06  6e-10  3e-12\n",
            " 9: -4.0481e+01 -4.0481e+01  2e-07  1e-11  6e-14\n",
            "10: -4.0481e+01 -4.0481e+01  1e-08  2e-13  2e-15\n",
            "Optimal solution found.\n",
            "     pcost       dcost       gap    pres   dres\n",
            " 0: -1.4520e+05 -1.4520e+05  3e+03  5e+01  5e-03\n",
            " 1: -1.4520e+05 -1.4538e+05  2e+02  4e+00  4e-04\n",
            " 2: -1.4520e+05 -1.4521e+05  1e+01  2e-01  2e-05\n",
            " 3: -1.4520e+05 -1.4520e+05  1e+00  3e-03  3e-07\n",
            " 4: -1.4520e+05 -1.4520e+05  4e-01  7e-04  7e-08\n",
            " 5: -1.4520e+05 -1.4520e+05  1e-01  7e-06  7e-10\n",
            " 6: -1.4520e+05 -1.4520e+05  2e-02  1e-06  1e-10\n",
            " 7: -1.4520e+05 -1.4520e+05  6e-03  2e-07  2e-11\n",
            " 8: -1.4520e+05 -1.4520e+05  1e-03  2e-08  2e-12\n",
            " 9: -1.4520e+05 -1.4520e+05  4e-04  5e-09  5e-13\n",
            "10: -1.4520e+05 -1.4520e+05  2e-04  1e-09  1e-13\n",
            "11: -1.4520e+05 -1.4520e+05  3e-05  8e-11  8e-15\n",
            "Optimal solution found.\n",
            "     pcost       dcost       gap    pres   dres\n",
            " 0: -2.2482e+02 -2.2055e+02  5e+03  7e+01  1e-01\n",
            " 1: -2.2076e+02 -4.7135e+02  3e+02  4e+00  6e-03\n",
            " 2: -2.2067e+02 -2.3081e+02  1e+01  8e-02  2e-04\n",
            " 3: -2.2328e+02 -2.2484e+02  2e+00  8e-04  2e-06\n",
            " 4: -2.2468e+02 -2.2482e+02  1e-01  7e-05  1e-07\n",
            " 5: -2.2480e+02 -2.2482e+02  2e-02  8e-06  2e-08\n",
            " 6: -2.2481e+02 -2.2481e+02  3e-03  9e-07  2e-09\n",
            " 7: -2.2481e+02 -2.2481e+02  4e-04  8e-08  1e-10\n",
            " 8: -2.2481e+02 -2.2481e+02  4e-05  6e-09  1e-11\n",
            " 9: -2.2481e+02 -2.2481e+02  1e-06  2e-10  3e-13\n",
            "10: -2.2481e+02 -2.2481e+02  6e-08  5e-12  8e-15\n",
            "Optimal solution found.\n",
            "     pcost       dcost       gap    pres   dres\n",
            " 0: -4.9174e+03 -4.9147e+03  4e+03  6e+01  3e-02\n",
            " 1: -4.9150e+03 -5.1311e+03  2e+02  4e+00  2e-03\n",
            " 2: -4.9154e+03 -4.9382e+03  2e+01  3e-01  2e-04\n",
            " 3: -4.9166e+03 -4.9205e+03  4e+00  3e-02  2e-05\n",
            " 4: -4.9182e+03 -4.9186e+03  4e-01  3e-04  2e-07\n",
            " 5: -4.9185e+03 -4.9185e+03  6e-02  1e-05  7e-09\n",
            " 6: -4.9185e+03 -4.9185e+03  1e-02  2e-06  1e-09\n",
            " 7: -4.9185e+03 -4.9185e+03  3e-03  2e-07  1e-10\n",
            " 8: -4.9185e+03 -4.9185e+03  6e-04  4e-08  2e-11\n",
            " 9: -4.9185e+03 -4.9185e+03  3e-04  7e-09  4e-12\n",
            "10: -4.9185e+03 -4.9185e+03  9e-05  2e-09  1e-12\n",
            "11: -4.9185e+03 -4.9185e+03  4e-05  2e-10  1e-13\n",
            "12: -4.9185e+03 -4.9185e+03  3e-05  2e-10  1e-13\n",
            "13: -4.9185e+03 -4.9185e+03  8e-06  3e-11  2e-14\n",
            "14: -4.9185e+03 -4.9185e+03  7e-06  3e-11  2e-14\n",
            "15: -4.9185e+03 -4.9185e+03  1e-06  5e-13  5e-15\n",
            "Optimal solution found.\n",
            "     pcost       dcost       gap    pres   dres\n",
            " 0: -4.3652e+00 -2.5424e+00  2e+03  5e+01  9e-01\n",
            " 1: -2.6111e+00 -1.0028e+02  1e+02  2e+00  4e-02\n",
            " 2: -2.5930e+00 -6.6916e+00  4e+00  5e-02  1e-03\n",
            " 3: -3.7552e+00 -4.3731e+00  6e-01  5e-04  1e-05\n",
            " 4: -4.3325e+00 -4.3639e+00  3e-02  3e-05  5e-07\n",
            " 5: -4.3600e+00 -4.3637e+00  4e-03  3e-07  5e-09\n",
            " 6: -4.3632e+00 -4.3636e+00  4e-04  2e-08  4e-10\n",
            " 7: -4.3635e+00 -4.3636e+00  3e-05  9e-10  2e-11\n",
            " 8: -4.3636e+00 -4.3636e+00  2e-06  4e-11  7e-13\n",
            " 9: -4.3636e+00 -4.3636e+00  6e-08  5e-13  1e-14\n",
            "Optimal solution found.\n",
            "     pcost       dcost       gap    pres   dres\n",
            " 0: -3.3396e+02 -3.3131e+02  3e+03  6e+01  1e-01\n",
            " 1: -3.3154e+02 -5.1585e+02  2e+02  3e+00  6e-03\n",
            " 2: -3.3147e+02 -3.4808e+02  2e+01  2e-01  5e-04\n",
            " 3: -3.3205e+02 -3.3411e+02  2e+00  2e-03  5e-06\n",
            " 4: -3.3377e+02 -3.3400e+02  2e-01  3e-04  5e-07\n",
            " 5: -3.3396e+02 -3.3399e+02  3e-02  2e-05  4e-08\n",
            " 6: -3.3399e+02 -3.3399e+02  5e-03  3e-06  5e-09\n",
            " 7: -3.3399e+02 -3.3399e+02  7e-04  3e-07  5e-10\n",
            " 8: -3.3399e+02 -3.3399e+02  9e-05  2e-08  4e-11\n",
            " 9: -3.3399e+02 -3.3399e+02  1e-05  2e-09  4e-12\n",
            "10: -3.3399e+02 -3.3399e+02  7e-07  1e-10  2e-13\n",
            "11: -3.3399e+02 -3.3399e+02  2e-08  2e-12  5e-15\n",
            "Optimal solution found.\n",
            "     pcost       dcost       gap    pres   dres\n",
            " 0: -2.2816e+04 -2.2812e+04  5e+03  7e+01  1e-02\n",
            " 1: -2.2813e+04 -2.3124e+04  3e+02  5e+00  1e-03\n",
            " 2: -2.2813e+04 -2.2829e+04  2e+01  2e-01  4e-05\n",
            " 3: -2.2814e+04 -2.2816e+04  2e+00  2e-03  4e-07\n",
            " 4: -2.2816e+04 -2.2816e+04  3e-01  2e-04  5e-08\n",
            " 5: -2.2816e+04 -2.2816e+04  5e-02  3e-05  5e-09\n",
            " 6: -2.2816e+04 -2.2816e+04  1e-02  3e-06  7e-10\n",
            " 7: -2.2816e+04 -2.2816e+04  2e-03  4e-07  8e-11\n",
            " 8: -2.2816e+04 -2.2816e+04  3e-04  4e-08  7e-12\n",
            " 9: -2.2816e+04 -2.2816e+04  3e-05  4e-09  8e-13\n",
            "10: -2.2816e+04 -2.2816e+04  3e-06  3e-10  6e-14\n",
            "Optimal solution found.\n",
            "     pcost       dcost       gap    pres   dres\n",
            " 0: -8.2051e+03 -8.2023e+03  4e+03  6e+01  3e-02\n",
            " 1: -8.2028e+03 -8.4531e+03  3e+02  4e+00  2e-03\n",
            " 2: -8.2032e+03 -8.2317e+03  3e+01  4e-01  2e-04\n",
            " 3: -8.2048e+03 -8.2091e+03  4e+00  4e-02  2e-05\n",
            " 4: -8.2063e+03 -8.2068e+03  6e-01  7e-04  3e-07\n",
            " 5: -8.2066e+03 -8.2067e+03  1e-01  2e-04  8e-08\n",
            " 6: -8.2067e+03 -8.2067e+03  4e-02  3e-06  2e-09\n",
            " 7: -8.2067e+03 -8.2067e+03  5e-03  3e-07  2e-10\n",
            " 8: -8.2067e+03 -8.2067e+03  8e-04  4e-08  2e-11\n",
            " 9: -8.2067e+03 -8.2067e+03  2e-04  7e-09  4e-12\n",
            "10: -8.2067e+03 -8.2067e+03  1e-04  1e-09  6e-13\n",
            "11: -8.2067e+03 -8.2067e+03  7e-05  5e-10  3e-13\n",
            "12: -8.2067e+03 -8.2067e+03  2e-05  1e-10  5e-14\n",
            "13: -8.2067e+03 -8.2067e+03  7e-06  1e-11  7e-15\n",
            "Optimal solution found.\n",
            "     pcost       dcost       gap    pres   dres\n",
            " 0: -9.8559e+03 -9.8532e+03  3e+03  6e+01  2e-02\n",
            " 1: -9.8534e+03 -1.0045e+04  2e+02  3e+00  1e-03\n",
            " 2: -9.8536e+03 -9.8678e+03  1e+01  2e-01  7e-05\n",
            " 3: -9.8547e+03 -9.8564e+03  2e+00  2e-03  7e-07\n",
            " 4: -9.8558e+03 -9.8563e+03  4e-01  5e-04  2e-07\n",
            " 5: -9.8561e+03 -9.8562e+03  1e-01  2e-05  5e-09\n",
            " 6: -9.8561e+03 -9.8562e+03  2e-02  1e-06  4e-10\n",
            " 7: -9.8562e+03 -9.8562e+03  6e-03  3e-07  9e-11\n",
            " 8: -9.8562e+03 -9.8562e+03  2e-03  3e-09  9e-13\n",
            " 9: -9.8562e+03 -9.8562e+03  5e-04  4e-10  1e-13\n",
            "10: -9.8562e+03 -9.8562e+03  2e-04  5e-11  2e-14\n",
            "11: -9.8562e+03 -9.8562e+03  8e-05  1e-11  5e-15\n",
            "12: -9.8562e+03 -9.8562e+03  6e-05  7e-12  4e-15\n",
            "13: -9.8562e+03 -9.8562e+03  2e-05  3e-12  4e-15\n",
            "14: -9.8562e+03 -9.8562e+03  1e-05  4e-13  4e-15\n",
            "15: -9.8562e+03 -9.8562e+03  2e-06  5e-14  4e-16\n",
            "Optimal solution found.\n",
            "     pcost       dcost       gap    pres   dres\n",
            " 0: -6.3399e+02 -6.3178e+02  3e+03  5e+01  8e-02\n",
            " 1: -6.3191e+02 -7.7535e+02  2e+02  3e+00  4e-03\n",
            " 2: -6.3187e+02 -6.3919e+02  7e+00  1e-01  2e-04\n",
            " 3: -6.3292e+02 -6.3405e+02  1e+00  1e-03  2e-06\n",
            " 4: -6.3382e+02 -6.3401e+02  2e-01  2e-04  2e-07\n",
            " 5: -6.3397e+02 -6.3400e+02  3e-02  2e-05  3e-08\n",
            " 6: -6.3400e+02 -6.3400e+02  7e-03  2e-06  4e-09\n",
            " 7: -6.3400e+02 -6.3400e+02  1e-03  4e-07  5e-10\n",
            " 8: -6.3400e+02 -6.3400e+02  2e-04  5e-08  7e-11\n",
            " 9: -6.3400e+02 -6.3400e+02  4e-05  4e-09  6e-12\n",
            "10: -6.3400e+02 -6.3400e+02  7e-06  8e-10  1e-12\n",
            "11: -6.3400e+02 -6.3400e+02  6e-07  4e-11  7e-14\n",
            "Optimal solution found.\n",
            "     pcost       dcost       gap    pres   dres\n",
            " 0: -3.4508e+04 -3.4503e+04  6e+03  8e+01  1e-02\n",
            " 1: -3.4504e+04 -3.4853e+04  4e+02  5e+00  7e-04\n",
            " 2: -3.4504e+04 -3.4535e+04  3e+01  3e-01  5e-05\n",
            " 3: -3.4506e+04 -3.4510e+04  3e+00  5e-03  8e-07\n",
            " 4: -3.4508e+04 -3.4509e+04  6e-01  9e-04  1e-07\n",
            " 5: -3.4509e+04 -3.4509e+04  2e-01  1e-04  2e-08\n",
            " 6: -3.4509e+04 -3.4509e+04  4e-02  2e-05  3e-09\n",
            " 7: -3.4509e+04 -3.4509e+04  8e-03  3e-06  5e-10\n",
            " 8: -3.4509e+04 -3.4509e+04  2e-03  6e-07  9e-11\n",
            " 9: -3.4509e+04 -3.4509e+04  9e-04  3e-07  4e-11\n",
            "10: -3.4509e+04 -3.4509e+04  4e-04  7e-08  1e-11\n",
            "11: -3.4509e+04 -3.4509e+04  2e-04  7e-09  1e-12\n",
            "12: -3.4509e+04 -3.4509e+04  1e-04  2e-09  3e-13\n",
            "13: -3.4509e+04 -3.4509e+04  4e-05  2e-11  4e-15\n",
            "14: -3.4509e+04 -3.4509e+04  1e-05  1e-12  4e-15\n",
            "Optimal solution found.\n",
            "     pcost       dcost       gap    pres   dres\n",
            " 0: -5.3914e+04 -5.3910e+04  6e+03  8e+01  9e-03\n",
            " 1: -5.3910e+04 -5.4330e+04  5e+02  6e+00  7e-04\n",
            " 2: -5.3910e+04 -5.4001e+04  9e+01  1e+00  1e-04\n",
            " 3: -5.3911e+04 -5.3934e+04  2e+01  2e-01  2e-05\n",
            " 4: -5.3912e+04 -5.3916e+04  3e+00  2e-03  2e-07\n",
            " 5: -5.3915e+04 -5.3915e+04  7e-01  4e-04  4e-08\n",
            " 6: -5.3915e+04 -5.3915e+04  2e-01  3e-05  4e-09\n",
            " 7: -5.3915e+04 -5.3915e+04  4e-02  5e-06  6e-10\n",
            " 8: -5.3915e+04 -5.3915e+04  2e-02  9e-07  1e-10\n",
            " 9: -5.3915e+04 -5.3915e+04  3e-03  1e-07  2e-11\n",
            "10: -5.3915e+04 -5.3915e+04  1e-03  8e-09  9e-13\n",
            "11: -5.3915e+04 -5.3915e+04  1e-04  9e-10  1e-13\n",
            "12: -5.3915e+04 -5.3915e+04  3e-05  1e-10  2e-14\n",
            "Optimal solution found.\n",
            "     pcost       dcost       gap    pres   dres\n",
            " 0: -4.0751e+03 -4.0725e+03  3e+03  6e+01  3e-02\n",
            " 1: -4.0727e+03 -4.2824e+03  2e+02  4e+00  2e-03\n",
            " 2: -4.0726e+03 -4.0844e+03  1e+01  2e-01  9e-05\n",
            " 3: -4.0736e+03 -4.0752e+03  2e+00  2e-03  9e-07\n",
            " 4: -4.0749e+03 -4.0751e+03  2e-01  2e-04  1e-07\n",
            " 5: -4.0751e+03 -4.0751e+03  4e-02  3e-05  2e-08\n",
            " 6: -4.0751e+03 -4.0751e+03  8e-03  4e-06  2e-09\n",
            " 7: -4.0751e+03 -4.0751e+03  2e-03  6e-07  4e-10\n",
            " 8: -4.0751e+03 -4.0751e+03  3e-04  8e-08  4e-11\n",
            " 9: -4.0751e+03 -4.0751e+03  3e-05  7e-09  4e-12\n",
            "10: -4.0751e+03 -4.0751e+03  2e-06  4e-10  2e-13\n",
            "Optimal solution found.\n",
            "     pcost       dcost       gap    pres   dres\n",
            " 0: -6.0539e+04 -6.0534e+04  7e+03  8e+01  9e-03\n",
            " 1: -6.0534e+04 -6.0980e+04  5e+02  6e+00  6e-04\n",
            " 2: -6.0535e+04 -6.0585e+04  5e+01  6e-01  6e-05\n",
            " 3: -6.0538e+04 -6.0547e+04  9e+00  7e-02  7e-06\n",
            " 4: -6.0540e+04 -6.0542e+04  2e+00  1e-02  1e-06\n",
            " 5: -6.0541e+04 -6.0542e+04  4e-01  8e-04  8e-08\n",
            " 6: -6.0542e+04 -6.0542e+04  1e-01  2e-04  2e-08\n",
            " 7: -6.0542e+04 -6.0542e+04  2e-02  2e-05  2e-09\n",
            " 8: -6.0542e+04 -6.0542e+04  7e-03  4e-06  4e-10\n",
            " 9: -6.0542e+04 -6.0542e+04  5e-03  2e-06  2e-10\n",
            "10: -6.0542e+04 -6.0542e+04  1e-03  5e-07  5e-11\n",
            "11: -6.0542e+04 -6.0542e+04  6e-04  1e-07  1e-11\n",
            "12: -6.0542e+04 -6.0542e+04  5e-04  6e-08  7e-12\n",
            "13: -6.0542e+04 -6.0542e+04  2e-04  3e-08  3e-12\n",
            "14: -6.0542e+04 -6.0542e+04  2e-04  2e-08  2e-12\n",
            "15: -6.0542e+04 -6.0542e+04  5e-05  4e-09  4e-13\n",
            "Optimal solution found.\n",
            "     pcost       dcost       gap    pres   dres\n",
            " 0: -4.0140e+03 -4.0080e+03  8e+03  9e+01  3e-02\n",
            " 1: -4.0084e+03 -4.4571e+03  5e+02  5e+00  2e-03\n",
            " 2: -4.0082e+03 -4.0556e+03  5e+01  5e-01  2e-04\n",
            " 3: -4.0096e+03 -4.0144e+03  5e+00  5e-03  2e-06\n",
            " 4: -4.0125e+03 -4.0141e+03  2e+00  1e-03  5e-07\n",
            " 5: -4.0136e+03 -4.0141e+03  5e-01  3e-04  1e-07\n",
            " 6: -4.0140e+03 -4.0140e+03  8e-02  2e-05  9e-09\n",
            " 7: -4.0140e+03 -4.0140e+03  2e-02  3e-06  1e-09\n",
            " 8: -4.0140e+03 -4.0140e+03  3e-03  4e-07  1e-10\n",
            " 9: -4.0140e+03 -4.0140e+03  5e-04  5e-08  2e-11\n",
            "10: -4.0140e+03 -4.0140e+03  7e-05  5e-09  2e-12\n",
            "11: -4.0140e+03 -4.0140e+03  1e-05  7e-10  3e-13\n",
            "12: -4.0140e+03 -4.0140e+03  1e-06  6e-11  2e-14\n",
            "Optimal solution found.\n",
            "     pcost       dcost       gap    pres   dres\n",
            " 0: -2.7714e+01 -2.5795e+01  2e+03  5e+01  4e-01\n",
            " 1: -2.5871e+01 -1.3173e+02  1e+02  2e+00  2e-02\n",
            " 2: -2.5847e+01 -3.0267e+01  4e+00  5e-02  4e-04\n",
            " 3: -2.7051e+01 -2.7723e+01  7e-01  5e-04  4e-06\n",
            " 4: -2.7674e+01 -2.7713e+01  4e-02  3e-05  2e-07\n",
            " 5: -2.7708e+01 -2.7713e+01  4e-03  4e-07  3e-09\n",
            " 6: -2.7712e+01 -2.7712e+01  6e-04  3e-08  2e-10\n",
            " 7: -2.7712e+01 -2.7712e+01  4e-05  1e-09  8e-12\n",
            " 8: -2.7712e+01 -2.7712e+01  3e-06  4e-11  3e-13\n",
            " 9: -2.7712e+01 -2.7712e+01  9e-08  6e-13  5e-15\n",
            "Optimal solution found.\n",
            "     pcost       dcost       gap    pres   dres\n",
            " 0: -5.5703e+02 -5.5505e+02  2e+03  5e+01  9e-02\n",
            " 1: -5.5555e+02 -6.8225e+02  1e+02  3e+00  5e-03\n",
            " 2: -5.5570e+02 -5.6643e+02  1e+01  2e-01  4e-04\n",
            " 3: -5.5628e+02 -5.5752e+02  1e+00  2e-03  4e-06\n",
            " 4: -5.5715e+02 -5.5741e+02  3e-01  4e-04  7e-07\n",
            " 5: -5.5730e+02 -5.5737e+02  8e-02  5e-05  9e-08\n",
            " 6: -5.5734e+02 -5.5735e+02  2e-02  4e-06  8e-09\n",
            " 7: -5.5734e+02 -5.5735e+02  3e-03  5e-07  1e-09\n",
            " 8: -5.5735e+02 -5.5735e+02  8e-04  1e-07  2e-10\n",
            " 9: -5.5735e+02 -5.5735e+02  2e-04  2e-08  4e-11\n",
            "10: -5.5735e+02 -5.5735e+02  4e-05  1e-09  3e-12\n",
            "11: -5.5735e+02 -5.5735e+02  4e-06  1e-11  3e-14\n",
            "12: -5.5735e+02 -5.5735e+02  1e-07  4e-13  4e-15\n",
            "Optimal solution found.\n",
            "     pcost       dcost       gap    pres   dres\n",
            " 0: -7.2848e+03 -7.2840e+03  1e+03  3e+01  3e-02\n",
            " 1: -7.2843e+03 -7.3592e+03  8e+01  3e+00  2e-03\n",
            " 2: -7.2844e+03 -7.2914e+03  7e+00  2e-01  2e-04\n",
            " 3: -7.2845e+03 -7.2855e+03  1e+00  1e-02  1e-05\n",
            " 4: -7.2849e+03 -7.2851e+03  2e-01  2e-03  2e-06\n",
            " 5: -7.2850e+03 -7.2850e+03  4e-02  2e-04  2e-07\n",
            " 6: -7.2850e+03 -7.2850e+03  9e-03  2e-05  2e-08\n",
            " 7: -7.2850e+03 -7.2850e+03  2e-03  3e-06  3e-09\n",
            " 8: -7.2850e+03 -7.2850e+03  5e-04  5e-07  4e-10\n",
            " 9: -7.2850e+03 -7.2850e+03  5e-05  2e-08  2e-11\n",
            "10: -7.2850e+03 -7.2850e+03  4e-06  2e-09  1e-12\n",
            "Optimal solution found.\n",
            "     pcost       dcost       gap    pres   dres\n",
            " 0: -8.7245e+02 -8.7051e+02  2e+03  5e+01  9e-02\n",
            " 1: -8.7067e+02 -9.7273e+02  1e+02  2e+00  4e-03\n",
            " 2: -8.7075e+02 -8.7778e+02  7e+00  1e-01  2e-04\n",
            " 3: -8.7162e+02 -8.7263e+02  1e+00  1e-03  2e-06\n",
            " 4: -8.7239e+02 -8.7256e+02  2e-01  2e-04  3e-07\n",
            " 5: -8.7249e+02 -8.7253e+02  4e-02  2e-05  3e-08\n",
            " 6: -8.7251e+02 -8.7252e+02  8e-03  2e-06  4e-09\n",
            " 7: -8.7251e+02 -8.7251e+02  2e-03  3e-07  6e-10\n",
            " 8: -8.7251e+02 -8.7251e+02  3e-04  3e-08  6e-11\n",
            " 9: -8.7251e+02 -8.7251e+02  4e-05  3e-09  5e-12\n",
            "10: -8.7251e+02 -8.7251e+02  1e-05  9e-10  2e-12\n",
            "11: -8.7251e+02 -8.7251e+02  9e-06  1e-10  2e-13\n",
            "12: -8.7251e+02 -8.7251e+02  2e-06  2e-11  4e-14\n",
            "13: -8.7251e+02 -8.7251e+02  8e-07  2e-13  5e-15\n",
            "Optimal solution found.\n",
            "     pcost       dcost       gap    pres   dres\n",
            " 0: -3.7847e+00 -2.0737e+00  2e+03  5e+01  1e+00\n",
            " 1: -2.1409e+00 -9.3559e+01  1e+02  2e+00  4e-02\n",
            " 2: -2.1249e+00 -5.9445e+00  4e+00  5e-02  1e-03\n",
            " 3: -3.2177e+00 -3.7923e+00  6e-01  5e-04  1e-05\n",
            " 4: -3.7492e+00 -3.7838e+00  3e-02  3e-05  6e-07\n",
            " 5: -3.7786e+00 -3.7836e+00  5e-03  2e-06  5e-08\n",
            " 6: -3.7828e+00 -3.7834e+00  6e-04  2e-07  4e-09\n",
            " 7: -3.7833e+00 -3.7834e+00  4e-05  7e-09  2e-10\n",
            " 8: -3.7834e+00 -3.7834e+00  3e-06  4e-10  8e-12\n",
            " 9: -3.7834e+00 -3.7834e+00  1e-07  9e-12  2e-13\n",
            "10: -3.7834e+00 -3.7834e+00  4e-09  1e-13  4e-15\n",
            "Optimal solution found.\n",
            "     pcost       dcost       gap    pres   dres\n",
            " 0: -1.6856e+04 -1.6854e+04  3e+03  6e+01  2e-02\n",
            " 1: -1.6854e+04 -1.7071e+04  2e+02  4e+00  1e-03\n",
            " 2: -1.6854e+04 -1.6871e+04  2e+01  3e-01  8e-05\n",
            " 3: -1.6855e+04 -1.6856e+04  2e+00  3e-03  8e-07\n",
            " 4: -1.6856e+04 -1.6856e+04  4e-01  5e-04  2e-07\n",
            " 5: -1.6856e+04 -1.6856e+04  6e-02  6e-05  2e-08\n",
            " 6: -1.6856e+04 -1.6856e+04  1e-02  8e-06  2e-09\n",
            " 7: -1.6856e+04 -1.6856e+04  3e-03  8e-07  3e-10\n",
            " 8: -1.6856e+04 -1.6856e+04  6e-04  1e-07  3e-11\n",
            " 9: -1.6856e+04 -1.6856e+04  9e-05  1e-08  4e-12\n",
            "10: -1.6856e+04 -1.6856e+04  3e-05  4e-09  1e-12\n",
            "11: -1.6856e+04 -1.6856e+04  4e-06  3e-10  8e-14\n",
            "Optimal solution found.\n",
            "     pcost       dcost       gap    pres   dres\n",
            " 0: -1.6584e+02 -1.6415e+02  2e+03  5e+01  2e-01\n",
            " 1: -1.6425e+02 -2.7850e+02  1e+02  3e+00  9e-03\n",
            " 2: -1.6421e+02 -1.7000e+02  6e+00  9e-02  3e-04\n",
            " 3: -1.6499e+02 -1.6588e+02  9e-01  9e-04  3e-06\n",
            " 4: -1.6573e+02 -1.6585e+02  1e-01  1e-04  4e-07\n",
            " 5: -1.6583e+02 -1.6585e+02  2e-02  1e-05  4e-08\n",
            " 6: -1.6585e+02 -1.6585e+02  3e-03  1e-06  4e-09\n",
            " 7: -1.6585e+02 -1.6585e+02  3e-04  9e-08  3e-10\n",
            " 8: -1.6585e+02 -1.6585e+02  3e-05  4e-09  1e-11\n",
            " 9: -1.6585e+02 -1.6585e+02  2e-06  3e-10  9e-13\n",
            "10: -1.6585e+02 -1.6585e+02  2e-07  2e-11  5e-14\n",
            "11: -1.6585e+02 -1.6585e+02  6e-09  2e-13  4e-15\n",
            "Optimal solution found.\n",
            "     pcost       dcost       gap    pres   dres\n",
            " 0: -8.2927e+03 -8.2912e+03  2e+03  4e+01  2e-02\n",
            " 1: -8.2914e+03 -8.4114e+03  1e+02  3e+00  1e-03\n",
            " 2: -8.2913e+03 -8.2987e+03  7e+00  1e-01  7e-05\n",
            " 3: -8.2918e+03 -8.2928e+03  1e+00  1e-03  7e-07\n",
            " 4: -8.2926e+03 -8.2927e+03  1e-01  1e-04  8e-08\n",
            " 5: -8.2927e+03 -8.2927e+03  2e-02  1e-05  6e-09\n",
            " 6: -8.2927e+03 -8.2927e+03  4e-03  1e-06  7e-10\n",
            " 7: -8.2927e+03 -8.2927e+03  8e-04  2e-07  1e-10\n",
            " 8: -8.2927e+03 -8.2927e+03  1e-04  3e-08  2e-11\n",
            " 9: -8.2927e+03 -8.2927e+03  2e-05  2e-09  1e-12\n",
            "10: -8.2927e+03 -8.2927e+03  1e-06  1e-10  8e-14\n",
            "Optimal solution found.\n",
            "     pcost       dcost       gap    pres   dres\n",
            " 0: -1.3010e+02 -1.2852e+02  2e+03  4e+01  2e-01\n",
            " 1: -1.2860e+02 -2.2740e+02  1e+02  2e+00  9e-03\n",
            " 2: -1.2856e+02 -1.3343e+02  5e+00  8e-02  3e-04\n",
            " 3: -1.2936e+02 -1.3012e+02  8e-01  8e-04  3e-06\n",
            " 4: -1.3004e+02 -1.3010e+02  6e-02  6e-05  2e-07\n",
            " 5: -1.3009e+02 -1.3010e+02  9e-03  5e-06  2e-08\n",
            " 6: -1.3010e+02 -1.3010e+02  1e-03  5e-07  2e-09\n",
            " 7: -1.3010e+02 -1.3010e+02  1e-04  3e-08  1e-10\n",
            " 8: -1.3010e+02 -1.3010e+02  1e-05  2e-09  6e-12\n",
            " 9: -1.3010e+02 -1.3010e+02  9e-07  1e-10  4e-13\n",
            "10: -1.3010e+02 -1.3010e+02  3e-08  1e-12  6e-15\n",
            "Optimal solution found.\n"
          ]
        }
      ]
    },
    {
      "cell_type": "code",
      "source": [
        "# 0: Phasic, SCR\n",
        "# 1: Tonic, SCL\n",
        "# 0 - 8  : Phasmophobia\n",
        "# 8 - 15 : Warthunder\n",
        "# 15 - 24: Minecraft\n",
        "# 24 - 33: Dirt Rally\n",
        "scr_mean = [[], []]\n",
        "tmp=[]\n",
        "i=0\n",
        "j=0\n",
        "for x in cvx_eda_PC:\n",
        "  j=0\n",
        "  for y in x:\n",
        "    tmp.append((np.mean(y[0]) - np.mean(cvx_eda_BS[i][j][0])) / np.std(cvx_eda_BS[i][j][0]))\n",
        "    j+=1\n",
        "  i+=1\n",
        "\n",
        "print(tmp)\n",
        "scr_mean[0] = tmp\n",
        "tmp=[]\n",
        "i=0\n",
        "j=0\n",
        "for x in cvx_eda_VR:\n",
        "  j=0\n",
        "  for y in x:\n",
        "    tmp.append((np.mean(y[0]) - np.mean(cvx_eda_BS[i][j][0])) / np.std(cvx_eda_BS[i][j][0]))\n",
        "    j+=1\n",
        "  i+=1\n",
        "scr_mean[1] = tmp\n",
        "\n",
        "pc = scr_mean[0]\n",
        "vr = scr_mean[1]\n",
        "print(\"SCR\")\n",
        "\n",
        "print(f\"FS: $\\mu$: {np.mean(pc):.2f}, $\\sigma$: {np.std(pc):.2f}\")\n",
        "print(f\"VR: $\\mu$: {np.mean(vr):.2f}, $\\sigma$: {np.std(vr):.2f}\")\n",
        "\n",
        "normalancy_pc = stats.shapiro(pc)\n",
        "normalancy_vr = stats.shapiro(vr)\n",
        "print(f\"FS: {normalancy_pc}\")\n",
        "print(f\"VR: {normalancy_vr}\")\n",
        "\n",
        "result = stats.wilcoxon(pc, vr)\n",
        "print(result)\n",
        "print(f'Cohen-d: {cohen_d(pc, vr):.2f}')\n",
        "print(f'Cliff\\'s: {cliffs_delta(pc, vr):.2f}')"
      ],
      "metadata": {
        "colab": {
          "base_uri": "https://localhost:8080/"
        },
        "id": "GuQBlw0OZViF",
        "outputId": "7d6700cd-d591-4a0a-9d71-0e3b6ba95ec8"
      },
      "execution_count": null,
      "outputs": [
        {
          "output_type": "stream",
          "name": "stdout",
          "text": [
            "[8.908308374320173, 6.656392564204403, 0.012544785355730913, 3.145025204039363, 6.791807161656111, 0.0, -0.004079743122753311, 0.0, 0.047500887728772714, 1.6804046300336268, 0.011173551186930822, -0.5668127296638737, 0.0, -0.0045098615555116284, 0.008973075646150458, 0.06689496942505993, -0.3713069320939142, -0.4837596653797841, 0.1304648456860656, 0.22591009072554347, 27.547798161319644, 0.021993142204224093, 2.552390866050881, -0.5902047339634644, -0.046012846176576125, 0.717085592322033, -0.06989480107247704, -0.012900176511875678, 0.2623425717045436, 25.417615770392977, 0.11881972041940722, 31.42282144524508, -0.03727724183216073]\n",
            "SCR\n",
            "FS: $\\mu$: 3.44, $\\sigma$: 8.15\n",
            "VR: $\\mu$: 8.33, $\\sigma$: 21.57\n",
            "FS: ShapiroResult(statistic=0.5019033551216125, pvalue=1.8914303456796233e-09)\n",
            "VR: ShapiroResult(statistic=0.43542730808258057, pvalue=3.778093393691506e-10)\n",
            "WilcoxonResult(statistic=221.0, pvalue=0.29599490854889154)\n",
            "Cohen-d: -0.30\n",
            "Cliff's: 0.44\n"
          ]
        }
      ]
    },
    {
      "cell_type": "markdown",
      "source": [
        "#SAM"
      ],
      "metadata": {
        "id": "Ts_WG4bXbiuJ"
      }
    },
    {
      "cell_type": "code",
      "source": [
        "file = open('SAM.csv')\n",
        "\n",
        "type(file)\n",
        "csvreader = csv.reader(file)\n",
        "sam = []\n",
        "for row in csvreader:\n",
        "  # print(row)\n",
        "  sam.append(row)\n",
        "Games=['LVLA', 'LVHA', 'HVHA', 'HVLA']\n",
        "\n",
        "sam = pd.DataFrame(data=sam[1:],columns=sam[0]) \n",
        "# print(sam.dtypes)\n",
        "sam[\"Arousal\"] = sam[\"Arousal\"].astype(str).astype(float)-1\n",
        "sam[\"Valence\"] = sam[\"Valence\"].astype(str).astype(float)-1\n",
        "sam[\"Dominance\"] = 6-sam[\"Dominance\"].astype(str).astype(float)\n",
        "sam[\"CMA Quadrant\"] = sam[\"Game\"].astype(str)\n",
        "print(sam)"
      ],
      "metadata": {
        "colab": {
          "base_uri": "https://localhost:8080/"
        },
        "id": "phcBSCFebjxy",
        "outputId": "f34d2e0b-5b8e-4d2a-fc62-818455a31703"
      },
      "execution_count": null,
      "outputs": [
        {
          "output_type": "stream",
          "name": "stdout",
          "text": [
            "   Participant ID  Game  Arousal  Valence  Dominance Type CMA Quadrant\n",
            "0               1  HVHA      3.0      3.0        3.0   FS         HVHA\n",
            "1               2  HVHA      2.0      4.0        1.0   VR         HVHA\n",
            "2               3  HVHA      3.0      2.0        2.0   FS         HVHA\n",
            "3               4  HVHA      4.0      4.0        3.0   VR         HVHA\n",
            "4               5  HVHA      3.0      3.0        3.0   VR         HVHA\n",
            "..            ...   ...      ...      ...        ...  ...          ...\n",
            "61             62  LVLA      1.0      1.0        5.0   VR         LVLA\n",
            "62             63  LVLA      2.0      3.0        3.0   FS         LVLA\n",
            "63             64  LVLA      2.0      3.0        4.0   FS         LVLA\n",
            "64             65  LVLA      1.0      1.0        4.0   VR         LVLA\n",
            "65             66  LVLA      3.0      3.0        3.0   VR         LVLA\n",
            "\n",
            "[66 rows x 7 columns]\n"
          ]
        }
      ]
    },
    {
      "cell_type": "code",
      "source": [
        "print(sam.query(\"Dominance>3 and Type=='VR'\"))"
      ],
      "metadata": {
        "colab": {
          "base_uri": "https://localhost:8080/"
        },
        "id": "3f6m9bpQHrfQ",
        "outputId": "d2c2f5c3-0588-4373-b553-fd7a4264d18f"
      },
      "execution_count": null,
      "outputs": [
        {
          "output_type": "stream",
          "name": "stdout",
          "text": [
            "   Participant ID  Game  Arousal  Valence  Dominance Type CMA Quadrant\n",
            "12             13  HVHA      4.0      4.0        4.0   VR         HVHA\n",
            "51             52  LVLA      0.0      1.0        4.0   VR         LVLA\n",
            "53             54  LVLA      1.0      3.0        4.0   VR         LVLA\n",
            "61             62  LVLA      1.0      1.0        5.0   VR         LVLA\n",
            "64             65  LVLA      1.0      1.0        4.0   VR         LVLA\n"
          ]
        }
      ]
    },
    {
      "cell_type": "code",
      "source": [
        "print(\"D>=2\")\n",
        "print(sam.query(\"Dominance>=2\").corr(method=\"spearman\"))\n",
        "print(stats.spearmanr(sam.query(\"Dominance>=2\")[\"Arousal\"], sam.query(\"Dominance>=2\")[\"Dominance\"]))\n",
        "print(len(sam.query(\"Dominance>=2\")[\"Arousal\"]))\n",
        "print(\"D<2\")\n",
        "print(sam.query(\"Dominance<=3\").corr(method=\"spearman\"))\n",
        "print(stats.spearmanr(sam.query(\"Dominance<=3\")[\"Arousal\"], sam.query(\"Dominance<=3\")[\"Dominance\"]))\n",
        "print(\"FS\")\n",
        "print(sam.query(\"Dominance>3 and Type == 'FS'\").corr(method=\"spearman\"))\n",
        "print(len(sam.query(\"Dominance>3 and Type=='FS'\")[\"Dominance\"]))\n",
        "print(stats.spearmanr(sam.query(\"Dominance>3 and Type=='FS'\")[\"Arousal\"], sam.query(\"Dominance>3  and Type=='FS'\")[\"Dominance\"]))\n",
        "print(\"VR\")\n",
        "print(sam.query(\"Dominance>3 and Type == 'VR'\").corr(method=\"spearman\"))\n",
        "print(len(sam.query(\"Dominance>3 and Type=='VR'\")[\"Arousal\"]))\n",
        "print(stats.spearmanr(sam.query(\"Dominance>3 and Type=='VR'\")[\"Arousal\"], sam.query(\"Dominance>3  and Type=='VR'\")[\"Dominance\"]))\n"
      ],
      "metadata": {
        "colab": {
          "base_uri": "https://localhost:8080/"
        },
        "id": "lpX54uZKbyhh",
        "outputId": "334eee68-80bd-4bbb-facd-ca85cc50a519"
      },
      "execution_count": null,
      "outputs": [
        {
          "output_type": "stream",
          "name": "stdout",
          "text": [
            "D>=2\n",
            "            Arousal   Valence  Dominance\n",
            "Arousal    1.000000  0.198148  -0.211898\n",
            "Valence    0.198148  1.000000  -0.000447\n",
            "Dominance -0.211898 -0.000447   1.000000\n",
            "SignificanceResult(statistic=-0.21189798962036513, pvalue=0.12770583094784366)\n",
            "53\n",
            "D<2\n",
            "            Arousal   Valence  Dominance\n",
            "Arousal    1.000000  0.087332  -0.194777\n",
            "Valence    0.087332  1.000000  -0.244189\n",
            "Dominance -0.194777 -0.244189   1.000000\n",
            "SignificanceResult(statistic=-0.1947769650320083, pvalue=0.16644828075745116)\n",
            "FS\n",
            "            Arousal   Valence  Dominance\n",
            "Arousal    1.000000 -0.525485   0.582772\n",
            "Valence   -0.525485  1.000000  -0.427121\n",
            "Dominance  0.582772 -0.427121   1.000000\n",
            "9\n",
            "SignificanceResult(statistic=0.5827715174143585, pvalue=0.09959092002056928)\n",
            "VR\n",
            "           Arousal   Valence  Dominance\n",
            "Arousal       1.00  0.750000   0.000000\n",
            "Valence       0.75  1.000000  -0.395285\n",
            "Dominance     0.00 -0.395285   1.000000\n",
            "5\n",
            "SignificanceResult(statistic=0.0, pvalue=1.0)\n"
          ]
        },
        {
          "output_type": "stream",
          "name": "stderr",
          "text": [
            "<ipython-input-85-4a499902adc6>:2: FutureWarning: The default value of numeric_only in DataFrame.corr is deprecated. In a future version, it will default to False. Select only valid columns or specify the value of numeric_only to silence this warning.\n",
            "  print(sam.query(\"Dominance>=2\").corr(method=\"spearman\"))\n",
            "<ipython-input-85-4a499902adc6>:6: FutureWarning: The default value of numeric_only in DataFrame.corr is deprecated. In a future version, it will default to False. Select only valid columns or specify the value of numeric_only to silence this warning.\n",
            "  print(sam.query(\"Dominance<=3\").corr(method=\"spearman\"))\n",
            "<ipython-input-85-4a499902adc6>:9: FutureWarning: The default value of numeric_only in DataFrame.corr is deprecated. In a future version, it will default to False. Select only valid columns or specify the value of numeric_only to silence this warning.\n",
            "  print(sam.query(\"Dominance>3 and Type == 'FS'\").corr(method=\"spearman\"))\n",
            "<ipython-input-85-4a499902adc6>:13: FutureWarning: The default value of numeric_only in DataFrame.corr is deprecated. In a future version, it will default to False. Select only valid columns or specify the value of numeric_only to silence this warning.\n",
            "  print(sam.query(\"Dominance>3 and Type == 'VR'\").corr(method=\"spearman\"))\n"
          ]
        }
      ]
    },
    {
      "cell_type": "code",
      "source": [
        "for g in Games:\n",
        "  x = sam.query(f'Game==\"{g}\"')\n",
        "  # print(x)\n",
        "  a=x[\"Arousal\"].tolist()\n",
        "  print(f\"{g} Arousal Mdn: {np.median(a):.1f} ({np.percentile(a, 25):.1f} - {np.percentile(a, 75):.1f})\")\n",
        "  a=x[\"Valence\"].tolist()\n",
        "  print(f\"{g} Valence Mdn: {np.median(a):.1f} ({np.percentile(a, 25):.1f} - {np.percentile(a, 75):.1f})\")"
      ],
      "metadata": {
        "colab": {
          "base_uri": "https://localhost:8080/"
        },
        "id": "a_HeAYurb0Sk",
        "outputId": "4c6edbb7-5395-45eb-bc9f-18135b805048"
      },
      "execution_count": null,
      "outputs": [
        {
          "output_type": "stream",
          "name": "stdout",
          "text": [
            "LVLA Arousal Mdn: 1.0 (1.0 - 1.8)\n",
            "LVLA Valence Mdn: 2.0 (1.2 - 3.0)\n",
            "LVHA Arousal Mdn: 2.5 (2.0 - 4.0)\n",
            "LVHA Valence Mdn: 2.0 (1.0 - 3.0)\n",
            "HVHA Arousal Mdn: 3.0 (3.0 - 4.0)\n",
            "HVHA Valence Mdn: 3.0 (2.0 - 3.8)\n",
            "HVLA Arousal Mdn: 2.0 (1.0 - 2.8)\n",
            "HVLA Valence Mdn: 3.0 (2.0 - 3.0)\n"
          ]
        }
      ]
    },
    {
      "cell_type": "code",
      "source": [
        "PC = sam.query(f'Type==\"FS\"')\n",
        "VR = sam.query(f'Type==\"VR\"')\n",
        "\n",
        "print(\"Arousal\")\n",
        "pc = PC['Arousal'].tolist()\n",
        "vr = VR['Arousal'].tolist()\n",
        "r = stats.wilcoxon(pc, vr)\n",
        "print(f\"FS: Mdn: {np.median(pc):.2f} ({np.percentile(pc, 25):.2f} - {np.percentile(pc, 75):.2f})\")\n",
        "print(f\"FS: $\\mu = $ {np.mean(pc):.1f} $\\sigma = $ {np.std(pc):.1f}\")\n",
        "print(f\"VR: Mdn: {np.median(vr):.2f} ({np.percentile(vr, 25):.2f} - {np.percentile(vr, 75):.2f})\")\n",
        "print(f\"VR: $\\mu = $ {np.mean(vr):.1f} $\\sigma = $ {np.std(vr):.1f}\")\n",
        "print(f\"W: {r[0]:.1f} p-value: {r[1]:.3f}\")\n",
        "print(f\"d = {cohen_d(pc, vr)}\")\n",
        "print(f\"cliff's = {cliffs_delta(pc, vr)}\")\n",
        "\n",
        "print(\"Valence\")\n",
        "pc = PC['Valence']\n",
        "vr = VR['Valence']\n",
        "r = stats.wilcoxon(pc, vr)\n",
        "print(f\"FS: Mdn: {np.median(pc):.2f} ({np.percentile(pc, 25):.2f} - {np.percentile(pc, 75):.2f})\")\n",
        "print(f\"FS: $\\mu = $ {np.mean(pc):.1f} $\\sigma = $ {np.std(pc):.1f}\")\n",
        "print(f\"VR: Mdn: {np.median(vr):.2f} ({np.percentile(vr, 25):.2f} - {np.percentile(vr, 75):.2f})\")\n",
        "print(f\"VR: $\\mu = $ {np.mean(vr):.1f} $\\sigma = $ {np.std(vr):.1f}\")\n",
        "print(f\"W: {r[0]:.1f} p-value: {r[1]:.3f}\")\n",
        "print(f\"d = {cohen_d(pc, vr)}\")\n",
        "print(f\"cliff's = {cliffs_delta(pc, vr)}\")\n",
        "\n",
        "print(\"Dominance\")\n",
        "pc = PC['Dominance']\n",
        "vr = VR['Dominance']\n",
        "r = stats.wilcoxon(pc, vr)\n",
        "print(f\"FS: Mdn: {np.median(pc):.2f} ({np.percentile(pc, 25):.2f} - {np.percentile(pc, 75):.2f})\")\n",
        "print(f\"FS: $\\mu = $ {np.mean(pc):.1f} $\\sigma = $ {np.std(pc):.1f}\")\n",
        "print(f\"VR: Mdn: {np.median(vr):.2f} ({np.percentile(vr, 25):.2f} - {np.percentile(vr, 75):.2f})\")\n",
        "print(f\"VR: $\\mu = $ {np.mean(vr):.1f} $\\sigma = $ {np.std(vr):.1f}\")\n",
        "print(f\"W: {r[0]:.1f} p-value: {r[1]:.3f}\")\n",
        "print(f\"d = {cohen_d(pc, vr)}\")\n",
        "print(f\"cliff's = {cliffs_delta(pc, vr)}\")\n"
      ],
      "metadata": {
        "colab": {
          "base_uri": "https://localhost:8080/"
        },
        "id": "XgxqFYQUcMSu",
        "outputId": "4aa67c9d-0520-4b42-e8e3-d63c86669260"
      },
      "execution_count": null,
      "outputs": [
        {
          "output_type": "stream",
          "name": "stdout",
          "text": [
            "Arousal\n",
            "FS: Mdn: 2.00 (1.00 - 3.00)\n",
            "FS: $\\mu = $ 2.0 $\\sigma = $ 1.0\n",
            "VR: Mdn: 3.00 (2.00 - 4.00)\n",
            "VR: $\\mu = $ 2.6 $\\sigma = $ 1.3\n",
            "W: 66.5 p-value: 0.007\n",
            "d = -0.5261057786980897\n",
            "cliff's = 0.2516069788797062\n",
            "Valence\n",
            "FS: Mdn: 2.00 (2.00 - 3.00)\n",
            "FS: $\\mu = $ 2.3 $\\sigma = $ 0.9\n",
            "VR: Mdn: 3.00 (2.00 - 4.00)\n",
            "VR: $\\mu = $ 2.6 $\\sigma = $ 1.2\n",
            "W: 75.5 p-value: 0.262\n",
            "d = -0.308732022447085\n",
            "cliff's = 0.2773186409550046\n",
            "Dominance\n",
            "FS: Mdn: 2.00 (1.00 - 3.00)\n",
            "FS: $\\mu = $ 1.8 $\\sigma = $ 1.0\n",
            "VR: Mdn: 1.00 (0.00 - 2.00)\n",
            "VR: $\\mu = $ 1.3 $\\sigma = $ 1.1\n",
            "W: 88.0 p-value: 0.020\n",
            "d = 0.5398835767892611\n",
            "cliff's = 0.5381083562901745\n"
          ]
        },
        {
          "output_type": "stream",
          "name": "stderr",
          "text": [
            "/usr/local/lib/python3.10/dist-packages/scipy/stats/_morestats.py:3414: UserWarning: Exact p-value calculation does not work if there are zeros. Switching to normal approximation.\n",
            "  warnings.warn(\"Exact p-value calculation does not work if there are \"\n"
          ]
        }
      ]
    },
    {
      "cell_type": "code",
      "source": [
        "x = sam.query(f'Type==\"VR\"')\n",
        "y = sam.query(f'Type==\"FS\"')\n",
        "rx=np.sqrt(np.square(x['Arousal'].tolist()) + np.square(x['Valence'].tolist()))\n",
        "ry=np.sqrt(np.square(y['Arousal'].tolist()) + np.square(y['Valence'].tolist()))\n",
        "print(f'VR: $\\mu$ {np.mean(rx):.2f}, $\\sigma$ {np.std(rx):.2f}')\n",
        "print(f'FS: $\\mu$ {np.mean(ry):.2f}, $\\sigma$ {np.std(ry):.2f}')\n",
        "print(stats.shapiro(rx))\n",
        "print(stats.shapiro(ry))\n",
        "r = stats.wilcoxon(rx, ry)\n",
        "print(r)\n",
        "print(f\"d = {cohen_d(rx, ry): .2f}\")\n",
        "print(f\"cliff's = {cliffs_delta(rx, ry):.2f}\")"
      ],
      "metadata": {
        "colab": {
          "base_uri": "https://localhost:8080/"
        },
        "id": "hF9KYK18c2vo",
        "outputId": "2de0c1fc-e2a8-4dbf-ac5c-d86e31d97f67"
      },
      "execution_count": null,
      "outputs": [
        {
          "output_type": "stream",
          "name": "stdout",
          "text": [
            "VR: $\\mu$ 3.92, $\\sigma$ 1.32\n",
            "FS: $\\mu$ 3.22, $\\sigma$ 0.91\n",
            "ShapiroResult(statistic=0.9017431735992432, pvalue=0.005913454573601484)\n",
            "ShapiroResult(statistic=0.9512921571731567, pvalue=0.14509834349155426)\n",
            "WilcoxonResult(statistic=89.5, pvalue=0.003263746056570931)\n",
            "d =  0.61\n",
            "cliff's = 0.54\n"
          ]
        },
        {
          "output_type": "stream",
          "name": "stderr",
          "text": [
            "/usr/local/lib/python3.10/dist-packages/scipy/stats/_morestats.py:3414: UserWarning: Exact p-value calculation does not work if there are zeros. Switching to normal approximation.\n",
            "  warnings.warn(\"Exact p-value calculation does not work if there are \"\n"
          ]
        }
      ]
    },
    {
      "cell_type": "code",
      "source": [
        "print(\"Arousal\")\n",
        "pc = PC['Arousal'].tolist()\n",
        "vr = VR['Arousal'].tolist()\n",
        "r = stats.wilcoxon(pc, vr)\n",
        "print(f\"FS: Mdn: {np.median(pc):.2f} ({np.percentile(pc, 25):.2f} - {np.percentile(pc, 75):.2f})\")\n",
        "print(f\"FS: $\\mu = $ {np.mean(pc):.1f} $\\sigma = $ {np.std(pc):.1f}\")\n",
        "print(f\"VR: Mdn: {np.median(vr):.2f} ({np.percentile(vr, 25):.2f} - {np.percentile(vr, 75):.2f})\")\n",
        "print(f\"VR: $\\mu = $ {np.mean(vr):.1f} $\\sigma = $ {np.std(vr):.1f}\")\n",
        "print(f\"W: {r[0]:.1f} p-value: {r[1]:.3f}\")\n",
        "print(f\"d = {cohen_d(pc, vr)}\")\n",
        "print(f\"cliff's = {cliffs_delta(pc, vr)}\\n\")\n",
        "\n",
        "print(\"Valence\")\n",
        "pc = PC['Valence']\n",
        "vr = VR['Valence']\n",
        "r = stats.wilcoxon(pc, vr)\n",
        "print(f\"FS: Mdn: {np.median(pc):.2f} ({np.percentile(pc, 25):.2f} - {np.percentile(pc, 75):.2f})\")\n",
        "print(f\"FS: $\\mu = $ {np.mean(pc):.1f} $\\sigma = $ {np.std(pc):.1f}\")\n",
        "print(f\"VR: Mdn: {np.median(vr):.2f} ({np.percentile(vr, 25):.2f} - {np.percentile(vr, 75):.2f})\")\n",
        "print(f\"VR: $\\mu = $ {np.mean(vr):.1f} $\\sigma = $ {np.std(vr):.1f}\")\n",
        "print(f\"W: {r[0]:.1f} p-value: {r[1]:.3f}\")\n",
        "print(f\"d = {cohen_d(pc, vr)}\")\n",
        "print(f\"cliff's = {cliffs_delta(pc, vr)}\\n\")\n",
        "\n",
        "print(\"Dominance\")\n",
        "pc = PC['Dominance']\n",
        "vr = VR['Dominance']\n",
        "r = stats.wilcoxon(pc, vr)\n",
        "print(f\"FS: Mdn: {np.median(pc):.2f} ({np.percentile(pc, 25):.2f} - {np.percentile(pc, 75):.2f})\")\n",
        "print(f\"FS: $\\mu = $ {np.mean(pc):.1f} $\\sigma = $ {np.std(pc):.1f}\")\n",
        "print(f\"VR: Mdn: {np.median(vr):.2f} ({np.percentile(vr, 25):.2f} - {np.percentile(vr, 75):.2f})\")\n",
        "print(f\"VR: $\\mu = $ {np.mean(vr):.1f} $\\sigma = $ {np.std(vr):.1f}\")\n",
        "print(f\"W: {r[0]:.1f} p-value: {r[1]:.3f}\")\n",
        "print(f\"d = {cohen_d(pc, vr)}\")\n",
        "print(f\"cliff's = {cliffs_delta(pc, vr)}\")"
      ],
      "metadata": {
        "colab": {
          "base_uri": "https://localhost:8080/"
        },
        "id": "NiWk7W0_cdD_",
        "outputId": "1e4a1c8b-b73a-4899-8b19-a699da3009d1"
      },
      "execution_count": null,
      "outputs": [
        {
          "output_type": "stream",
          "name": "stdout",
          "text": [
            "Arousal\n",
            "FS: Mdn: 2.00 (1.00 - 3.00)\n",
            "FS: $\\mu = $ 2.0 $\\sigma = $ 1.0\n",
            "VR: Mdn: 3.00 (2.00 - 4.00)\n",
            "VR: $\\mu = $ 2.6 $\\sigma = $ 1.3\n",
            "W: 66.5 p-value: 0.007\n",
            "d = -0.5261057786980897\n",
            "cliff's = 0.2516069788797062\n",
            "\n",
            "Valence\n",
            "FS: Mdn: 2.00 (2.00 - 3.00)\n",
            "FS: $\\mu = $ 2.3 $\\sigma = $ 0.9\n",
            "VR: Mdn: 3.00 (2.00 - 4.00)\n",
            "VR: $\\mu = $ 2.6 $\\sigma = $ 1.2\n",
            "W: 75.5 p-value: 0.262\n",
            "d = -0.308732022447085\n",
            "cliff's = 0.2773186409550046\n",
            "\n",
            "Dominance\n",
            "FS: Mdn: 2.00 (1.00 - 3.00)\n",
            "FS: $\\mu = $ 1.8 $\\sigma = $ 1.0\n",
            "VR: Mdn: 1.00 (0.00 - 2.00)\n",
            "VR: $\\mu = $ 1.3 $\\sigma = $ 1.1\n",
            "W: 88.0 p-value: 0.020\n",
            "d = 0.5398835767892611\n",
            "cliff's = 0.5381083562901745\n"
          ]
        },
        {
          "output_type": "stream",
          "name": "stderr",
          "text": [
            "/usr/local/lib/python3.10/dist-packages/scipy/stats/_morestats.py:3414: UserWarning: Exact p-value calculation does not work if there are zeros. Switching to normal approximation.\n",
            "  warnings.warn(\"Exact p-value calculation does not work if there are \"\n"
          ]
        }
      ]
    },
    {
      "cell_type": "code",
      "source": [
        "import scikit_posthocs as sp\n",
        "# PC-VR-Mix\n",
        "Games=['LVLA', 'LVHA', 'HVHA', 'HVLA']\n",
        "arousal=[[], [], []]\n",
        "valence=[[], [], []]\n",
        "\n",
        "bygame=[[], [], [], []]\n",
        "bygame[0] = sam[sam['Game'] == 'LVLA']\n",
        "bygame[1] = sam[sam['Game'] == 'LVHA']\n",
        "bygame[2] = sam[sam['Game'] == 'HVHA']\n",
        "bygame[3] = sam[sam['Game'] == 'HVLA']\n",
        "\n",
        "for (i, df) in enumerate(bygame):\n",
        "  # print(Games[i])\n",
        "\n",
        "  # Mix\n",
        "  # print(\"\")\n",
        "  ar = df['Arousal'].tolist()\n",
        "  vl = df['Valence'].tolist()\n",
        "  # print(f\"{np.mean(ar)} {np.std(ar)}\")\n",
        "  # print(f\"{np.mean(vl)} {np.std(vl)}\")\n",
        "  arousal[2].append(ar)\n",
        "  valence[2].append(vl)\n",
        "\n",
        "  ar = df.query('Type==\"FS\"')['Arousal'].tolist()\n",
        "  vl = df.query('Type==\"FS\"')['Valence'].tolist()\n",
        "  arousal[0].append(ar)\n",
        "  valence[0].append(vl)\n",
        "\n",
        "  ar = df.query('Type==\"VR\"')['Arousal'].tolist()\n",
        "  vl = df.query('Type==\"VR\"')['Valence'].tolist()\n",
        "  arousal[1].append(ar)\n",
        "  valence[1].append(vl)\n",
        "\n",
        "for i in range(2,3):\n",
        "  print([\"PC\", \"VR\", \"All\"][i])\n",
        "  print(\"Arousal\")\n",
        "  result = stats.kruskal(arousal[i][0], arousal[i][1], arousal[i][2], arousal[i][3])\n",
        "  print(result)\n",
        "  \n",
        "\n",
        "  print(\"Valence\")\n",
        "  result = stats.kruskal(valence[i][0], valence[i][1], valence[i][2], valence[i][3])\n",
        "  print(result)\n",
        "  print()\n",
        "  # for j in range(4):\n",
        "  #   print(Games[j])\n",
        "  #   print(f\"Arousal: M {np.mean(arousal[i][j]):0.2f}, SD {np.std(arousal[i][j]):0.2f}\")\n",
        "  #   print(f\"Valence: M {np.mean(valence[i][j]):0.2f}, SD {np.std(valence[i][j]):0.2f}\")\n",
        "  \n",
        "  print(\"Post hoc: \")\n",
        "  adf = sam[['Arousal', 'CMA Quadrant']].copy()\n",
        "  print(\"\\nArousal\")\n",
        "  ph = sp.posthoc_dunn(sam, group_col='CMA Quadrant', val_col='Arousal')\n",
        "  print(ph)\n",
        "  print(\"\\nValence\")\n",
        "  ph = sp.posthoc_dunn(sam, group_col='CMA Quadrant', val_col='Arousal')\n",
        "  print(ph)"
      ],
      "metadata": {
        "colab": {
          "base_uri": "https://localhost:8080/"
        },
        "id": "2L89mntecn4t",
        "outputId": "d31ce2f0-aacd-490a-e09c-7fa98964b070"
      },
      "execution_count": null,
      "outputs": [
        {
          "output_type": "stream",
          "name": "stdout",
          "text": [
            "All\n",
            "Arousal\n",
            "KruskalResult(statistic=30.671288942014424, pvalue=9.96883973452592e-07)\n",
            "Valence\n",
            "KruskalResult(statistic=4.75557827232003, pvalue=0.19059511595420348)\n",
            "\n",
            "Post hoc: \n",
            "\n",
            "Arousal\n",
            "              HVHA      HVLA      LVHA          LVLA\n",
            "HVHA  1.000000e+00  0.002271  0.156609  1.364451e-07\n",
            "HVLA  2.271275e-03  1.000000  0.100571  6.047019e-02\n",
            "LVHA  1.566091e-01  0.100571  1.000000  2.189760e-04\n",
            "LVLA  1.364451e-07  0.060470  0.000219  1.000000e+00\n",
            "\n",
            "Valence\n",
            "              HVHA      HVLA      LVHA          LVLA\n",
            "HVHA  1.000000e+00  0.002271  0.156609  1.364451e-07\n",
            "HVLA  2.271275e-03  1.000000  0.100571  6.047019e-02\n",
            "LVHA  1.566091e-01  0.100571  1.000000  2.189760e-04\n",
            "LVLA  1.364451e-07  0.060470  0.000219  1.000000e+00\n"
          ]
        }
      ]
    },
    {
      "cell_type": "markdown",
      "source": [
        "#VAS"
      ],
      "metadata": {
        "id": "djX258s3dGNf"
      }
    },
    {
      "cell_type": "code",
      "source": [
        "file = open('VAS.csv')\n",
        "\n",
        "type(file)\n",
        "csvreader = csv.reader(file)\n",
        "vas = []\n",
        "for row in csvreader:\n",
        "  # print(row)\n",
        "  vas.append(row)\n",
        "\n",
        "vas = pd.DataFrame(data=vas[1:],columns=vas[0]) \n",
        "vas[\"CMA Quadrant\"] = vas[\"Game\"].astype(str)"
      ],
      "metadata": {
        "id": "PtukJgLldHaD"
      },
      "execution_count": null,
      "outputs": []
    },
    {
      "cell_type": "code",
      "source": [
        "columns = ['Joy', 'Anger', 'Calmness', 'Sadness', 'Disgust', 'Relaxation', 'Happiness', 'Fear', 'Anxiousness', 'Dizziness']\n",
        "\n",
        "for c in columns:\n",
        "  vas[c] = vas[c].astype(str).astype(float)\n",
        "print(vas.dtypes)\n",
        "print(vas.head())"
      ],
      "metadata": {
        "colab": {
          "base_uri": "https://localhost:8080/"
        },
        "id": "GS1i3RG9dJcd",
        "outputId": "789ab22e-cc5c-446f-950e-3f4f2f23aa4c"
      },
      "execution_count": null,
      "outputs": [
        {
          "output_type": "stream",
          "name": "stdout",
          "text": [
            "Id               object\n",
            "Game             object\n",
            "Dropdown         object\n",
            "Joy             float64\n",
            "Anger           float64\n",
            "Calmness        float64\n",
            "Sadness         float64\n",
            "Disgust         float64\n",
            "Relaxation      float64\n",
            "Happiness       float64\n",
            "Fear            float64\n",
            "Anxiousness     float64\n",
            "Dizziness       float64\n",
            "CMA Quadrant     object\n",
            "dtype: object\n",
            "  Id  Game Dropdown   Joy  Anger  Calmness  Sadness  Disgust  Relaxation  \\\n",
            "0  1  HVHA       VR  81.0   14.0      35.0     16.0     59.0        53.0   \n",
            "1  2  HVHA       FS  75.0    0.0      54.0     39.0     33.0        52.0   \n",
            "2  3  HVHA       FS  69.0    0.0      28.0      0.0      0.0         7.0   \n",
            "3  4  HVHA       VR  71.0    0.0       4.0      0.0     15.0         0.0   \n",
            "4  5  HVHA       FS  28.0    0.0      54.0      0.0     46.0        32.0   \n",
            "\n",
            "   Happiness  Fear  Anxiousness  Dizziness CMA Quadrant  \n",
            "0       85.0  16.0         16.0        0.0         HVHA  \n",
            "1       86.0   6.0         16.0        0.0         HVHA  \n",
            "2       52.0   0.0          9.0        0.0         HVHA  \n",
            "3       62.0  25.0         54.0       71.0         HVHA  \n",
            "4       23.0  19.0         35.0        0.0         HVHA  \n"
          ]
        }
      ]
    },
    {
      "cell_type": "code",
      "source": [
        "arr=[]\n",
        "columns = ['Joy', 'Anger', 'Calmness', 'Sadness', 'Disgust', 'Relaxation', 'Happiness', 'Fear', 'Anxiousness', 'Dizziness']\n",
        "games = [\"HVHA\", \"HVLA\", \"LVHA\", \"LVLA\"]\n",
        "PC = vas.query('Dropdown==\"FS\"')\n",
        "VR = vas.query('Dropdown==\"VR\"')\n",
        "\n",
        "for g in games:\n",
        "  # print(g)\n",
        "  pcg = PC[PC['Game'] == g]\n",
        "  vrg = VR[VR['Game'] == g]\n",
        "  for c in columns:\n",
        "    # print(c)\n",
        "    df = pd.DataFrame(pcg[c].tolist(), columns = [\"Val\"])\n",
        "    df[\"Game\"] = g\n",
        "    df[\"Emotion\"] = c\n",
        "    df[\"Type\"] = \"FS\"\n",
        "    arr.append(df)\n",
        "    df = pd.DataFrame(vrg[c].tolist(), columns = [\"Val\"])\n",
        "    df[\"Game\"] = g\n",
        "    df[\"Emotion\"] = c\n",
        "    df[\"Type\"] = \"VR\"\n",
        "    arr.append(df)\n",
        "    # print(c)\n",
        "\n",
        "df =  pd.concat(arr, ignore_index=True)\n",
        "print(df)"
      ],
      "metadata": {
        "colab": {
          "base_uri": "https://localhost:8080/"
        },
        "id": "VziOdJWqdkJr",
        "outputId": "a99d42f4-720c-4ebf-ffda-96ea00e7eea5"
      },
      "execution_count": null,
      "outputs": [
        {
          "output_type": "stream",
          "name": "stdout",
          "text": [
            "      Val  Game    Emotion Type\n",
            "0    75.0  HVHA        Joy   FS\n",
            "1    69.0  HVHA        Joy   FS\n",
            "2    28.0  HVHA        Joy   FS\n",
            "3    47.0  HVHA        Joy   FS\n",
            "4    50.0  HVHA        Joy   FS\n",
            "..    ...   ...        ...  ...\n",
            "655  38.0  LVLA  Dizziness   VR\n",
            "656  49.0  LVLA  Dizziness   VR\n",
            "657  65.0  LVLA  Dizziness   VR\n",
            "658  17.0  LVLA  Dizziness   VR\n",
            "659  30.0  LVLA  Dizziness   VR\n",
            "\n",
            "[660 rows x 4 columns]\n"
          ]
        }
      ]
    },
    {
      "cell_type": "code",
      "source": [
        "for e in columns:\n",
        "  # print(e)\n",
        "  d = df.query(f'Emotion==\"{e}\"')\n",
        "  x = d.query('Type==\"VR\"')[\"Val\"].tolist()\n",
        "  y = d.query('Type==\"FS\"')[\"Val\"].tolist()\n",
        "  result=stats.wilcoxon(x, y)\n",
        "  print(f\"{e}: W: {result[0]:.2f}, p-value: {result[1]:.4f}\")\n",
        "  print(f\"d = {cohen_d(x, y): .2f}\")\n",
        "  print(f\"Cliffs = {cliffs_delta(x, y): .2f}\\n\")"
      ],
      "metadata": {
        "colab": {
          "base_uri": "https://localhost:8080/"
        },
        "id": "uS8sQPD6dKyD",
        "outputId": "fbbc531b-d398-4bc1-d4dc-3fed5887c04e"
      },
      "execution_count": null,
      "outputs": [
        {
          "output_type": "stream",
          "name": "stdout",
          "text": [
            "Joy: W: 101.50, p-value: 0.0041\n",
            "d =  0.56\n",
            "Cliffs =  0.51\n",
            "Anger: W: 171.50, p-value: 0.3198\n",
            "d =  0.20\n",
            "Cliffs =  0.46\n",
            "Calmness: W: 107.50, p-value: 0.1389\n",
            "d = -0.19\n",
            "Cliffs =  0.43\n",
            "Sadness: W: 48.00, p-value: 0.3007\n",
            "d = -0.12\n",
            "Cliffs =  0.26\n",
            "Disgust: W: 50.50, p-value: 0.2176\n",
            "d =  0.11\n",
            "Cliffs =  0.37\n",
            "Relaxation: W: 93.00, p-value: 0.1708\n",
            "d = -0.18\n",
            "Cliffs =  0.35\n",
            "Happiness: W: 174.00, p-value: 0.1469\n",
            "d =  0.21\n",
            "Cliffs =  0.43\n",
            "Fear: W: 184.00, p-value: 0.2096\n",
            "d =  0.27\n",
            "Cliffs =  0.47\n",
            "Anxiousness: W: 260.50, p-value: 0.9478\n",
            "d =  0.08\n",
            "Cliffs =  0.49\n",
            "Dizziness: W: 8.50, p-value: 0.0000\n",
            "d =  1.25\n",
            "Cliffs =  0.53\n"
          ]
        }
      ]
    }
  ]
}
