{
  "nbformat": 4,
  "nbformat_minor": 0,
  "metadata": {
    "colab": {
      "provenance": []
    },
    "kernelspec": {
      "name": "python3",
      "display_name": "Python 3"
    },
    "language_info": {
      "name": "python"
    }
  },
  "cells": [
    {
      "cell_type": "code",
      "execution_count": 3,
      "metadata": {
        "id": "lZ8nxHIkjDmb"
      },
      "outputs": [],
      "source": [
        "pip install pingouin"
      ]
    },
    {
      "cell_type": "code",
      "source": [
        "pip install scikit-posthocs"
      ],
      "metadata": {
        "id": "jk6W-VVoRzES"
      },
      "execution_count": 4,
      "outputs": []
    },
    {
      "cell_type": "code",
      "source": [
        "pip install flirt"
      ],
      "metadata": {
        "id": "xxnhFOJIR66T"
      },
      "execution_count": 5,
      "outputs": []
    },
    {
      "cell_type": "code",
      "source": [
        "import seaborn as sns\n",
        "import flirt.reader.empatica\n",
        "import flirt.with_\n",
        "import matplotlib.pyplot as plt\n",
        "import matplotlib as mpl\n",
        "# import latex\n",
        "import os\n",
        "import csv\n",
        "from glob import glob\n",
        "import copy\n",
        "import random\n",
        "import pickle\n",
        "import numpy as np\n",
        "from scipy import stats\n",
        "import scipy.io.wavfile\n",
        "import scipy.signal\n",
        "import pingouin as pg\n",
        "import pandas as pd\n",
        "\n",
        "def cohen_d(x,y):\n",
        "    nx = len(x)\n",
        "    ny = len(y)\n",
        "    dof = nx + ny - 2\n",
        "    return (np.mean(x) - np.mean(y)) / np.sqrt(((nx-1)*np.std(x, ddof=1) ** 2 + (ny-1)*np.std(y, ddof=1) ** 2) / dof)\n"
      ],
      "metadata": {
        "id": "NpF1fa-lRrcI"
      },
      "execution_count": 2,
      "outputs": []
    },
    {
      "cell_type": "code",
      "source": [
        "!unzip \"/content/Physiological Signal.zip\" -d \"/content/\"\n",
        "!unzip \"/content/Physiological Signal/Dirt Rally.zip\" -d \"/content/\"\n",
        "!unzip \"/content/Physiological Signal/Warthunder.zip\" -d \"/content/\"\n",
        "!unzip \"/content/Physiological Signal/Minecraft.zip\" -d \"/content/\"\n",
        "!unzip \"/content/Physiological Signal/Phasmophobia.zip\" -d \"/content/\""
      ],
      "metadata": {
        "id": "8eAdtksSTRex"
      },
      "execution_count": null,
      "outputs": []
    },
    {
      "cell_type": "markdown",
      "source": [
        "#Heart Rate"
      ],
      "metadata": {
        "id": "tqPCPPlVTR_J"
      }
    },
    {
      "cell_type": "code",
      "source": [
        "paths = [\"/content/Phasmophobia\", \"/content/Warthunder\", \"/content/Minecraft\", \"/content/Dirt Rally\"]\n",
        "hr = [[[], [], [], []], [[], [], [], []]]\n",
        "hr_bs = [[], [], [], []]\n",
        "hr_bs_std=[[], [], [], []]\n",
        "i=-1\n",
        "for path in paths:\n",
        "  i+=1\n",
        "  for participant in glob(path + \"/*/PC\", recursive = True):\n",
        "    p = glob(participant+\"/HR.csv\")[0]\n",
        "    hr[0][i].append(np.mean(flirt.reader.empatica.read_hr_file_into_df(p)[\"hr\"][100:-10]).tolist())\n",
        "  for participant in glob(path + \"/*/VR\", recursive = True):\n",
        "    p = glob(participant+\"/HR.csv\")[0]\n",
        "    hr[1][i].append(np.mean(flirt.reader.empatica.read_hr_file_into_df(p)[\"hr\"][100:-10]).tolist())\n",
        "  for participant in glob(path + \"/*/Baseline\", recursive = True):\n",
        "    p = glob(participant+\"/HR.csv\")[0]\n",
        "    # print(p)\n",
        "    hr_bs[i].append(np.mean(flirt.reader.empatica.read_hr_file_into_df(p)[\"hr\"][100:-10]).tolist())\n",
        "    hr_bs_std[i].append(np.std(flirt.reader.empatica.read_hr_file_into_df(p)[\"hr\"][100:-10]).tolist())"
      ],
      "metadata": {
        "id": "znN1nmuPTUZY"
      },
      "execution_count": 8,
      "outputs": []
    },
    {
      "cell_type": "code",
      "source": [
        "hr_norm = [[[], [], [], []], [[], [], [], []]]\n",
        "for i in range(4):\n",
        "  # print(i)\n",
        "  hr_norm[0][i] = (np.array(hr[0][i]) - np.array(hr_bs[i]))\n",
        "  hr_norm[1][i] = (np.array(hr[1][i]) - np.array(hr_bs[i]))\n",
        "# print(hr_norm[0])"
      ],
      "metadata": {
        "id": "ZiFFAky2UOKy"
      },
      "execution_count": 9,
      "outputs": []
    },
    {
      "cell_type": "markdown",
      "source": [
        "##Mean Values"
      ],
      "metadata": {
        "id": "il6cV2WPUkno"
      }
    },
    {
      "cell_type": "code",
      "source": [
        "Games = ['LVHA', 'HVLA', 'LVLA', 'HVHA']\n",
        "Type = ['FS', 'VR']\n",
        "\n",
        "arr=[]\n",
        "i=0\n",
        "for x in hr:\n",
        "  tmp=[]\n",
        "  j=0\n",
        "  # print(len(x))\n",
        "  for y in x:\n",
        "    df = pd.DataFrame(y, columns = [\"Heart Rate\"])\n",
        "    df[\"CMA Quadrant\"] = Games[j]\n",
        "    df[\"Type\"] = Type[i]\n",
        "    tmp.append(df)\n",
        "    j+=1\n",
        "  arr.append(pd.concat(tmp))\n",
        "  i+=1\n",
        "\n",
        "df = pd.concat(arr, ignore_index = True)\n",
        "print(df)\n",
        "df.to_csv(\"HR_Boxplot.csv\")"
      ],
      "metadata": {
        "colab": {
          "base_uri": "https://localhost:8080/"
        },
        "id": "r2-Ke5isUTej",
        "outputId": "c7a31fe7-9f6f-4ec5-e01e-1babd1c0dff7"
      },
      "execution_count": 11,
      "outputs": [
        {
          "output_type": "stream",
          "name": "stdout",
          "text": [
            "    Heart Rate CMA Quadrant Type\n",
            "0    80.658842         LVHA   FS\n",
            "1    69.129903         LVHA   FS\n",
            "2    72.071665         LVHA   FS\n",
            "3    79.074062         LVHA   FS\n",
            "4    85.312029         LVHA   FS\n",
            "..         ...          ...  ...\n",
            "61   61.180222         HVHA   VR\n",
            "62   73.974738         HVHA   VR\n",
            "63   79.981895         HVHA   VR\n",
            "64   86.000446         HVHA   VR\n",
            "65   62.195039         HVHA   VR\n",
            "\n",
            "[66 rows x 3 columns]\n"
          ]
        }
      ]
    },
    {
      "cell_type": "code",
      "source": [
        "pc = df.query('Type==\"FS\"')[\"Heart Rate\"].tolist()\n",
        "vr = df.query('Type==\"VR\"')[\"Heart Rate\"].tolist()\n",
        "\n",
        "print(\"HR\")\n",
        "print(f\"FS: mu: {np.mean(pc):.2f}, sigma: {np.std(pc):.2f}\")\n",
        "print(f\"VR: mu: {np.mean(vr):.2f}, sigma: {np.std(vr):.2f}\")"
      ],
      "metadata": {
        "colab": {
          "base_uri": "https://localhost:8080/"
        },
        "id": "Ar1omOxQUZB5",
        "outputId": "ed0286fc-5e49-4a47-d3ed-aca62e3e45b8"
      },
      "execution_count": 13,
      "outputs": [
        {
          "output_type": "stream",
          "name": "stdout",
          "text": [
            "HR\n",
            "FS: mu: 77.27, sigma: 9.92\n",
            "VR: mu: 81.52, sigma: 10.71\n"
          ]
        }
      ]
    },
    {
      "cell_type": "markdown",
      "source": [
        "##Comparing HR"
      ],
      "metadata": {
        "id": "qiLoAaHzUzH6"
      }
    },
    {
      "cell_type": "code",
      "source": [
        "Games = ['LVHA', 'HVLA', 'LVLA', 'HVHA']\n",
        "Type = ['FS', 'VR']\n",
        "\n",
        "arr=[]\n",
        "i=0\n",
        "for x in hr_norm:\n",
        "  tmp=[]\n",
        "  j=0\n",
        "  # print(len(x))\n",
        "  for y in x:\n",
        "    df = pd.DataFrame(y, columns = [\"Normalised HR\"])\n",
        "    df[\"Type\"] = Type[i]\n",
        "    tmp.append(df)\n",
        "    j+=1\n",
        "  # print(j)\n",
        "  arr.append(pd.concat(tmp))\n",
        "  i+=1\n",
        "# print(i)\n",
        "\n",
        "df = pd.concat(arr, ignore_index = True)\n",
        "print(df)\n",
        "df.to_csv(\"HR.csv\")"
      ],
      "metadata": {
        "colab": {
          "base_uri": "https://localhost:8080/"
        },
        "id": "yJ3ifMTsU0ma",
        "outputId": "147ff4bd-74a5-4624-b3c7-b7441e86a874"
      },
      "execution_count": 17,
      "outputs": [
        {
          "output_type": "stream",
          "name": "stdout",
          "text": [
            "    Normalised HR Type\n",
            "0      -17.661158   FS\n",
            "1       -0.445576   FS\n",
            "2        0.000000   FS\n",
            "3       -2.864298   FS\n",
            "4       -4.275331   FS\n",
            "..            ...  ...\n",
            "61      -2.390406   VR\n",
            "62      -3.723309   VR\n",
            "63       2.283848   VR\n",
            "64     -14.363683   VR\n",
            "65       7.298882   VR\n",
            "\n",
            "[66 rows x 2 columns]\n"
          ]
        }
      ]
    },
    {
      "cell_type": "code",
      "source": [
        "pc = df.query('Type==\"FS\"')[\"Normalised HR\"].tolist()\n",
        "vr = df.query('Type==\"VR\"')[\"Normalised HR\"].tolist()\n",
        "\n",
        "normalancy_pc = stats.shapiro(pc)\n",
        "normalancy_vr = stats.shapiro(vr)\n",
        "print(f\"FS: {normalancy_pc}\")\n",
        "print(f\"VR: {normalancy_vr}\")\n",
        "\n",
        "result = stats.ttest_rel(pc, vr)\n",
        "print(result)\n",
        "\n",
        "print(cohen_d(pc, vr))"
      ],
      "metadata": {
        "colab": {
          "base_uri": "https://localhost:8080/"
        },
        "id": "FcAqz_OBU53K",
        "outputId": "75d8c6ed-0805-4788-82cd-d719873c3830"
      },
      "execution_count": 18,
      "outputs": [
        {
          "output_type": "stream",
          "name": "stdout",
          "text": [
            "FS: ShapiroResult(statistic=0.9776724576950073, pvalue=0.7138577699661255)\n",
            "VR: ShapiroResult(statistic=0.9812292456626892, pvalue=0.8226732611656189)\n",
            "Ttest_relResult(statistic=-2.536701331638034, pvalue=0.016266536026586027)\n",
            "-0.4099303864586736\n"
          ]
        }
      ]
    },
    {
      "cell_type": "markdown",
      "source": [
        "#LF/HF Value"
      ],
      "metadata": {
        "id": "e3RCtswbWA-J"
      }
    },
    {
      "cell_type": "code",
      "source": [
        "paths = [\"/content/Phasmophobia\", \"/content/Warthunder\", \"/content/Minecraft\", \"/content/Dirt Rally\"]\n",
        "lf=[[[], [], [], []],  [[], [], [], []],  [[], [], [], []]]\n",
        "hf=[[[], [], [], []],  [[], [], [], []],  [[], [], [], []]]\n",
        "i=0\n",
        "for path in paths:\n",
        "  for participant in glob(path + \"/*/PC\", recursive = True):\n",
        "    p = glob(participant+\"/IBI.csv\")[0]\n",
        "    print(p)\n",
        "    try:\n",
        "      ibis = flirt.reader.empatica.read_ibi_file_into_df(p)\n",
        "      hrv_features = flirt.get_hrv_features(ibis['ibi'])\n",
        "      if(len(hrv_features.columns)>5):\n",
        "        lf[0][i].append(hrv_features['hrv_lf'])\n",
        "        hf[0][i].append(hrv_features['hrv_hf'])\n",
        "    except:\n",
        "      print(\"error\")\n",
        "  for participant in glob(path + \"/*/VR\", recursive = True):\n",
        "    p = glob(participant+\"/IBI.csv\")[0]\n",
        "    print(p)\n",
        "    try:\n",
        "      ibis = flirt.reader.empatica.read_ibi_file_into_df(p)\n",
        "      hrv_features = flirt.get_hrv_features(ibis['ibi'])\n",
        "      if(len(hrv_features.columns)>5):\n",
        "        lf[1][i].append(hrv_features['hrv_lf'])\n",
        "        hf[1][i].append(hrv_features['hrv_hf'])\n",
        "    except:\n",
        "      print(\"error\")\n",
        "  i+=1"
      ],
      "metadata": {
        "id": "kUxDLqPxWDZx"
      },
      "execution_count": null,
      "outputs": []
    },
    {
      "cell_type": "code",
      "source": [
        "data = [[[], []], [[], []], [[], []]]\n",
        "i=0\n",
        "for x in lf[:-1]:\n",
        "  j=0\n",
        "  for y in x:\n",
        "    tmp=[]\n",
        "    k=0\n",
        "    for z in y:\n",
        "      tmp.append(np.mean(z.dropna().tolist()))\n",
        "      k+=1\n",
        "    data[0][i].append(tmp)\n",
        "  i+=1\n",
        "i=0\n",
        "for x in hf[:-1]:\n",
        "  j=0\n",
        "  for y in x:\n",
        "    tmp=[]\n",
        "    for z in y:\n",
        "      tmp.append(np.mean(z.dropna().tolist()))\n",
        "    data[1][i].append(tmp)\n",
        "    j+=1\n",
        "  i+=1\n",
        "\n",
        "for i in [0, 1]:\n",
        "  for x,y in zip(data[0][i], data[1][i]):\n",
        "    data[2][i]+=(np.array(np.array(x)/np.array(y))).tolist()\n",
        "\n",
        "\n",
        "print(\"LF/HF\")\n",
        "vr = data[2][1][:25]\n",
        "pc = data[2][0][:25]\n",
        "print(f\"FS: Mdn: {np.median(pc):.2f} ({np.percentile(pc, 25):.2f}-{np.percentile(pc, 75):.2f})\")\n",
        "print(f\"VR: Mdn: {np.median(vr):.2f} ({np.percentile(vr, 25):.2f}-{np.percentile(vr, 75):.2f})\")\n",
        "print(f\"FS: $\\mu: $ {np.mean(pc):.2f}, $\\sigma: $: {np.std(pc):.2f}\")\n",
        "print(f\"VR: $\\mu: $ {np.mean(vr):.2f}, $\\sigma: $: {np.std(vr):.2f}\")\n",
        "print(stats.shapiro(pc))\n",
        "print(stats.shapiro(vr))\n",
        "result = stats.wilcoxon(pc, vr)\n",
        "print(result)\n",
        "print(cohen_d(pc, vr))"
      ],
      "metadata": {
        "colab": {
          "base_uri": "https://localhost:8080/"
        },
        "id": "3UiFaD_YWEdh",
        "outputId": "5f2d4659-b6ed-4688-8223-89360f7b3230"
      },
      "execution_count": 25,
      "outputs": [
        {
          "output_type": "stream",
          "name": "stdout",
          "text": [
            "LF/HF\n",
            "FS: Mdn: 1.43 (0.93-1.67)\n",
            "VR: Mdn: 1.30 (0.86-1.91)\n",
            "FS: $\\mu: $ 1.37, $\\sigma: $: 0.60\n",
            "VR: $\\mu: $ 1.43, $\\sigma: $: 0.63\n",
            "ShapiroResult(statistic=0.9474435448646545, pvalue=0.2194228172302246)\n",
            "ShapiroResult(statistic=0.9661113023757935, pvalue=0.5489005446434021)\n",
            "WilcoxonResult(statistic=146.0, pvalue=0.6720751523971558)\n",
            "-0.09446979083037069\n"
          ]
        }
      ]
    },
    {
      "cell_type": "markdown",
      "source": [
        "#EDA"
      ],
      "metadata": {
        "id": "ysLLNIb8Wzrg"
      }
    },
    {
      "cell_type": "code",
      "source": [
        "#@title cvxEDA Algorith\n",
        "\"\"\"\n",
        "______________________________________________________________________________\n",
        "\n",
        " File:                         cvxEDA.py\n",
        " Last revised:                 07 Nov 2015 r69\n",
        " ______________________________________________________________________________\n",
        "\n",
        " Copyright (C) 2014-2015 Luca Citi, Alberto Greco\n",
        " \n",
        " This program is free software; you can redistribute it and/or modify it under\n",
        " the terms of the GNU General Public License as published by the Free Software\n",
        " Foundation; either version 3 of the License, or (at your option) any later\n",
        " version.\n",
        " \n",
        " This program is distributed in the hope that it will be useful, but WITHOUT\n",
        " ANY WARRANTY; without even the implied warranty of MERCHANTABILITY or FITNESS\n",
        " FOR A PARTICULAR PURPOSE. See the GNU General Public License for more details.\n",
        " \n",
        " You may contact the author by e-mail (lciti@ieee.org).\n",
        " ______________________________________________________________________________\n",
        "\n",
        " This method was first proposed in:\n",
        " A Greco, G Valenza, A Lanata, EP Scilingo, and L Citi\n",
        " \"cvxEDA: a Convex Optimization Approach to Electrodermal Activity Processing\"\n",
        " IEEE Transactions on Biomedical Engineering, 2015\n",
        " DOI: 10.1109/TBME.2015.2474131\n",
        "\n",
        " If you use this program in support of published research, please include a\n",
        " citation of the reference above. If you use this code in a software package,\n",
        " please explicitly inform the end users of this copyright notice and ask them\n",
        " to cite the reference above in their published research.\n",
        " ______________________________________________________________________________\n",
        "\"\"\"\n",
        "\n",
        "import numpy as np\n",
        "import cvxopt as cv\n",
        "import cvxopt.solvers\n",
        "\n",
        "def cvxEDA(y, delta, tau0=2., tau1=0.7, delta_knot=10., alpha=8e-4, gamma=1e-2,\n",
        "           solver=None, options={'reltol':1e-9}):\n",
        "    \"\"\"CVXEDA Convex optimization approach to electrodermal activity processing\n",
        "\n",
        "    This function implements the cvxEDA algorithm described in \"cvxEDA: a\n",
        "    Convex Optimization Approach to Electrodermal Activity Processing\"\n",
        "    (http://dx.doi.org/10.1109/TBME.2015.2474131, also available from the\n",
        "    authors' homepages).\n",
        "    \n",
        "\n",
        "    Arguments:\n",
        "       y: observed EDA signal (we recommend normalizing it: y = zscore(y))\n",
        "       delta: sampling interval (in seconds) of y\n",
        "       tau0: slow time constant of the Bateman function\n",
        "       tau1: fast time constant of the Bateman function\n",
        "       delta_knot: time between knots of the tonic spline function\n",
        "       alpha: penalization for the sparse SMNA driver\n",
        "       gamma: penalization for the tonic spline coefficients\n",
        "       solver: sparse QP solver to be used, see cvxopt.solvers.qp\n",
        "       options: solver options, see:\n",
        "                http://cvxopt.org/userguide/coneprog.html#algorithm-parameters\n",
        "\n",
        "    Returns (see paper for details):\n",
        "       r: phasic component\n",
        "       p: sparse SMNA driver of phasic component\n",
        "       t: tonic component\n",
        "       l: coefficients of tonic spline\n",
        "       d: offset and slope of the linear drift term\n",
        "       e: model residuals\n",
        "       obj: value of objective function being minimized (eq 15 of paper)\n",
        "    \"\"\"\n",
        "\n",
        "    n = len(y)\n",
        "    y = cv.matrix(y)\n",
        "\n",
        "    # bateman ARMA model\n",
        "    a1 = 1./min(tau1, tau0) # a1 > a0\n",
        "    a0 = 1./max(tau1, tau0)\n",
        "    ar = np.array([(a1*delta + 2.) * (a0*delta + 2.), 2.*a1*a0*delta**2 - 8.,\n",
        "        (a1*delta - 2.) * (a0*delta - 2.)]) / ((a1 - a0) * delta**2)\n",
        "    ma = np.array([1., 2., 1.])\n",
        "\n",
        "    # matrices for ARMA model\n",
        "    i = np.arange(2, n)\n",
        "    A = cv.spmatrix(np.tile(ar, (n-2,1)), np.c_[i,i,i], np.c_[i,i-1,i-2], (n,n))\n",
        "    M = cv.spmatrix(np.tile(ma, (n-2,1)), np.c_[i,i,i], np.c_[i,i-1,i-2], (n,n))\n",
        "\n",
        "    # spline\n",
        "    delta_knot_s = int(round(delta_knot / delta))\n",
        "    spl = np.r_[np.arange(1.,delta_knot_s), np.arange(delta_knot_s, 0., -1.)] # order 1\n",
        "    spl = np.convolve(spl, spl, 'full')\n",
        "    spl /= max(spl)\n",
        "    # matrix of spline regressors\n",
        "    i = np.c_[np.arange(-(len(spl)//2), (len(spl)+1)//2)] + np.r_[np.arange(0, n, delta_knot_s)]\n",
        "    nB = i.shape[1]\n",
        "    j = np.tile(np.arange(nB), (len(spl),1))\n",
        "    p = np.tile(spl, (nB,1)).T\n",
        "    valid = (i >= 0) & (i < n)\n",
        "    B = cv.spmatrix(p[valid], i[valid], j[valid])\n",
        "\n",
        "    # trend\n",
        "    C = cv.matrix(np.c_[np.ones(n), np.arange(1., n+1.)/n])\n",
        "    nC = C.size[1]\n",
        "\n",
        "    # Solve the problem:\n",
        "    # .5*(M*q + B*l + C*d - y)^2 + alpha*sum(A,1)*p + .5*gamma*l'*l\n",
        "    # s.t. A*q >= 0\n",
        "\n",
        "    old_options = cv.solvers.options.copy()\n",
        "    cv.solvers.options.clear()\n",
        "    cv.solvers.options.update(options)\n",
        "    if solver == 'conelp':\n",
        "        # Use conelp\n",
        "        z = lambda m,n: cv.spmatrix([],[],[],(m,n))\n",
        "        G = cv.sparse([[-A,z(2,n),M,z(nB+2,n)],[z(n+2,nC),C,z(nB+2,nC)],\n",
        "                    [z(n,1),-1,1,z(n+nB+2,1)],[z(2*n+2,1),-1,1,z(nB,1)],\n",
        "                    [z(n+2,nB),B,z(2,nB),cv.spmatrix(1.0, range(nB), range(nB))]])\n",
        "        h = cv.matrix([z(n,1),.5,.5,y,.5,.5,z(nB,1)])\n",
        "        c = cv.matrix([(cv.matrix(alpha, (1,n)) * A).T,z(nC,1),1,gamma,z(nB,1)])\n",
        "        res = cv.solvers.conelp(c, G, h, dims={'l':n,'q':[n+2,nB+2],'s':[]})\n",
        "        obj = res['primal objective']\n",
        "    else:\n",
        "        # Use qp\n",
        "        Mt, Ct, Bt = M.T, C.T, B.T\n",
        "        H = cv.sparse([[Mt*M, Ct*M, Bt*M], [Mt*C, Ct*C, Bt*C], \n",
        "                    [Mt*B, Ct*B, Bt*B+gamma*cv.spmatrix(1.0, range(nB), range(nB))]])\n",
        "        f = cv.matrix([(cv.matrix(alpha, (1,n)) * A).T - Mt*y,  -(Ct*y), -(Bt*y)])\n",
        "        res = cv.solvers.qp(H, f, cv.spmatrix(-A.V, A.I, A.J, (n,len(f))),\n",
        "                            cv.matrix(0., (n,1)), solver=solver)\n",
        "        obj = res['primal objective'] + .5 * (y.T * y)\n",
        "    cv.solvers.options.clear()\n",
        "    cv.solvers.options.update(old_options)\n",
        "\n",
        "    l = res['x'][-nB:]\n",
        "    d = res['x'][n:n+nC]\n",
        "    t = B*l + C*d\n",
        "    q = res['x'][:n]\n",
        "    p = A * q\n",
        "    r = M * q\n",
        "    e = y - r - t\n",
        "\n",
        "    return [r, p, t, l, d, e, obj]"
      ],
      "metadata": {
        "cellView": "form",
        "id": "2rMc12sjWogy"
      },
      "execution_count": 9,
      "outputs": []
    },
    {
      "cell_type": "code",
      "source": [
        "paths = [\"/content/Phasmophobia\", \"/content/Warthunder\", \"/content/Minecraft\", \"/content/Dirt Rally\"]\n",
        "eda_PC = []\n",
        "eda_VR = []\n",
        "eda_BS = [[], [], []]\n",
        "for path in paths:\n",
        "  for participant in glob(path + \"/*/Baseline\", recursive = True):\n",
        "    p = glob(participant+\"/EDA.csv\")[0]\n",
        "    eda_BS[0].append(flirt.reader.empatica.read_eda_file_into_df(p)[\"eda\"])\n",
        "    eda_BS[1].append(np.mean(flirt.reader.empatica.read_eda_file_into_df(p)[\"eda\"]))\n",
        "    eda_BS[2].append(np.std(flirt.reader.empatica.read_eda_file_into_df(p)[\"eda\"]))\n",
        "  for participant in glob(path + \"/*/PC\", recursive = True):\n",
        "    p = glob(participant+\"/EDA.csv\")[0]\n",
        "    eda_PC.append(flirt.reader.empatica.read_eda_file_into_df(p)[\"eda\"])\n",
        "  for participant in glob(path + \"/*/VR\", recursive = True):\n",
        "    p = glob(participant+\"/EDA.csv\")[0]\n",
        "    eda_VR.append(flirt.reader.empatica.read_eda_file_into_df(p)[\"eda\"])"
      ],
      "metadata": {
        "id": "qXcWL1obXDi5"
      },
      "execution_count": 31,
      "outputs": []
    },
    {
      "cell_type": "code",
      "source": [
        "# 0: Phasic, SCR\n",
        "# 1: Tonic, SCL\n",
        "cvx_eda_PC = [[], [], [], []]\n",
        "cvx_eda_VR = [[], [], [], []]\n",
        "cvx_eda_BS = [[], [], [], []]\n",
        "# 0 - 8  : Phasmophobia\n",
        "# 8 - 15 : Warthunder\n",
        "# 15 - 24: Minecraft\n",
        "# 24 - 33: Dirt Rally\n",
        "i=0\n",
        "j=0\n",
        "for eda in eda_BS[0]:\n",
        "  cvx = cvxEDA(eda, 4)\n",
        "  cvx_eda_BS[j].append([cvx[0], cvx[2]])\n",
        "  i+=1\n",
        "  if(i==8 or i==15 or i==24):\n",
        "    j+=1\n",
        "i=0\n",
        "j=0\n",
        "for eda in eda_PC:\n",
        "  cvx = cvxEDA(eda, 4)\n",
        "  cvx_eda_PC[j].append([cvx[0], cvx[2]])\n",
        "  i+=1\n",
        "  if(i==8 or i==15 or i==24):\n",
        "    j+=1\n",
        "\n",
        "i=0\n",
        "j=0\n",
        "for eda in eda_VR:\n",
        "  cvx = cvxEDA(eda, 4)\n",
        "  cvx_eda_VR[j].append([cvx[0], cvx[2]])\n",
        "  i+=1\n",
        "  if(i==8 or i==15 or i==24):\n",
        "    j+=1"
      ],
      "metadata": {
        "id": "gK4uTSenX0r2"
      },
      "execution_count": null,
      "outputs": []
    },
    {
      "cell_type": "code",
      "source": [
        "# 0: Phasic, SCR\n",
        "# 1: Tonic, SCL\n",
        "# 0 - 8  : Phasmophobia\n",
        "# 8 - 15 : Warthunder\n",
        "# 15 - 24: Minecraft\n",
        "# 24 - 33: Dirt Rally\n",
        "scr_mean = [[], []]\n",
        "tmp=[]\n",
        "i=0\n",
        "j=0\n",
        "for x in cvx_eda_PC:\n",
        "  j=0\n",
        "  for y in x:\n",
        "    tmp.append((np.mean(y[0]) - np.mean(cvx_eda_BS[i][j][0])) / np.std(cvx_eda_BS[i][j][0]))\n",
        "    j+=1\n",
        "  i+=1\n",
        "\n",
        "print(tmp)\n",
        "scr_mean[0] = tmp\n",
        "tmp=[]\n",
        "i=0\n",
        "j=0\n",
        "for x in cvx_eda_VR:\n",
        "  j=0\n",
        "  for y in x:\n",
        "    tmp.append((np.mean(y[0]) - np.mean(cvx_eda_BS[i][j][0])) / np.std(cvx_eda_BS[i][j][0]))\n",
        "    j+=1\n",
        "  i+=1\n",
        "scr_mean[1] = tmp\n",
        "\n",
        "pc = scr_mean[0]\n",
        "vr = scr_mean[1]\n",
        "print(\"SCR\")\n",
        "\n",
        "print(f\"FS: $\\mu$: {np.mean(pc):.2f}, $\\sigma$: {np.std(pc):.2f}\")\n",
        "print(f\"VR: $\\mu$: {np.mean(vr):.2f}, $\\sigma$: {np.std(vr):.2f}\")\n",
        "\n",
        "normalancy_pc = stats.shapiro(pc)\n",
        "normalancy_vr = stats.shapiro(vr)\n",
        "print(f\"FS: {normalancy_pc}\")\n",
        "print(f\"VR: {normalancy_vr}\")\n",
        "\n",
        "result = stats.wilcoxon(pc, vr)\n",
        "print(result)\n",
        "print(cohen_d(pc, vr))"
      ],
      "metadata": {
        "colab": {
          "base_uri": "https://localhost:8080/"
        },
        "id": "GuQBlw0OZViF",
        "outputId": "c3de246f-f7d2-488f-9e0c-a5b9ede99313"
      },
      "execution_count": 35,
      "outputs": [
        {
          "output_type": "stream",
          "name": "stdout",
          "text": [
            "[6.656392564204403, -0.004079743122753311, 0.0, 0.012544785355730913, 8.908308374320173, 3.145025204039363, 6.791807161656111, 0.0, -0.0045098615555116284, 1.6804046300336268, 0.011173551186930822, 0.0, -0.5668127296638737, 0.047500887728772714, 0.008973075646150458, 27.547798161319644, -0.5902047339634644, 2.552390866050881, 0.06689496942505993, 0.1304648456860656, -0.4837596653797841, -0.3713069320939142, 0.021993142204224093, 0.22591009072554347, -0.06989480107247704, 0.717085592322033, -0.03727724183216073, 0.2623425717045436, 31.42282144524508, 25.417615770392977, -0.046012846176576125, -0.012900176511875678, 0.11881972041940722]\n",
            "SCR\n",
            "FS: $\\mu$: 3.44, $\\sigma$: 8.15\n",
            "VR: $\\mu$: 8.33, $\\sigma$: 21.57\n",
            "FS: ShapiroResult(statistic=0.5019032955169678, pvalue=1.8914247945645e-09)\n",
            "VR: ShapiroResult(statistic=0.435427188873291, pvalue=3.778059254333499e-10)\n",
            "WilcoxonResult(statistic=221.0, pvalue=0.28772035596366596)\n",
            "-0.2953178709543927\n"
          ]
        }
      ]
    },
    {
      "cell_type": "markdown",
      "source": [
        "#SAM"
      ],
      "metadata": {
        "id": "Ts_WG4bXbiuJ"
      }
    },
    {
      "cell_type": "code",
      "source": [
        "file = open('SAM.csv')\n",
        "\n",
        "type(file)\n",
        "csvreader = csv.reader(file)\n",
        "sam = []\n",
        "for row in csvreader:\n",
        "  # print(row)\n",
        "  sam.append(row)\n",
        "Games=['LVLA', 'LVHA', 'HVHA', 'HVLA']\n",
        "\n",
        "sam = pd.DataFrame(data=sam[1:],columns=sam[0]) \n",
        "# print(sam.dtypes)\n",
        "sam[\"Arousal\"] = sam[\"Arousal\"].astype(str).astype(float)-1\n",
        "sam[\"Valence\"] = sam[\"Valence\"].astype(str).astype(float)-1\n",
        "sam[\"Dominance\"] = 5-sam[\"Dominance\"].astype(str).astype(float)\n",
        "sam[\"CMA Quadrant\"] = sam[\"Game\"].astype(str)\n",
        "print(sam)"
      ],
      "metadata": {
        "colab": {
          "base_uri": "https://localhost:8080/"
        },
        "id": "phcBSCFebjxy",
        "outputId": "1d2345ba-a494-4ba8-cee5-e3f333c60a57"
      },
      "execution_count": 40,
      "outputs": [
        {
          "output_type": "stream",
          "name": "stdout",
          "text": [
            "   Participant ID  Game  Arousal  Valence  Dominance Type CMA Quadrant\n",
            "0               1  HVHA      3.0      3.0        2.0   FS         HVHA\n",
            "1               2  HVHA      2.0      4.0        0.0   VR         HVHA\n",
            "2               3  HVHA      3.0      2.0        1.0   FS         HVHA\n",
            "3               4  HVHA      4.0      4.0        2.0   VR         HVHA\n",
            "4               5  HVHA      3.0      3.0        2.0   VR         HVHA\n",
            "..            ...   ...      ...      ...        ...  ...          ...\n",
            "61             62  LVLA      1.0      1.0        4.0   VR         LVLA\n",
            "62             63  LVLA      2.0      3.0        2.0   FS         LVLA\n",
            "63             64  LVLA      2.0      3.0        3.0   FS         LVLA\n",
            "64             65  LVLA      1.0      1.0        3.0   VR         LVLA\n",
            "65             66  LVLA      3.0      3.0        2.0   VR         LVLA\n",
            "\n",
            "[66 rows x 7 columns]\n"
          ]
        }
      ]
    },
    {
      "cell_type": "code",
      "source": [
        "print(\"D>2\")\n",
        "print(sam.query(\"Dominance>2\").corr())\n",
        "print(stats.ttest_rel(sam.query(\"Dominance>2\")[\"Arousal\"], sam.query(\"Dominance>2\")[\"Dominance\"]))\n",
        "print(\"D<2\")\n",
        "print(sam.query(\"Dominance<2\").corr())\n",
        "print(stats.ttest_rel(sam.query(\"Dominance<2\")[\"Arousal\"], sam.query(\"Dominance<2\")[\"Dominance\"]))\n",
        "print(\"FS\")\n",
        "print(sam.query(\"Dominance>2 and Type == 'FS'\").corr())\n",
        "print(stats.ttest_rel(sam.query(\"Dominance>2 and Type == 'FS'\")[\"Arousal\"], sam.query(\"Dominance>2 and Type == 'FS'\")[\"Dominance\"]))\n",
        "print(\"VR\")\n",
        "print(sam.query(\"Dominance>2 and Type == 'VR'\").corr())\n",
        "print(stats.ttest_rel(sam.query(\"Dominance>2 and Type == 'VR'\")[\"Arousal\"], sam.query(\"Dominance>2 and Type == 'VR'\")[\"Dominance\"]))"
      ],
      "metadata": {
        "colab": {
          "base_uri": "https://localhost:8080/"
        },
        "id": "lpX54uZKbyhh",
        "outputId": "68c631dc-e4ec-4fe9-8770-18e8aff89144"
      },
      "execution_count": 37,
      "outputs": [
        {
          "output_type": "stream",
          "name": "stdout",
          "text": [
            "D>2\n",
            "            Arousal   Valence  Dominance\n",
            "Arousal    1.000000  0.134675   0.254658\n",
            "Valence    0.134675  1.000000  -0.414781\n",
            "Dominance  0.254658 -0.414781   1.000000\n",
            "Ttest_relResult(statistic=-4.412825517244383, pvalue=0.0007009143210502825)\n",
            "D<2\n",
            "            Arousal   Valence  Dominance\n",
            "Arousal    1.000000 -0.152072  -0.108079\n",
            "Valence   -0.152072  1.000000  -0.472960\n",
            "Dominance -0.108079 -0.472960   1.000000\n",
            "Ttest_relResult(statistic=7.528991584914561, pvalue=1.7428363781152656e-08)\n",
            "FS\n",
            "           Arousal   Valence  Dominance\n",
            "Arousal    1.00000 -0.571870   0.750000\n",
            "Valence   -0.57187  1.000000  -0.419371\n",
            "Dominance  0.75000 -0.419371   1.000000\n",
            "Ttest_relResult(statistic=-4.264014327112209, pvalue=0.002746386674096935)\n",
            "VR\n",
            "            Arousal   Valence  Dominance\n",
            "Arousal    1.000000  0.815942  -0.147442\n",
            "Valence    0.815942  1.000000  -0.395285\n",
            "Dominance -0.147442 -0.395285   1.000000\n",
            "Ttest_relResult(statistic=-2.4494897427831783, pvalue=0.07048399691021993)\n"
          ]
        }
      ]
    },
    {
      "cell_type": "code",
      "source": [
        "for g in Games:\n",
        "  x = sam.query(f'Game==\"{g}\"')\n",
        "  # print(x)\n",
        "  a=x[\"Arousal\"].tolist()\n",
        "  print(f\"{g} Arousal Mdn: {np.median(a):.1f} ({np.percentile(a, 25):.1f} - {np.percentile(a, 75):.1f})\")\n",
        "  a=x[\"Valence\"].tolist()\n",
        "  print(f\"{g} Valence Mdn: {np.median(a):.1f} ({np.percentile(a, 25):.1f} - {np.percentile(a, 75):.1f})\")"
      ],
      "metadata": {
        "colab": {
          "base_uri": "https://localhost:8080/"
        },
        "id": "a_HeAYurb0Sk",
        "outputId": "dc48c5e2-9008-4a7c-e58f-e8a0d07f826e"
      },
      "execution_count": 41,
      "outputs": [
        {
          "output_type": "stream",
          "name": "stdout",
          "text": [
            "LVLA Arousal Mdn: 1.0 (1.0 - 1.8)\n",
            "LVLA Valence Mdn: 2.0 (1.2 - 3.0)\n",
            "LVHA Arousal Mdn: 2.5 (2.0 - 4.0)\n",
            "LVHA Valence Mdn: 2.0 (1.0 - 3.0)\n",
            "HVHA Arousal Mdn: 3.0 (3.0 - 4.0)\n",
            "HVHA Valence Mdn: 3.0 (2.0 - 3.8)\n",
            "HVLA Arousal Mdn: 2.0 (1.0 - 2.8)\n",
            "HVLA Valence Mdn: 3.0 (2.0 - 3.0)\n"
          ]
        }
      ]
    },
    {
      "cell_type": "code",
      "source": [
        "PC = sam.query(f'Type==\"FS\"')\n",
        "VR = sam.query(f'Type==\"VR\"')\n",
        "\n",
        "print(\"Arousal\")\n",
        "pc = PC['Arousal'].tolist()\n",
        "vr = VR['Arousal'].tolist()\n",
        "r = stats.wilcoxon(pc, vr)\n",
        "print(f\"FS: Mdn: {np.median(pc):.2f} ({np.percentile(pc, 25):.2f} - {np.percentile(pc, 75):.2f})\")\n",
        "print(f\"FS: $\\mu = $ {np.mean(pc):.1f} $\\sigma = $ {np.std(pc):.1f}\")\n",
        "print(f\"VR: Mdn: {np.median(vr):.2f} ({np.percentile(vr, 25):.2f} - {np.percentile(vr, 75):.2f})\")\n",
        "print(f\"VR: $\\mu = $ {np.mean(vr):.1f} $\\sigma = $ {np.std(vr):.1f}\")\n",
        "print(f\"W: {r[0]:.1f} p-value: {r[1]:.3f}\")\n",
        "print(f\"d = {cohen_d(pc, vr)}\")\n",
        "\n",
        "print(\"Valence\")\n",
        "pc = PC['Valence']\n",
        "vr = VR['Valence']\n",
        "r = stats.wilcoxon(pc, vr)\n",
        "print(f\"FS: Mdn: {np.median(pc):.2f} ({np.percentile(pc, 25):.2f} - {np.percentile(pc, 75):.2f})\")\n",
        "print(f\"FS: $\\mu = $ {np.mean(pc):.1f} $\\sigma = $ {np.std(pc):.1f}\")\n",
        "print(f\"VR: Mdn: {np.median(vr):.2f} ({np.percentile(vr, 25):.2f} - {np.percentile(vr, 75):.2f})\")\n",
        "print(f\"VR: $\\mu = $ {np.mean(vr):.1f} $\\sigma = $ {np.std(vr):.1f}\")\n",
        "print(f\"W: {r[0]:.1f} p-value: {r[1]:.3f}\")\n",
        "print(f\"d = {cohen_d(pc, vr)}\")\n",
        "\n",
        "print(\"Dominance\")\n",
        "pc = PC['Dominance']\n",
        "vr = VR['Dominance']\n",
        "r = stats.wilcoxon(pc, vr)\n",
        "print(f\"FS: Mdn: {np.median(pc):.2f} ({np.percentile(pc, 25):.2f} - {np.percentile(pc, 75):.2f})\")\n",
        "print(f\"FS: $\\mu = $ {np.mean(pc):.1f} $\\sigma = $ {np.std(pc):.1f}\")\n",
        "print(f\"VR: Mdn: {np.median(vr):.2f} ({np.percentile(vr, 25):.2f} - {np.percentile(vr, 75):.2f})\")\n",
        "print(f\"VR: $\\mu = $ {np.mean(vr):.1f} $\\sigma = $ {np.std(vr):.1f}\")\n",
        "print(f\"W: {r[0]:.1f} p-value: {r[1]:.3f}\")\n",
        "print(f\"d = {cohen_d(pc, vr)}\")"
      ],
      "metadata": {
        "colab": {
          "base_uri": "https://localhost:8080/"
        },
        "id": "XgxqFYQUcMSu",
        "outputId": "c93e43ae-9ae7-4708-96b0-97923b19f3c4"
      },
      "execution_count": 43,
      "outputs": [
        {
          "output_type": "stream",
          "name": "stdout",
          "text": [
            "Arousal\n",
            "FS: Mdn: 2.00 (1.00 - 3.00)\n",
            "FS: $\\mu = $ 2.0 $\\sigma = $ 1.0\n",
            "VR: Mdn: 3.00 (2.00 - 4.00)\n",
            "VR: $\\mu = $ 2.6 $\\sigma = $ 1.3\n",
            "W: 66.5 p-value: 0.007\n",
            "d = -0.5261057786980897\n",
            "Valence\n",
            "FS: Mdn: 2.00 (2.00 - 3.00)\n",
            "FS: $\\mu = $ 2.3 $\\sigma = $ 0.9\n",
            "VR: Mdn: 3.00 (2.00 - 4.00)\n",
            "VR: $\\mu = $ 2.6 $\\sigma = $ 1.2\n",
            "W: 75.5 p-value: 0.262\n",
            "d = -0.308732022447085\n",
            "Dominance\n",
            "FS: Mdn: 2.00 (1.00 - 3.00)\n",
            "FS: $\\mu = $ 1.8 $\\sigma = $ 1.0\n",
            "VR: Mdn: 1.00 (0.00 - 2.00)\n",
            "VR: $\\mu = $ 1.3 $\\sigma = $ 1.1\n",
            "W: 88.0 p-value: 0.020\n",
            "d = 0.5398835767892611\n"
          ]
        }
      ]
    },
    {
      "cell_type": "code",
      "source": [
        "x = sam.query(f'Type==\"VR\"')\n",
        "y = sam.query(f'Type==\"FS\"')\n",
        "rx=np.sqrt(np.square(x['Arousal'].tolist()) + np.square(x['Valence'].tolist()))\n",
        "ry=np.sqrt(np.square(y['Arousal'].tolist()) + np.square(y['Valence'].tolist()))\n",
        "print(f'VR: $\\mu$ {np.mean(rx):.2f}, $\\sigma$ {np.std(rx):.2f}')\n",
        "print(f'FS: $\\mu$ {np.mean(ry):.2f}, $\\sigma$ {np.std(ry):.2f}')\n",
        "print(stats.shapiro(rx))\n",
        "print(stats.shapiro(ry))\n",
        "r = stats.wilcoxon(rx, ry)\n",
        "print(r)\n",
        "print(f\"d = {cohen_d(rx, ry): .2f}\")"
      ],
      "metadata": {
        "colab": {
          "base_uri": "https://localhost:8080/"
        },
        "id": "hF9KYK18c2vo",
        "outputId": "a19dc6f3-45f5-4647-bfb7-ca0980c92cc6"
      },
      "execution_count": 47,
      "outputs": [
        {
          "output_type": "stream",
          "name": "stdout",
          "text": [
            "VR: $\\mu$ 3.92, $\\sigma$ 1.32\n",
            "FS: $\\mu$ 3.22, $\\sigma$ 0.91\n",
            "ShapiroResult(statistic=0.9017432928085327, pvalue=0.005913514643907547)\n",
            "ShapiroResult(statistic=0.9512926340103149, pvalue=0.14510299265384674)\n",
            "WilcoxonResult(statistic=89.5, pvalue=0.003263746056570931)\n",
            "d =  0.61\n"
          ]
        }
      ]
    },
    {
      "cell_type": "code",
      "source": [
        "print(\"Arousal\")\n",
        "pc = PC['Arousal'].tolist()\n",
        "vr = VR['Arousal'].tolist()\n",
        "r = stats.wilcoxon(pc, vr)\n",
        "print(f\"FS: Mdn: {np.median(pc):.2f} ({np.percentile(pc, 25):.2f} - {np.percentile(pc, 75):.2f})\")\n",
        "print(f\"FS: $\\mu = $ {np.mean(pc):.1f} $\\sigma = $ {np.std(pc):.1f}\")\n",
        "print(f\"VR: Mdn: {np.median(vr):.2f} ({np.percentile(vr, 25):.2f} - {np.percentile(vr, 75):.2f})\")\n",
        "print(f\"VR: $\\mu = $ {np.mean(vr):.1f} $\\sigma = $ {np.std(vr):.1f}\")\n",
        "print(f\"W: {r[0]:.1f} p-value: {r[1]:.3f}\")\n",
        "print(f\"d = {cohen_d(pc, vr)}\")\n",
        "\n",
        "print(\"Valence\")\n",
        "pc = PC['Valence']\n",
        "vr = VR['Valence']\n",
        "r = stats.wilcoxon(pc, vr)\n",
        "print(f\"FS: Mdn: {np.median(pc):.2f} ({np.percentile(pc, 25):.2f} - {np.percentile(pc, 75):.2f})\")\n",
        "print(f\"FS: $\\mu = $ {np.mean(pc):.1f} $\\sigma = $ {np.std(pc):.1f}\")\n",
        "print(f\"VR: Mdn: {np.median(vr):.2f} ({np.percentile(vr, 25):.2f} - {np.percentile(vr, 75):.2f})\")\n",
        "print(f\"VR: $\\mu = $ {np.mean(vr):.1f} $\\sigma = $ {np.std(vr):.1f}\")\n",
        "print(f\"W: {r[0]:.1f} p-value: {r[1]:.3f}\")\n",
        "print(f\"d = {cohen_d(pc, vr)}\")\n",
        "\n",
        "print(\"Dominance\")\n",
        "pc = PC['Dominance']\n",
        "vr = VR['Dominance']\n",
        "r = stats.wilcoxon(pc, vr)\n",
        "print(f\"FS: Mdn: {np.median(pc):.2f} ({np.percentile(pc, 25):.2f} - {np.percentile(pc, 75):.2f})\")\n",
        "print(f\"FS: $\\mu = $ {np.mean(pc):.1f} $\\sigma = $ {np.std(pc):.1f}\")\n",
        "print(f\"VR: Mdn: {np.median(vr):.2f} ({np.percentile(vr, 25):.2f} - {np.percentile(vr, 75):.2f})\")\n",
        "print(f\"VR: $\\mu = $ {np.mean(vr):.1f} $\\sigma = $ {np.std(vr):.1f}\")\n",
        "print(f\"W: {r[0]:.1f} p-value: {r[1]:.3f}\")\n",
        "print(f\"d = {cohen_d(pc, vr)}\")"
      ],
      "metadata": {
        "colab": {
          "base_uri": "https://localhost:8080/"
        },
        "id": "NiWk7W0_cdD_",
        "outputId": "30bdaad5-1cbd-42d6-d158-9bc7e5103f34"
      },
      "execution_count": 44,
      "outputs": [
        {
          "output_type": "stream",
          "name": "stdout",
          "text": [
            "Arousal\n",
            "FS: Mdn: 2.00 (1.00 - 3.00)\n",
            "FS: $\\mu = $ 2.0 $\\sigma = $ 1.0\n",
            "VR: Mdn: 3.00 (2.00 - 4.00)\n",
            "VR: $\\mu = $ 2.6 $\\sigma = $ 1.3\n",
            "W: 66.5 p-value: 0.007\n",
            "d = -0.5261057786980897\n",
            "Valence\n",
            "FS: Mdn: 2.00 (2.00 - 3.00)\n",
            "FS: $\\mu = $ 2.3 $\\sigma = $ 0.9\n",
            "VR: Mdn: 3.00 (2.00 - 4.00)\n",
            "VR: $\\mu = $ 2.6 $\\sigma = $ 1.2\n",
            "W: 75.5 p-value: 0.262\n",
            "d = -0.308732022447085\n",
            "Dominance\n",
            "FS: Mdn: 2.00 (1.00 - 3.00)\n",
            "FS: $\\mu = $ 1.8 $\\sigma = $ 1.0\n",
            "VR: Mdn: 1.00 (0.00 - 2.00)\n",
            "VR: $\\mu = $ 1.3 $\\sigma = $ 1.1\n",
            "W: 88.0 p-value: 0.020\n",
            "d = 0.5398835767892611\n"
          ]
        }
      ]
    },
    {
      "cell_type": "code",
      "source": [
        "import scikit_posthocs as sp\n",
        "# PC-VR-Mix\n",
        "Games=['LVLA', 'LVHA', 'HVHA', 'HVLA']\n",
        "arousal=[[], [], []]\n",
        "valence=[[], [], []]\n",
        "\n",
        "bygame=[[], [], [], []]\n",
        "bygame[0] = sam[sam['Game'] == 'LVLA']\n",
        "bygame[1] = sam[sam['Game'] == 'LVHA']\n",
        "bygame[2] = sam[sam['Game'] == 'HVHA']\n",
        "bygame[3] = sam[sam['Game'] == 'HVLA']\n",
        "\n",
        "for (i, df) in enumerate(bygame):\n",
        "  # print(Games[i])\n",
        "\n",
        "  # Mix\n",
        "  # print(\"\")\n",
        "  ar = df['Arousal'].tolist()\n",
        "  vl = df['Valence'].tolist()\n",
        "  # print(f\"{np.mean(ar)} {np.std(ar)}\")\n",
        "  # print(f\"{np.mean(vl)} {np.std(vl)}\")\n",
        "  arousal[2].append(ar)\n",
        "  valence[2].append(vl)\n",
        "\n",
        "  ar = df.query('Type==\"FS\"')['Arousal'].tolist()\n",
        "  vl = df.query('Type==\"FS\"')['Valence'].tolist()\n",
        "  arousal[0].append(ar)\n",
        "  valence[0].append(vl)\n",
        "\n",
        "  ar = df.query('Type==\"VR\"')['Arousal'].tolist()\n",
        "  vl = df.query('Type==\"VR\"')['Valence'].tolist()\n",
        "  arousal[1].append(ar)\n",
        "  valence[1].append(vl)\n",
        "\n",
        "for i in range(2,3):\n",
        "  print([\"PC\", \"VR\", \"All\"][i])\n",
        "  print(\"Arousal\")\n",
        "  result = stats.kruskal(arousal[i][0], arousal[i][1], arousal[i][2], arousal[i][3])\n",
        "  print(result)\n",
        "  \n",
        "\n",
        "  print(\"Valence\")\n",
        "  result = stats.kruskal(valence[i][0], valence[i][1], valence[i][2], valence[i][3])\n",
        "  print(result)\n",
        "  print()\n",
        "  # for j in range(4):\n",
        "  #   print(Games[j])\n",
        "  #   print(f\"Arousal: M {np.mean(arousal[i][j]):0.2f}, SD {np.std(arousal[i][j]):0.2f}\")\n",
        "  #   print(f\"Valence: M {np.mean(valence[i][j]):0.2f}, SD {np.std(valence[i][j]):0.2f}\")\n",
        "  \n",
        "  print(\"Post hoc: \")\n",
        "  adf = sam[['Arousal', 'CMA Quadrant']].copy()\n",
        "  print(\"\\nArousal\")\n",
        "  ph = sp.posthoc_dunn(sam, group_col='CMA Quadrant', val_col='Arousal')\n",
        "  print(ph)\n",
        "  print(\"\\nValence\")\n",
        "  ph = sp.posthoc_dunn(sam, group_col='CMA Quadrant', val_col='Arousal')\n",
        "  print(ph)"
      ],
      "metadata": {
        "colab": {
          "base_uri": "https://localhost:8080/"
        },
        "id": "2L89mntecn4t",
        "outputId": "9f9fce0c-65de-4870-90df-9007d95fd80c"
      },
      "execution_count": 48,
      "outputs": [
        {
          "output_type": "stream",
          "name": "stdout",
          "text": [
            "All\n",
            "Arousal\n",
            "KruskalResult(statistic=30.671288942014424, pvalue=9.96883973452592e-07)\n",
            "Valence\n",
            "KruskalResult(statistic=4.75557827232003, pvalue=0.19059511595420348)\n",
            "\n",
            "Post hoc: \n",
            "\n",
            "Arousal\n",
            "              HVHA      HVLA      LVHA          LVLA\n",
            "HVHA  1.000000e+00  0.002271  0.156609  1.364451e-07\n",
            "HVLA  2.271275e-03  1.000000  0.100571  6.047019e-02\n",
            "LVHA  1.566091e-01  0.100571  1.000000  2.189760e-04\n",
            "LVLA  1.364451e-07  0.060470  0.000219  1.000000e+00\n",
            "\n",
            "Valence\n",
            "              HVHA      HVLA      LVHA          LVLA\n",
            "HVHA  1.000000e+00  0.002271  0.156609  1.364451e-07\n",
            "HVLA  2.271275e-03  1.000000  0.100571  6.047019e-02\n",
            "LVHA  1.566091e-01  0.100571  1.000000  2.189760e-04\n",
            "LVLA  1.364451e-07  0.060470  0.000219  1.000000e+00\n"
          ]
        }
      ]
    },
    {
      "cell_type": "markdown",
      "source": [
        "#VAS"
      ],
      "metadata": {
        "id": "djX258s3dGNf"
      }
    },
    {
      "cell_type": "code",
      "source": [
        "file = open('VAS.csv')\n",
        "\n",
        "type(file)\n",
        "csvreader = csv.reader(file)\n",
        "vas = []\n",
        "for row in csvreader:\n",
        "  # print(row)\n",
        "  vas.append(row)\n",
        "\n",
        "vas = pd.DataFrame(data=vas[1:],columns=vas[0]) \n",
        "vas[\"CMA Quadrant\"] = vas[\"Game\"].astype(str)"
      ],
      "metadata": {
        "id": "PtukJgLldHaD"
      },
      "execution_count": 49,
      "outputs": []
    },
    {
      "cell_type": "code",
      "source": [
        "columns = ['Joy', 'Anger', 'Calmness', 'Sadness', 'Disgust', 'Relaxation', 'Happiness', 'Fear', 'Anxiousness', 'Dizziness']\n",
        "\n",
        "for c in columns:\n",
        "  vas[c] = vas[c].astype(str).astype(float)\n",
        "print(vas.dtypes)"
      ],
      "metadata": {
        "colab": {
          "base_uri": "https://localhost:8080/"
        },
        "id": "GS1i3RG9dJcd",
        "outputId": "ca518ec2-fa75-4c9e-97db-f46563b7bb08"
      },
      "execution_count": 50,
      "outputs": [
        {
          "output_type": "stream",
          "name": "stdout",
          "text": [
            "Id               object\n",
            "Game             object\n",
            "Dropdown         object\n",
            "Joy             float64\n",
            "Anger           float64\n",
            "Calmness        float64\n",
            "Sadness         float64\n",
            "Disgust         float64\n",
            "Relaxation      float64\n",
            "Happiness       float64\n",
            "Fear            float64\n",
            "Anxiousness     float64\n",
            "Dizziness       float64\n",
            "CMA Quadrant     object\n",
            "dtype: object\n"
          ]
        }
      ]
    },
    {
      "cell_type": "code",
      "source": [
        "arr=[]\n",
        "columns = ['Joy', 'Anger', 'Calmness', 'Sadness', 'Disgust', 'Relaxation', 'Happiness', 'Fear', 'Anxiousness', 'Dizziness']\n",
        "games = [\"HVHA\", \"HVLA\", \"LVHA\", \"LVLA\"]\n",
        "for g in games:\n",
        "  # print(g)\n",
        "  pcg = PC[PC['Game'] == g]\n",
        "  vrg = VR[VR['Game'] == g]\n",
        "  for c in columns:\n",
        "    # print(c)\n",
        "    df = pd.DataFrame(pcg[c].tolist(), columns = [\"Val\"])\n",
        "    df[\"Game\"] = g\n",
        "    df[\"Emotion\"] = c\n",
        "    df[\"Type\"] = \"FS\"\n",
        "    arr.append(df)\n",
        "    df = pd.DataFrame(vrg[c].tolist(), columns = [\"Val\"])\n",
        "    df[\"Game\"] = g\n",
        "    df[\"Emotion\"] = c\n",
        "    df[\"Type\"] = \"VR\"\n",
        "    arr.append(df)\n",
        "\n",
        "df =  pd.concat(arr, ignore_index=True)\n",
        "print(df)"
      ],
      "metadata": {
        "colab": {
          "base_uri": "https://localhost:8080/"
        },
        "id": "VziOdJWqdkJr",
        "outputId": "c2c803e4-53f1-4fcd-b34c-9cff800a46e1"
      },
      "execution_count": 53,
      "outputs": [
        {
          "output_type": "stream",
          "name": "stdout",
          "text": [
            "      Val  Game    Emotion Type\n",
            "0    75.0  HVHA        Joy   FS\n",
            "1    69.0  HVHA        Joy   FS\n",
            "2    28.0  HVHA        Joy   FS\n",
            "3    47.0  HVHA        Joy   FS\n",
            "4    50.0  HVHA        Joy   FS\n",
            "..    ...   ...        ...  ...\n",
            "655  38.0  LVLA  Dizziness   VR\n",
            "656  49.0  LVLA  Dizziness   VR\n",
            "657  65.0  LVLA  Dizziness   VR\n",
            "658  17.0  LVLA  Dizziness   VR\n",
            "659  30.0  LVLA  Dizziness   VR\n",
            "\n",
            "[660 rows x 4 columns]\n"
          ]
        }
      ]
    },
    {
      "cell_type": "code",
      "source": [
        "for e in columns:\n",
        "  # print(e)\n",
        "  d = df.query(f'Emotion==\"{e}\"')\n",
        "  x = d.query('Type==\"VR\"')[\"Val\"].tolist()\n",
        "  y = d.query('Type==\"FS\"')[\"Val\"].tolist()\n",
        "  result=stats.wilcoxon(x, y)\n",
        "  print(f\"{e}: W: {result[0]:.2f}, p-value: {result[1]:.4f}\")\n",
        "  print(f\"d = {cohen_d(x, y): .2f}\")"
      ],
      "metadata": {
        "colab": {
          "base_uri": "https://localhost:8080/"
        },
        "id": "uS8sQPD6dKyD",
        "outputId": "8ae1f104-04eb-4f25-9dd3-2032376b0ba9"
      },
      "execution_count": 54,
      "outputs": [
        {
          "output_type": "stream",
          "name": "stdout",
          "text": [
            "Joy: W: 101.50, p-value: 0.0041\n",
            "d =  0.56\n",
            "Anger: W: 171.50, p-value: 0.3198\n",
            "d =  0.20\n",
            "Calmness: W: 107.50, p-value: 0.1389\n",
            "d = -0.19\n",
            "Sadness: W: 48.00, p-value: 0.3007\n",
            "d = -0.12\n",
            "Disgust: W: 50.50, p-value: 0.2176\n",
            "d =  0.11\n",
            "Relaxation: W: 93.00, p-value: 0.1708\n",
            "d = -0.18\n",
            "Happiness: W: 174.00, p-value: 0.1469\n",
            "d =  0.21\n",
            "Fear: W: 184.00, p-value: 0.2096\n",
            "d =  0.27\n",
            "Anxiousness: W: 260.50, p-value: 0.9478\n",
            "d =  0.08\n",
            "Dizziness: W: 8.50, p-value: 0.0000\n",
            "d =  1.25\n"
          ]
        }
      ]
    }
  ]
}